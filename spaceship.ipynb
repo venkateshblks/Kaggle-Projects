{
 "cells": [
  {
   "cell_type": "code",
   "execution_count": 1,
   "id": "5e0c852a",
   "metadata": {
    "_cell_guid": "b1076dfc-b9ad-4769-8c92-a6c4dae69d19",
    "_uuid": "8f2839f25d086af736a60e9eeb907d3b93b6e0e5",
    "execution": {
     "iopub.execute_input": "2024-07-23T11:35:24.608914Z",
     "iopub.status.busy": "2024-07-23T11:35:24.608498Z",
     "iopub.status.idle": "2024-07-23T11:35:25.882745Z",
     "shell.execute_reply": "2024-07-23T11:35:25.880967Z"
    },
    "papermill": {
     "duration": 1.314888,
     "end_time": "2024-07-23T11:35:25.885693",
     "exception": false,
     "start_time": "2024-07-23T11:35:24.570805",
     "status": "completed"
    },
    "tags": []
   },
   "outputs": [
    {
     "name": "stdout",
     "output_type": "stream",
     "text": [
      "/kaggle/input/spaceship-titanic/sample_submission.csv\n",
      "/kaggle/input/spaceship-titanic/train.csv\n",
      "/kaggle/input/spaceship-titanic/test.csv\n"
     ]
    }
   ],
   "source": [
    "# This Python 3 environment comes with many helpful analytics libraries installed\n",
    "# It is defined by the kaggle/python Docker image: https://github.com/kaggle/docker-python\n",
    "# For example, here's several helpful packages to load\n",
    "\n",
    "import numpy as np # linear algebra\n",
    "import pandas as pd # data processing, CSV file I/O (e.g. pd.read_csv)\n",
    "\n",
    "# Input data files are available in the read-only \"../input/\" directory\n",
    "# For example, running this (by clicking run or pressing Shift+Enter) will list all files under the input directory\n",
    "\n",
    "import os\n",
    "for dirname, _, filenames in os.walk('/kaggle/input'):\n",
    "    for filename in filenames:\n",
    "        print(os.path.join(dirname, filename))\n",
    "\n",
    "# You can write up to 20GB to the current directory (/kaggle/working/) that gets preserved as output when you create a version using \"Save & Run All\" \n",
    "# You can also write temporary files to /kaggle/temp/, but they won't be saved outside of the current session"
   ]
  },
  {
   "cell_type": "code",
   "execution_count": 2,
   "id": "e6088473",
   "metadata": {
    "execution": {
     "iopub.execute_input": "2024-07-23T11:35:25.962760Z",
     "iopub.status.busy": "2024-07-23T11:35:25.962206Z",
     "iopub.status.idle": "2024-07-23T11:35:25.968839Z",
     "shell.execute_reply": "2024-07-23T11:35:25.967275Z"
    },
    "papermill": {
     "duration": 0.049452,
     "end_time": "2024-07-23T11:35:25.972821",
     "exception": false,
     "start_time": "2024-07-23T11:35:25.923369",
     "status": "completed"
    },
    "tags": []
   },
   "outputs": [],
   "source": [
    "# pd.read_csv('/kaggle/input/spaceship-titanic/sample_submission.csv')"
   ]
  },
  {
   "cell_type": "code",
   "execution_count": 3,
   "id": "9cf40ea4",
   "metadata": {
    "execution": {
     "iopub.execute_input": "2024-07-23T11:35:26.048398Z",
     "iopub.status.busy": "2024-07-23T11:35:26.047921Z",
     "iopub.status.idle": "2024-07-23T11:35:32.783981Z",
     "shell.execute_reply": "2024-07-23T11:35:32.782682Z"
    },
    "papermill": {
     "duration": 6.775522,
     "end_time": "2024-07-23T11:35:32.786815",
     "exception": false,
     "start_time": "2024-07-23T11:35:26.011293",
     "status": "completed"
    },
    "tags": []
   },
   "outputs": [],
   "source": [
    "import seaborn as sns\n",
    "import matplotlib.pyplot as plt\n",
    "\n",
    "import plotly.express as px\n",
    "import plotly.graph_objects as go\n",
    "import plotly.figure_factory as ff\n",
    "from plotly.subplots import make_subplots\n",
    "# Feature Selection - Lasso\n",
    "from sklearn.linear_model import LassoCV\n",
    "# Modeling\n",
    "from sklearn.model_selection import GridSearchCV\n",
    "from sklearn.model_selection import train_test_split\n",
    "from sklearn.metrics import accuracy_score\n",
    "\n",
    "# Machine Learning Algorithm\n",
    "from sklearn.linear_model import LogisticRegression\n",
    "from sklearn.ensemble import RandomForestClassifier\n",
    "from xgboost import XGBClassifier\n",
    "from lightgbm import LGBMClassifier, LGBMRegressor\n",
    "from catboost import CatBoostClassifier, Pool\n",
    "\n",
    "from sklearn.linear_model import LogisticRegression\n",
    "from sklearn.tree import DecisionTreeClassifier\n",
    "from sklearn.ensemble import RandomForestClassifier, GradientBoostingClassifier\n",
    "from sklearn.svm import SVC\n",
    "from sklearn.neighbors import KNeighborsClassifier\n",
    "from sklearn.neural_network import MLPClassifier\n",
    "from xgboost import XGBClassifier\n",
    "from sklearn.metrics import accuracy_score,classification_report,precision_score, recall_score, f1_score, confusion_matrix, roc_auc_score"
   ]
  },
  {
   "cell_type": "code",
   "execution_count": 4,
   "id": "7e29832b",
   "metadata": {
    "execution": {
     "iopub.execute_input": "2024-07-23T11:35:32.859139Z",
     "iopub.status.busy": "2024-07-23T11:35:32.858473Z",
     "iopub.status.idle": "2024-07-23T11:35:32.863913Z",
     "shell.execute_reply": "2024-07-23T11:35:32.862727Z"
    },
    "papermill": {
     "duration": 0.044371,
     "end_time": "2024-07-23T11:35:32.866295",
     "exception": false,
     "start_time": "2024-07-23T11:35:32.821924",
     "status": "completed"
    },
    "tags": []
   },
   "outputs": [],
   "source": [
    "import warnings\n",
    "warnings.filterwarnings('ignore')"
   ]
  },
  {
   "cell_type": "markdown",
   "id": "276e0a93",
   "metadata": {
    "papermill": {
     "duration": 0.034875,
     "end_time": "2024-07-23T11:35:32.935487",
     "exception": false,
     "start_time": "2024-07-23T11:35:32.900612",
     "status": "completed"
    },
    "tags": []
   },
   "source": [
    "## Data"
   ]
  },
  {
   "cell_type": "code",
   "execution_count": 5,
   "id": "7183be1d",
   "metadata": {
    "execution": {
     "iopub.execute_input": "2024-07-23T11:35:33.008547Z",
     "iopub.status.busy": "2024-07-23T11:35:33.007041Z",
     "iopub.status.idle": "2024-07-23T11:35:33.138909Z",
     "shell.execute_reply": "2024-07-23T11:35:33.137496Z"
    },
    "papermill": {
     "duration": 0.170361,
     "end_time": "2024-07-23T11:35:33.141852",
     "exception": false,
     "start_time": "2024-07-23T11:35:32.971491",
     "status": "completed"
    },
    "tags": []
   },
   "outputs": [
    {
     "data": {
      "text/html": [
       "<div>\n",
       "<style scoped>\n",
       "    .dataframe tbody tr th:only-of-type {\n",
       "        vertical-align: middle;\n",
       "    }\n",
       "\n",
       "    .dataframe tbody tr th {\n",
       "        vertical-align: top;\n",
       "    }\n",
       "\n",
       "    .dataframe thead th {\n",
       "        text-align: right;\n",
       "    }\n",
       "</style>\n",
       "<table border=\"1\" class=\"dataframe\">\n",
       "  <thead>\n",
       "    <tr style=\"text-align: right;\">\n",
       "      <th></th>\n",
       "      <th>PassengerId</th>\n",
       "      <th>HomePlanet</th>\n",
       "      <th>CryoSleep</th>\n",
       "      <th>Cabin</th>\n",
       "      <th>Destination</th>\n",
       "      <th>Age</th>\n",
       "      <th>VIP</th>\n",
       "      <th>RoomService</th>\n",
       "      <th>FoodCourt</th>\n",
       "      <th>ShoppingMall</th>\n",
       "      <th>Spa</th>\n",
       "      <th>VRDeck</th>\n",
       "      <th>Name</th>\n",
       "      <th>Transported</th>\n",
       "    </tr>\n",
       "  </thead>\n",
       "  <tbody>\n",
       "    <tr>\n",
       "      <th>0</th>\n",
       "      <td>0001_01</td>\n",
       "      <td>Europa</td>\n",
       "      <td>False</td>\n",
       "      <td>B/0/P</td>\n",
       "      <td>TRAPPIST-1e</td>\n",
       "      <td>39.0</td>\n",
       "      <td>False</td>\n",
       "      <td>0.0</td>\n",
       "      <td>0.0</td>\n",
       "      <td>0.0</td>\n",
       "      <td>0.0</td>\n",
       "      <td>0.0</td>\n",
       "      <td>Maham Ofracculy</td>\n",
       "      <td>False</td>\n",
       "    </tr>\n",
       "    <tr>\n",
       "      <th>1</th>\n",
       "      <td>0002_01</td>\n",
       "      <td>Earth</td>\n",
       "      <td>False</td>\n",
       "      <td>F/0/S</td>\n",
       "      <td>TRAPPIST-1e</td>\n",
       "      <td>24.0</td>\n",
       "      <td>False</td>\n",
       "      <td>109.0</td>\n",
       "      <td>9.0</td>\n",
       "      <td>25.0</td>\n",
       "      <td>549.0</td>\n",
       "      <td>44.0</td>\n",
       "      <td>Juanna Vines</td>\n",
       "      <td>True</td>\n",
       "    </tr>\n",
       "    <tr>\n",
       "      <th>2</th>\n",
       "      <td>0003_01</td>\n",
       "      <td>Europa</td>\n",
       "      <td>False</td>\n",
       "      <td>A/0/S</td>\n",
       "      <td>TRAPPIST-1e</td>\n",
       "      <td>58.0</td>\n",
       "      <td>True</td>\n",
       "      <td>43.0</td>\n",
       "      <td>3576.0</td>\n",
       "      <td>0.0</td>\n",
       "      <td>6715.0</td>\n",
       "      <td>49.0</td>\n",
       "      <td>Altark Susent</td>\n",
       "      <td>False</td>\n",
       "    </tr>\n",
       "    <tr>\n",
       "      <th>3</th>\n",
       "      <td>0003_02</td>\n",
       "      <td>Europa</td>\n",
       "      <td>False</td>\n",
       "      <td>A/0/S</td>\n",
       "      <td>TRAPPIST-1e</td>\n",
       "      <td>33.0</td>\n",
       "      <td>False</td>\n",
       "      <td>0.0</td>\n",
       "      <td>1283.0</td>\n",
       "      <td>371.0</td>\n",
       "      <td>3329.0</td>\n",
       "      <td>193.0</td>\n",
       "      <td>Solam Susent</td>\n",
       "      <td>False</td>\n",
       "    </tr>\n",
       "    <tr>\n",
       "      <th>4</th>\n",
       "      <td>0004_01</td>\n",
       "      <td>Earth</td>\n",
       "      <td>False</td>\n",
       "      <td>F/1/S</td>\n",
       "      <td>TRAPPIST-1e</td>\n",
       "      <td>16.0</td>\n",
       "      <td>False</td>\n",
       "      <td>303.0</td>\n",
       "      <td>70.0</td>\n",
       "      <td>151.0</td>\n",
       "      <td>565.0</td>\n",
       "      <td>2.0</td>\n",
       "      <td>Willy Santantines</td>\n",
       "      <td>True</td>\n",
       "    </tr>\n",
       "    <tr>\n",
       "      <th>...</th>\n",
       "      <td>...</td>\n",
       "      <td>...</td>\n",
       "      <td>...</td>\n",
       "      <td>...</td>\n",
       "      <td>...</td>\n",
       "      <td>...</td>\n",
       "      <td>...</td>\n",
       "      <td>...</td>\n",
       "      <td>...</td>\n",
       "      <td>...</td>\n",
       "      <td>...</td>\n",
       "      <td>...</td>\n",
       "      <td>...</td>\n",
       "      <td>...</td>\n",
       "    </tr>\n",
       "    <tr>\n",
       "      <th>8688</th>\n",
       "      <td>9276_01</td>\n",
       "      <td>Europa</td>\n",
       "      <td>False</td>\n",
       "      <td>A/98/P</td>\n",
       "      <td>55 Cancri e</td>\n",
       "      <td>41.0</td>\n",
       "      <td>True</td>\n",
       "      <td>0.0</td>\n",
       "      <td>6819.0</td>\n",
       "      <td>0.0</td>\n",
       "      <td>1643.0</td>\n",
       "      <td>74.0</td>\n",
       "      <td>Gravior Noxnuther</td>\n",
       "      <td>False</td>\n",
       "    </tr>\n",
       "    <tr>\n",
       "      <th>8689</th>\n",
       "      <td>9278_01</td>\n",
       "      <td>Earth</td>\n",
       "      <td>True</td>\n",
       "      <td>G/1499/S</td>\n",
       "      <td>PSO J318.5-22</td>\n",
       "      <td>18.0</td>\n",
       "      <td>False</td>\n",
       "      <td>0.0</td>\n",
       "      <td>0.0</td>\n",
       "      <td>0.0</td>\n",
       "      <td>0.0</td>\n",
       "      <td>0.0</td>\n",
       "      <td>Kurta Mondalley</td>\n",
       "      <td>False</td>\n",
       "    </tr>\n",
       "    <tr>\n",
       "      <th>8690</th>\n",
       "      <td>9279_01</td>\n",
       "      <td>Earth</td>\n",
       "      <td>False</td>\n",
       "      <td>G/1500/S</td>\n",
       "      <td>TRAPPIST-1e</td>\n",
       "      <td>26.0</td>\n",
       "      <td>False</td>\n",
       "      <td>0.0</td>\n",
       "      <td>0.0</td>\n",
       "      <td>1872.0</td>\n",
       "      <td>1.0</td>\n",
       "      <td>0.0</td>\n",
       "      <td>Fayey Connon</td>\n",
       "      <td>True</td>\n",
       "    </tr>\n",
       "    <tr>\n",
       "      <th>8691</th>\n",
       "      <td>9280_01</td>\n",
       "      <td>Europa</td>\n",
       "      <td>False</td>\n",
       "      <td>E/608/S</td>\n",
       "      <td>55 Cancri e</td>\n",
       "      <td>32.0</td>\n",
       "      <td>False</td>\n",
       "      <td>0.0</td>\n",
       "      <td>1049.0</td>\n",
       "      <td>0.0</td>\n",
       "      <td>353.0</td>\n",
       "      <td>3235.0</td>\n",
       "      <td>Celeon Hontichre</td>\n",
       "      <td>False</td>\n",
       "    </tr>\n",
       "    <tr>\n",
       "      <th>8692</th>\n",
       "      <td>9280_02</td>\n",
       "      <td>Europa</td>\n",
       "      <td>False</td>\n",
       "      <td>E/608/S</td>\n",
       "      <td>TRAPPIST-1e</td>\n",
       "      <td>44.0</td>\n",
       "      <td>False</td>\n",
       "      <td>126.0</td>\n",
       "      <td>4688.0</td>\n",
       "      <td>0.0</td>\n",
       "      <td>0.0</td>\n",
       "      <td>12.0</td>\n",
       "      <td>Propsh Hontichre</td>\n",
       "      <td>True</td>\n",
       "    </tr>\n",
       "  </tbody>\n",
       "</table>\n",
       "<p>8693 rows × 14 columns</p>\n",
       "</div>"
      ],
      "text/plain": [
       "     PassengerId HomePlanet CryoSleep     Cabin    Destination   Age    VIP  \\\n",
       "0        0001_01     Europa     False     B/0/P    TRAPPIST-1e  39.0  False   \n",
       "1        0002_01      Earth     False     F/0/S    TRAPPIST-1e  24.0  False   \n",
       "2        0003_01     Europa     False     A/0/S    TRAPPIST-1e  58.0   True   \n",
       "3        0003_02     Europa     False     A/0/S    TRAPPIST-1e  33.0  False   \n",
       "4        0004_01      Earth     False     F/1/S    TRAPPIST-1e  16.0  False   \n",
       "...          ...        ...       ...       ...            ...   ...    ...   \n",
       "8688     9276_01     Europa     False    A/98/P    55 Cancri e  41.0   True   \n",
       "8689     9278_01      Earth      True  G/1499/S  PSO J318.5-22  18.0  False   \n",
       "8690     9279_01      Earth     False  G/1500/S    TRAPPIST-1e  26.0  False   \n",
       "8691     9280_01     Europa     False   E/608/S    55 Cancri e  32.0  False   \n",
       "8692     9280_02     Europa     False   E/608/S    TRAPPIST-1e  44.0  False   \n",
       "\n",
       "      RoomService  FoodCourt  ShoppingMall     Spa  VRDeck               Name  \\\n",
       "0             0.0        0.0           0.0     0.0     0.0    Maham Ofracculy   \n",
       "1           109.0        9.0          25.0   549.0    44.0       Juanna Vines   \n",
       "2            43.0     3576.0           0.0  6715.0    49.0      Altark Susent   \n",
       "3             0.0     1283.0         371.0  3329.0   193.0       Solam Susent   \n",
       "4           303.0       70.0         151.0   565.0     2.0  Willy Santantines   \n",
       "...           ...        ...           ...     ...     ...                ...   \n",
       "8688          0.0     6819.0           0.0  1643.0    74.0  Gravior Noxnuther   \n",
       "8689          0.0        0.0           0.0     0.0     0.0    Kurta Mondalley   \n",
       "8690          0.0        0.0        1872.0     1.0     0.0       Fayey Connon   \n",
       "8691          0.0     1049.0           0.0   353.0  3235.0   Celeon Hontichre   \n",
       "8692        126.0     4688.0           0.0     0.0    12.0   Propsh Hontichre   \n",
       "\n",
       "      Transported  \n",
       "0           False  \n",
       "1            True  \n",
       "2           False  \n",
       "3           False  \n",
       "4            True  \n",
       "...           ...  \n",
       "8688        False  \n",
       "8689        False  \n",
       "8690         True  \n",
       "8691        False  \n",
       "8692         True  \n",
       "\n",
       "[8693 rows x 14 columns]"
      ]
     },
     "execution_count": 5,
     "metadata": {},
     "output_type": "execute_result"
    }
   ],
   "source": [
    "train=pd.read_csv('/kaggle/input/spaceship-titanic/train.csv')\n",
    "train"
   ]
  },
  {
   "cell_type": "code",
   "execution_count": 6,
   "id": "760b18ef",
   "metadata": {
    "execution": {
     "iopub.execute_input": "2024-07-23T11:35:33.216288Z",
     "iopub.status.busy": "2024-07-23T11:35:33.214970Z",
     "iopub.status.idle": "2024-07-23T11:35:33.275429Z",
     "shell.execute_reply": "2024-07-23T11:35:33.273950Z"
    },
    "papermill": {
     "duration": 0.100366,
     "end_time": "2024-07-23T11:35:33.278195",
     "exception": false,
     "start_time": "2024-07-23T11:35:33.177829",
     "status": "completed"
    },
    "tags": []
   },
   "outputs": [
    {
     "data": {
      "text/html": [
       "<div>\n",
       "<style scoped>\n",
       "    .dataframe tbody tr th:only-of-type {\n",
       "        vertical-align: middle;\n",
       "    }\n",
       "\n",
       "    .dataframe tbody tr th {\n",
       "        vertical-align: top;\n",
       "    }\n",
       "\n",
       "    .dataframe thead th {\n",
       "        text-align: right;\n",
       "    }\n",
       "</style>\n",
       "<table border=\"1\" class=\"dataframe\">\n",
       "  <thead>\n",
       "    <tr style=\"text-align: right;\">\n",
       "      <th></th>\n",
       "      <th>PassengerId</th>\n",
       "      <th>HomePlanet</th>\n",
       "      <th>CryoSleep</th>\n",
       "      <th>Cabin</th>\n",
       "      <th>Destination</th>\n",
       "      <th>Age</th>\n",
       "      <th>VIP</th>\n",
       "      <th>RoomService</th>\n",
       "      <th>FoodCourt</th>\n",
       "      <th>ShoppingMall</th>\n",
       "      <th>Spa</th>\n",
       "      <th>VRDeck</th>\n",
       "      <th>Name</th>\n",
       "    </tr>\n",
       "  </thead>\n",
       "  <tbody>\n",
       "    <tr>\n",
       "      <th>0</th>\n",
       "      <td>0013_01</td>\n",
       "      <td>Earth</td>\n",
       "      <td>True</td>\n",
       "      <td>G/3/S</td>\n",
       "      <td>TRAPPIST-1e</td>\n",
       "      <td>27.0</td>\n",
       "      <td>False</td>\n",
       "      <td>0.0</td>\n",
       "      <td>0.0</td>\n",
       "      <td>0.0</td>\n",
       "      <td>0.0</td>\n",
       "      <td>0.0</td>\n",
       "      <td>Nelly Carsoning</td>\n",
       "    </tr>\n",
       "    <tr>\n",
       "      <th>1</th>\n",
       "      <td>0018_01</td>\n",
       "      <td>Earth</td>\n",
       "      <td>False</td>\n",
       "      <td>F/4/S</td>\n",
       "      <td>TRAPPIST-1e</td>\n",
       "      <td>19.0</td>\n",
       "      <td>False</td>\n",
       "      <td>0.0</td>\n",
       "      <td>9.0</td>\n",
       "      <td>0.0</td>\n",
       "      <td>2823.0</td>\n",
       "      <td>0.0</td>\n",
       "      <td>Lerome Peckers</td>\n",
       "    </tr>\n",
       "    <tr>\n",
       "      <th>2</th>\n",
       "      <td>0019_01</td>\n",
       "      <td>Europa</td>\n",
       "      <td>True</td>\n",
       "      <td>C/0/S</td>\n",
       "      <td>55 Cancri e</td>\n",
       "      <td>31.0</td>\n",
       "      <td>False</td>\n",
       "      <td>0.0</td>\n",
       "      <td>0.0</td>\n",
       "      <td>0.0</td>\n",
       "      <td>0.0</td>\n",
       "      <td>0.0</td>\n",
       "      <td>Sabih Unhearfus</td>\n",
       "    </tr>\n",
       "    <tr>\n",
       "      <th>3</th>\n",
       "      <td>0021_01</td>\n",
       "      <td>Europa</td>\n",
       "      <td>False</td>\n",
       "      <td>C/1/S</td>\n",
       "      <td>TRAPPIST-1e</td>\n",
       "      <td>38.0</td>\n",
       "      <td>False</td>\n",
       "      <td>0.0</td>\n",
       "      <td>6652.0</td>\n",
       "      <td>0.0</td>\n",
       "      <td>181.0</td>\n",
       "      <td>585.0</td>\n",
       "      <td>Meratz Caltilter</td>\n",
       "    </tr>\n",
       "    <tr>\n",
       "      <th>4</th>\n",
       "      <td>0023_01</td>\n",
       "      <td>Earth</td>\n",
       "      <td>False</td>\n",
       "      <td>F/5/S</td>\n",
       "      <td>TRAPPIST-1e</td>\n",
       "      <td>20.0</td>\n",
       "      <td>False</td>\n",
       "      <td>10.0</td>\n",
       "      <td>0.0</td>\n",
       "      <td>635.0</td>\n",
       "      <td>0.0</td>\n",
       "      <td>0.0</td>\n",
       "      <td>Brence Harperez</td>\n",
       "    </tr>\n",
       "    <tr>\n",
       "      <th>...</th>\n",
       "      <td>...</td>\n",
       "      <td>...</td>\n",
       "      <td>...</td>\n",
       "      <td>...</td>\n",
       "      <td>...</td>\n",
       "      <td>...</td>\n",
       "      <td>...</td>\n",
       "      <td>...</td>\n",
       "      <td>...</td>\n",
       "      <td>...</td>\n",
       "      <td>...</td>\n",
       "      <td>...</td>\n",
       "      <td>...</td>\n",
       "    </tr>\n",
       "    <tr>\n",
       "      <th>4272</th>\n",
       "      <td>9266_02</td>\n",
       "      <td>Earth</td>\n",
       "      <td>True</td>\n",
       "      <td>G/1496/S</td>\n",
       "      <td>TRAPPIST-1e</td>\n",
       "      <td>34.0</td>\n",
       "      <td>False</td>\n",
       "      <td>0.0</td>\n",
       "      <td>0.0</td>\n",
       "      <td>0.0</td>\n",
       "      <td>0.0</td>\n",
       "      <td>0.0</td>\n",
       "      <td>Jeron Peter</td>\n",
       "    </tr>\n",
       "    <tr>\n",
       "      <th>4273</th>\n",
       "      <td>9269_01</td>\n",
       "      <td>Earth</td>\n",
       "      <td>False</td>\n",
       "      <td>NaN</td>\n",
       "      <td>TRAPPIST-1e</td>\n",
       "      <td>42.0</td>\n",
       "      <td>False</td>\n",
       "      <td>0.0</td>\n",
       "      <td>847.0</td>\n",
       "      <td>17.0</td>\n",
       "      <td>10.0</td>\n",
       "      <td>144.0</td>\n",
       "      <td>Matty Scheron</td>\n",
       "    </tr>\n",
       "    <tr>\n",
       "      <th>4274</th>\n",
       "      <td>9271_01</td>\n",
       "      <td>Mars</td>\n",
       "      <td>True</td>\n",
       "      <td>D/296/P</td>\n",
       "      <td>55 Cancri e</td>\n",
       "      <td>NaN</td>\n",
       "      <td>False</td>\n",
       "      <td>0.0</td>\n",
       "      <td>0.0</td>\n",
       "      <td>0.0</td>\n",
       "      <td>0.0</td>\n",
       "      <td>0.0</td>\n",
       "      <td>Jayrin Pore</td>\n",
       "    </tr>\n",
       "    <tr>\n",
       "      <th>4275</th>\n",
       "      <td>9273_01</td>\n",
       "      <td>Europa</td>\n",
       "      <td>False</td>\n",
       "      <td>D/297/P</td>\n",
       "      <td>NaN</td>\n",
       "      <td>NaN</td>\n",
       "      <td>False</td>\n",
       "      <td>0.0</td>\n",
       "      <td>2680.0</td>\n",
       "      <td>0.0</td>\n",
       "      <td>0.0</td>\n",
       "      <td>523.0</td>\n",
       "      <td>Kitakan Conale</td>\n",
       "    </tr>\n",
       "    <tr>\n",
       "      <th>4276</th>\n",
       "      <td>9277_01</td>\n",
       "      <td>Earth</td>\n",
       "      <td>True</td>\n",
       "      <td>G/1498/S</td>\n",
       "      <td>PSO J318.5-22</td>\n",
       "      <td>43.0</td>\n",
       "      <td>False</td>\n",
       "      <td>0.0</td>\n",
       "      <td>0.0</td>\n",
       "      <td>0.0</td>\n",
       "      <td>0.0</td>\n",
       "      <td>0.0</td>\n",
       "      <td>Lilace Leonzaley</td>\n",
       "    </tr>\n",
       "  </tbody>\n",
       "</table>\n",
       "<p>4277 rows × 13 columns</p>\n",
       "</div>"
      ],
      "text/plain": [
       "     PassengerId HomePlanet CryoSleep     Cabin    Destination   Age    VIP  \\\n",
       "0        0013_01      Earth      True     G/3/S    TRAPPIST-1e  27.0  False   \n",
       "1        0018_01      Earth     False     F/4/S    TRAPPIST-1e  19.0  False   \n",
       "2        0019_01     Europa      True     C/0/S    55 Cancri e  31.0  False   \n",
       "3        0021_01     Europa     False     C/1/S    TRAPPIST-1e  38.0  False   \n",
       "4        0023_01      Earth     False     F/5/S    TRAPPIST-1e  20.0  False   \n",
       "...          ...        ...       ...       ...            ...   ...    ...   \n",
       "4272     9266_02      Earth      True  G/1496/S    TRAPPIST-1e  34.0  False   \n",
       "4273     9269_01      Earth     False       NaN    TRAPPIST-1e  42.0  False   \n",
       "4274     9271_01       Mars      True   D/296/P    55 Cancri e   NaN  False   \n",
       "4275     9273_01     Europa     False   D/297/P            NaN   NaN  False   \n",
       "4276     9277_01      Earth      True  G/1498/S  PSO J318.5-22  43.0  False   \n",
       "\n",
       "      RoomService  FoodCourt  ShoppingMall     Spa  VRDeck              Name  \n",
       "0             0.0        0.0           0.0     0.0     0.0   Nelly Carsoning  \n",
       "1             0.0        9.0           0.0  2823.0     0.0    Lerome Peckers  \n",
       "2             0.0        0.0           0.0     0.0     0.0   Sabih Unhearfus  \n",
       "3             0.0     6652.0           0.0   181.0   585.0  Meratz Caltilter  \n",
       "4            10.0        0.0         635.0     0.0     0.0   Brence Harperez  \n",
       "...           ...        ...           ...     ...     ...               ...  \n",
       "4272          0.0        0.0           0.0     0.0     0.0       Jeron Peter  \n",
       "4273          0.0      847.0          17.0    10.0   144.0     Matty Scheron  \n",
       "4274          0.0        0.0           0.0     0.0     0.0       Jayrin Pore  \n",
       "4275          0.0     2680.0           0.0     0.0   523.0    Kitakan Conale  \n",
       "4276          0.0        0.0           0.0     0.0     0.0  Lilace Leonzaley  \n",
       "\n",
       "[4277 rows x 13 columns]"
      ]
     },
     "execution_count": 6,
     "metadata": {},
     "output_type": "execute_result"
    }
   ],
   "source": [
    "test=pd.read_csv('/kaggle/input/spaceship-titanic/test.csv')\n",
    "test"
   ]
  },
  {
   "cell_type": "markdown",
   "id": "4b153968",
   "metadata": {
    "papermill": {
     "duration": 0.035682,
     "end_time": "2024-07-23T11:35:33.349782",
     "exception": false,
     "start_time": "2024-07-23T11:35:33.314100",
     "status": "completed"
    },
    "tags": []
   },
   "source": [
    "**Feature descriptions:**\n",
    "\n",
    "* PassengerId - A unique Id for each passenger. Each Id takes the form gggg_pp where gggg indicates a group the passenger is travelling with and pp is their number within the group. People in a group are often family members, but not always.\n",
    "* HomePlanet - The planet the passenger departed from, typically their planet of permanent residence.\n",
    "* CryoSleep - Indicates whether the passenger elected to be put into suspended animation for the duration of the voyage. Passengers in cryosleep are confined to their cabins.\n",
    "* Cabin - The cabin number where the passenger is staying. Takes the form deck/num/side, where side can be either P for Port or S for Starboard.\n",
    "* Destination - The planet the passenger will be debarking to.\n",
    "* Age - The age of the passenger.\n",
    "* VIP - Whether the passenger has paid for special VIP service during the voyage.\n",
    "* RoomService, FoodCourt, ShoppingMall, Spa, VRDeck - Amount the passenger has billed at each of the Spaceship Titanic's many luxury amenities.\n",
    "* Name - The first and last names of the passenger.\n",
    "* Transported - Whether the passenger was transported to another dimension. This is the target, the column you are trying to predict.\n"
   ]
  },
  {
   "cell_type": "code",
   "execution_count": 7,
   "id": "d2c44995",
   "metadata": {
    "execution": {
     "iopub.execute_input": "2024-07-23T11:35:33.424898Z",
     "iopub.status.busy": "2024-07-23T11:35:33.424485Z",
     "iopub.status.idle": "2024-07-23T11:35:33.447651Z",
     "shell.execute_reply": "2024-07-23T11:35:33.446265Z"
    },
    "papermill": {
     "duration": 0.064811,
     "end_time": "2024-07-23T11:35:33.450827",
     "exception": false,
     "start_time": "2024-07-23T11:35:33.386016",
     "status": "completed"
    },
    "tags": []
   },
   "outputs": [
    {
     "name": "stdout",
     "output_type": "stream",
     "text": [
      "TRAIN SET MISSING VALUES:\n",
      "PassengerId       0\n",
      "HomePlanet      201\n",
      "CryoSleep       217\n",
      "Cabin           199\n",
      "Destination     182\n",
      "Age             179\n",
      "VIP             203\n",
      "RoomService     181\n",
      "FoodCourt       183\n",
      "ShoppingMall    208\n",
      "Spa             183\n",
      "VRDeck          188\n",
      "Name            200\n",
      "Transported       0\n",
      "dtype: int64\n",
      "\n",
      "TEST SET MISSING VALUES:\n",
      "PassengerId       0\n",
      "HomePlanet       87\n",
      "CryoSleep        93\n",
      "Cabin           100\n",
      "Destination      92\n",
      "Age              91\n",
      "VIP              93\n",
      "RoomService      82\n",
      "FoodCourt       106\n",
      "ShoppingMall     98\n",
      "Spa             101\n",
      "VRDeck           80\n",
      "Name             94\n",
      "dtype: int64\n"
     ]
    }
   ],
   "source": [
    "print('TRAIN SET MISSING VALUES:')\n",
    "print(train.isna().sum())\n",
    "print('')\n",
    "print('TEST SET MISSING VALUES:')\n",
    "print(test.isna().sum())"
   ]
  },
  {
   "cell_type": "markdown",
   "id": "8a0af24f",
   "metadata": {
    "papermill": {
     "duration": 0.09746,
     "end_time": "2024-07-23T11:35:33.584404",
     "exception": false,
     "start_time": "2024-07-23T11:35:33.486944",
     "status": "completed"
    },
    "tags": []
   },
   "source": [
    "**Almost every feature has missing values**"
   ]
  },
  {
   "cell_type": "code",
   "execution_count": 8,
   "id": "91e212a9",
   "metadata": {
    "execution": {
     "iopub.execute_input": "2024-07-23T11:35:33.660122Z",
     "iopub.status.busy": "2024-07-23T11:35:33.659606Z",
     "iopub.status.idle": "2024-07-23T11:35:33.697240Z",
     "shell.execute_reply": "2024-07-23T11:35:33.695757Z"
    },
    "papermill": {
     "duration": 0.080151,
     "end_time": "2024-07-23T11:35:33.700295",
     "exception": false,
     "start_time": "2024-07-23T11:35:33.620144",
     "status": "completed"
    },
    "tags": []
   },
   "outputs": [
    {
     "data": {
      "text/html": [
       "<div>\n",
       "<style scoped>\n",
       "    .dataframe tbody tr th:only-of-type {\n",
       "        vertical-align: middle;\n",
       "    }\n",
       "\n",
       "    .dataframe tbody tr th {\n",
       "        vertical-align: top;\n",
       "    }\n",
       "\n",
       "    .dataframe thead th {\n",
       "        text-align: right;\n",
       "    }\n",
       "</style>\n",
       "<table border=\"1\" class=\"dataframe\">\n",
       "  <thead>\n",
       "    <tr style=\"text-align: right;\">\n",
       "      <th></th>\n",
       "      <th>PassengerId</th>\n",
       "      <th>HomePlanet</th>\n",
       "      <th>CryoSleep</th>\n",
       "      <th>Cabin</th>\n",
       "      <th>Destination</th>\n",
       "      <th>Age</th>\n",
       "      <th>VIP</th>\n",
       "      <th>RoomService</th>\n",
       "      <th>FoodCourt</th>\n",
       "      <th>ShoppingMall</th>\n",
       "      <th>Spa</th>\n",
       "      <th>VRDeck</th>\n",
       "      <th>Name</th>\n",
       "      <th>Transported</th>\n",
       "    </tr>\n",
       "  </thead>\n",
       "  <tbody>\n",
       "    <tr>\n",
       "      <th>12965</th>\n",
       "      <td>9266_02</td>\n",
       "      <td>Earth</td>\n",
       "      <td>True</td>\n",
       "      <td>G/1496/S</td>\n",
       "      <td>TRAPPIST-1e</td>\n",
       "      <td>34.0</td>\n",
       "      <td>False</td>\n",
       "      <td>0.0</td>\n",
       "      <td>0.0</td>\n",
       "      <td>0.0</td>\n",
       "      <td>0.0</td>\n",
       "      <td>0.0</td>\n",
       "      <td>Jeron Peter</td>\n",
       "      <td>NaN</td>\n",
       "    </tr>\n",
       "    <tr>\n",
       "      <th>12966</th>\n",
       "      <td>9269_01</td>\n",
       "      <td>Earth</td>\n",
       "      <td>False</td>\n",
       "      <td>NaN</td>\n",
       "      <td>TRAPPIST-1e</td>\n",
       "      <td>42.0</td>\n",
       "      <td>False</td>\n",
       "      <td>0.0</td>\n",
       "      <td>847.0</td>\n",
       "      <td>17.0</td>\n",
       "      <td>10.0</td>\n",
       "      <td>144.0</td>\n",
       "      <td>Matty Scheron</td>\n",
       "      <td>NaN</td>\n",
       "    </tr>\n",
       "    <tr>\n",
       "      <th>12967</th>\n",
       "      <td>9271_01</td>\n",
       "      <td>Mars</td>\n",
       "      <td>True</td>\n",
       "      <td>D/296/P</td>\n",
       "      <td>55 Cancri e</td>\n",
       "      <td>NaN</td>\n",
       "      <td>False</td>\n",
       "      <td>0.0</td>\n",
       "      <td>0.0</td>\n",
       "      <td>0.0</td>\n",
       "      <td>0.0</td>\n",
       "      <td>0.0</td>\n",
       "      <td>Jayrin Pore</td>\n",
       "      <td>NaN</td>\n",
       "    </tr>\n",
       "    <tr>\n",
       "      <th>12968</th>\n",
       "      <td>9273_01</td>\n",
       "      <td>Europa</td>\n",
       "      <td>False</td>\n",
       "      <td>D/297/P</td>\n",
       "      <td>NaN</td>\n",
       "      <td>NaN</td>\n",
       "      <td>False</td>\n",
       "      <td>0.0</td>\n",
       "      <td>2680.0</td>\n",
       "      <td>0.0</td>\n",
       "      <td>0.0</td>\n",
       "      <td>523.0</td>\n",
       "      <td>Kitakan Conale</td>\n",
       "      <td>NaN</td>\n",
       "    </tr>\n",
       "    <tr>\n",
       "      <th>12969</th>\n",
       "      <td>9277_01</td>\n",
       "      <td>Earth</td>\n",
       "      <td>True</td>\n",
       "      <td>G/1498/S</td>\n",
       "      <td>PSO J318.5-22</td>\n",
       "      <td>43.0</td>\n",
       "      <td>False</td>\n",
       "      <td>0.0</td>\n",
       "      <td>0.0</td>\n",
       "      <td>0.0</td>\n",
       "      <td>0.0</td>\n",
       "      <td>0.0</td>\n",
       "      <td>Lilace Leonzaley</td>\n",
       "      <td>NaN</td>\n",
       "    </tr>\n",
       "  </tbody>\n",
       "</table>\n",
       "</div>"
      ],
      "text/plain": [
       "      PassengerId HomePlanet CryoSleep     Cabin    Destination   Age    VIP  \\\n",
       "12965     9266_02      Earth      True  G/1496/S    TRAPPIST-1e  34.0  False   \n",
       "12966     9269_01      Earth     False       NaN    TRAPPIST-1e  42.0  False   \n",
       "12967     9271_01       Mars      True   D/296/P    55 Cancri e   NaN  False   \n",
       "12968     9273_01     Europa     False   D/297/P            NaN   NaN  False   \n",
       "12969     9277_01      Earth      True  G/1498/S  PSO J318.5-22  43.0  False   \n",
       "\n",
       "       RoomService  FoodCourt  ShoppingMall   Spa  VRDeck              Name  \\\n",
       "12965          0.0        0.0           0.0   0.0     0.0       Jeron Peter   \n",
       "12966          0.0      847.0          17.0  10.0   144.0     Matty Scheron   \n",
       "12967          0.0        0.0           0.0   0.0     0.0       Jayrin Pore   \n",
       "12968          0.0     2680.0           0.0   0.0   523.0    Kitakan Conale   \n",
       "12969          0.0        0.0           0.0   0.0     0.0  Lilace Leonzaley   \n",
       "\n",
       "      Transported  \n",
       "12965         NaN  \n",
       "12966         NaN  \n",
       "12967         NaN  \n",
       "12968         NaN  \n",
       "12969         NaN  "
      ]
     },
     "execution_count": 8,
     "metadata": {},
     "output_type": "execute_result"
    }
   ],
   "source": [
    "df_all=pd.concat([train,test],axis=0).reset_index(drop=True)\n",
    "df_all.tail()"
   ]
  },
  {
   "cell_type": "code",
   "execution_count": 9,
   "id": "a37d17b4",
   "metadata": {
    "execution": {
     "iopub.execute_input": "2024-07-23T11:35:33.780434Z",
     "iopub.status.busy": "2024-07-23T11:35:33.779945Z",
     "iopub.status.idle": "2024-07-23T11:35:33.788459Z",
     "shell.execute_reply": "2024-07-23T11:35:33.786713Z"
    },
    "papermill": {
     "duration": 0.050414,
     "end_time": "2024-07-23T11:35:33.791321",
     "exception": false,
     "start_time": "2024-07-23T11:35:33.740907",
     "status": "completed"
    },
    "tags": []
   },
   "outputs": [
    {
     "data": {
      "text/plain": [
       "(12970, 14)"
      ]
     },
     "execution_count": 9,
     "metadata": {},
     "output_type": "execute_result"
    }
   ],
   "source": [
    "df_all.shape"
   ]
  },
  {
   "cell_type": "code",
   "execution_count": 10,
   "id": "5d97d350",
   "metadata": {
    "execution": {
     "iopub.execute_input": "2024-07-23T11:35:33.870411Z",
     "iopub.status.busy": "2024-07-23T11:35:33.869925Z",
     "iopub.status.idle": "2024-07-23T11:35:33.893442Z",
     "shell.execute_reply": "2024-07-23T11:35:33.892063Z"
    },
    "papermill": {
     "duration": 0.066768,
     "end_time": "2024-07-23T11:35:33.896366",
     "exception": false,
     "start_time": "2024-07-23T11:35:33.829598",
     "status": "completed"
    },
    "tags": []
   },
   "outputs": [
    {
     "data": {
      "text/plain": [
       "PassengerId        0\n",
       "HomePlanet       288\n",
       "CryoSleep        310\n",
       "Cabin            299\n",
       "Destination      274\n",
       "Age              270\n",
       "VIP              296\n",
       "RoomService      263\n",
       "FoodCourt        289\n",
       "ShoppingMall     306\n",
       "Spa              284\n",
       "VRDeck           268\n",
       "Name             294\n",
       "Transported     4277\n",
       "dtype: int64"
      ]
     },
     "execution_count": 10,
     "metadata": {},
     "output_type": "execute_result"
    }
   ],
   "source": [
    "df_all.isna().sum()"
   ]
  },
  {
   "cell_type": "code",
   "execution_count": 11,
   "id": "31d9267b",
   "metadata": {
    "execution": {
     "iopub.execute_input": "2024-07-23T11:35:33.973945Z",
     "iopub.status.busy": "2024-07-23T11:35:33.973515Z",
     "iopub.status.idle": "2024-07-23T11:35:34.012299Z",
     "shell.execute_reply": "2024-07-23T11:35:34.010934Z"
    },
    "papermill": {
     "duration": 0.081137,
     "end_time": "2024-07-23T11:35:34.015665",
     "exception": false,
     "start_time": "2024-07-23T11:35:33.934528",
     "status": "completed"
    },
    "tags": []
   },
   "outputs": [
    {
     "name": "stdout",
     "output_type": "stream",
     "text": [
      "<class 'pandas.core.frame.DataFrame'>\n",
      "RangeIndex: 8693 entries, 0 to 8692\n",
      "Data columns (total 14 columns):\n",
      " #   Column        Non-Null Count  Dtype  \n",
      "---  ------        --------------  -----  \n",
      " 0   PassengerId   8693 non-null   object \n",
      " 1   HomePlanet    8492 non-null   object \n",
      " 2   CryoSleep     8476 non-null   object \n",
      " 3   Cabin         8494 non-null   object \n",
      " 4   Destination   8511 non-null   object \n",
      " 5   Age           8514 non-null   float64\n",
      " 6   VIP           8490 non-null   object \n",
      " 7   RoomService   8512 non-null   float64\n",
      " 8   FoodCourt     8510 non-null   float64\n",
      " 9   ShoppingMall  8485 non-null   float64\n",
      " 10  Spa           8510 non-null   float64\n",
      " 11  VRDeck        8505 non-null   float64\n",
      " 12  Name          8493 non-null   object \n",
      " 13  Transported   8693 non-null   bool   \n",
      "dtypes: bool(1), float64(6), object(7)\n",
      "memory usage: 891.5+ KB\n"
     ]
    }
   ],
   "source": [
    "train.info()"
   ]
  },
  {
   "cell_type": "markdown",
   "id": "8c68371b",
   "metadata": {
    "papermill": {
     "duration": 0.037339,
     "end_time": "2024-07-23T11:35:34.092300",
     "exception": false,
     "start_time": "2024-07-23T11:35:34.054961",
     "status": "completed"
    },
    "tags": []
   },
   "source": [
    "**We will need to transform the data to be numeric (int64 or float64)**"
   ]
  },
  {
   "cell_type": "code",
   "execution_count": 12,
   "id": "f4336ca5",
   "metadata": {
    "execution": {
     "iopub.execute_input": "2024-07-23T11:35:34.168549Z",
     "iopub.status.busy": "2024-07-23T11:35:34.167316Z",
     "iopub.status.idle": "2024-07-23T11:35:34.202505Z",
     "shell.execute_reply": "2024-07-23T11:35:34.201291Z"
    },
    "papermill": {
     "duration": 0.076087,
     "end_time": "2024-07-23T11:35:34.205330",
     "exception": false,
     "start_time": "2024-07-23T11:35:34.129243",
     "status": "completed"
    },
    "tags": []
   },
   "outputs": [
    {
     "data": {
      "text/html": [
       "<div>\n",
       "<style scoped>\n",
       "    .dataframe tbody tr th:only-of-type {\n",
       "        vertical-align: middle;\n",
       "    }\n",
       "\n",
       "    .dataframe tbody tr th {\n",
       "        vertical-align: top;\n",
       "    }\n",
       "\n",
       "    .dataframe thead th {\n",
       "        text-align: right;\n",
       "    }\n",
       "</style>\n",
       "<table border=\"1\" class=\"dataframe\">\n",
       "  <thead>\n",
       "    <tr style=\"text-align: right;\">\n",
       "      <th></th>\n",
       "      <th>Age</th>\n",
       "      <th>RoomService</th>\n",
       "      <th>FoodCourt</th>\n",
       "      <th>ShoppingMall</th>\n",
       "      <th>Spa</th>\n",
       "      <th>VRDeck</th>\n",
       "    </tr>\n",
       "  </thead>\n",
       "  <tbody>\n",
       "    <tr>\n",
       "      <th>count</th>\n",
       "      <td>8514.000000</td>\n",
       "      <td>8512.000000</td>\n",
       "      <td>8510.000000</td>\n",
       "      <td>8485.000000</td>\n",
       "      <td>8510.000000</td>\n",
       "      <td>8505.000000</td>\n",
       "    </tr>\n",
       "    <tr>\n",
       "      <th>mean</th>\n",
       "      <td>28.827930</td>\n",
       "      <td>224.687617</td>\n",
       "      <td>458.077203</td>\n",
       "      <td>173.729169</td>\n",
       "      <td>311.138778</td>\n",
       "      <td>304.854791</td>\n",
       "    </tr>\n",
       "    <tr>\n",
       "      <th>std</th>\n",
       "      <td>14.489021</td>\n",
       "      <td>666.717663</td>\n",
       "      <td>1611.489240</td>\n",
       "      <td>604.696458</td>\n",
       "      <td>1136.705535</td>\n",
       "      <td>1145.717189</td>\n",
       "    </tr>\n",
       "    <tr>\n",
       "      <th>min</th>\n",
       "      <td>0.000000</td>\n",
       "      <td>0.000000</td>\n",
       "      <td>0.000000</td>\n",
       "      <td>0.000000</td>\n",
       "      <td>0.000000</td>\n",
       "      <td>0.000000</td>\n",
       "    </tr>\n",
       "    <tr>\n",
       "      <th>25%</th>\n",
       "      <td>19.000000</td>\n",
       "      <td>0.000000</td>\n",
       "      <td>0.000000</td>\n",
       "      <td>0.000000</td>\n",
       "      <td>0.000000</td>\n",
       "      <td>0.000000</td>\n",
       "    </tr>\n",
       "    <tr>\n",
       "      <th>50%</th>\n",
       "      <td>27.000000</td>\n",
       "      <td>0.000000</td>\n",
       "      <td>0.000000</td>\n",
       "      <td>0.000000</td>\n",
       "      <td>0.000000</td>\n",
       "      <td>0.000000</td>\n",
       "    </tr>\n",
       "    <tr>\n",
       "      <th>75%</th>\n",
       "      <td>38.000000</td>\n",
       "      <td>47.000000</td>\n",
       "      <td>76.000000</td>\n",
       "      <td>27.000000</td>\n",
       "      <td>59.000000</td>\n",
       "      <td>46.000000</td>\n",
       "    </tr>\n",
       "    <tr>\n",
       "      <th>max</th>\n",
       "      <td>79.000000</td>\n",
       "      <td>14327.000000</td>\n",
       "      <td>29813.000000</td>\n",
       "      <td>23492.000000</td>\n",
       "      <td>22408.000000</td>\n",
       "      <td>24133.000000</td>\n",
       "    </tr>\n",
       "  </tbody>\n",
       "</table>\n",
       "</div>"
      ],
      "text/plain": [
       "               Age   RoomService     FoodCourt  ShoppingMall           Spa  \\\n",
       "count  8514.000000   8512.000000   8510.000000   8485.000000   8510.000000   \n",
       "mean     28.827930    224.687617    458.077203    173.729169    311.138778   \n",
       "std      14.489021    666.717663   1611.489240    604.696458   1136.705535   \n",
       "min       0.000000      0.000000      0.000000      0.000000      0.000000   \n",
       "25%      19.000000      0.000000      0.000000      0.000000      0.000000   \n",
       "50%      27.000000      0.000000      0.000000      0.000000      0.000000   \n",
       "75%      38.000000     47.000000     76.000000     27.000000     59.000000   \n",
       "max      79.000000  14327.000000  29813.000000  23492.000000  22408.000000   \n",
       "\n",
       "             VRDeck  \n",
       "count   8505.000000  \n",
       "mean     304.854791  \n",
       "std     1145.717189  \n",
       "min        0.000000  \n",
       "25%        0.000000  \n",
       "50%        0.000000  \n",
       "75%       46.000000  \n",
       "max    24133.000000  "
      ]
     },
     "execution_count": 12,
     "metadata": {},
     "output_type": "execute_result"
    }
   ],
   "source": [
    "train.describe()"
   ]
  },
  {
   "cell_type": "code",
   "execution_count": 13,
   "id": "aaa9b7d5",
   "metadata": {
    "execution": {
     "iopub.execute_input": "2024-07-23T11:35:34.284633Z",
     "iopub.status.busy": "2024-07-23T11:35:34.283344Z",
     "iopub.status.idle": "2024-07-23T11:35:34.316202Z",
     "shell.execute_reply": "2024-07-23T11:35:34.314952Z"
    },
    "papermill": {
     "duration": 0.074256,
     "end_time": "2024-07-23T11:35:34.318878",
     "exception": false,
     "start_time": "2024-07-23T11:35:34.244622",
     "status": "completed"
    },
    "tags": []
   },
   "outputs": [
    {
     "data": {
      "text/html": [
       "<div>\n",
       "<style scoped>\n",
       "    .dataframe tbody tr th:only-of-type {\n",
       "        vertical-align: middle;\n",
       "    }\n",
       "\n",
       "    .dataframe tbody tr th {\n",
       "        vertical-align: top;\n",
       "    }\n",
       "\n",
       "    .dataframe thead th {\n",
       "        text-align: right;\n",
       "    }\n",
       "</style>\n",
       "<table border=\"1\" class=\"dataframe\">\n",
       "  <thead>\n",
       "    <tr style=\"text-align: right;\">\n",
       "      <th></th>\n",
       "      <th>Age</th>\n",
       "      <th>RoomService</th>\n",
       "      <th>FoodCourt</th>\n",
       "      <th>ShoppingMall</th>\n",
       "      <th>Spa</th>\n",
       "      <th>VRDeck</th>\n",
       "    </tr>\n",
       "  </thead>\n",
       "  <tbody>\n",
       "    <tr>\n",
       "      <th>count</th>\n",
       "      <td>12700.000000</td>\n",
       "      <td>12707.000000</td>\n",
       "      <td>12681.000000</td>\n",
       "      <td>12664.000000</td>\n",
       "      <td>12686.000000</td>\n",
       "      <td>12702.000000</td>\n",
       "    </tr>\n",
       "    <tr>\n",
       "      <th>mean</th>\n",
       "      <td>28.771969</td>\n",
       "      <td>222.897852</td>\n",
       "      <td>451.961675</td>\n",
       "      <td>174.906033</td>\n",
       "      <td>308.476904</td>\n",
       "      <td>306.789482</td>\n",
       "    </tr>\n",
       "    <tr>\n",
       "      <th>std</th>\n",
       "      <td>14.387261</td>\n",
       "      <td>647.596664</td>\n",
       "      <td>1584.370747</td>\n",
       "      <td>590.558690</td>\n",
       "      <td>1130.279641</td>\n",
       "      <td>1180.097223</td>\n",
       "    </tr>\n",
       "    <tr>\n",
       "      <th>min</th>\n",
       "      <td>0.000000</td>\n",
       "      <td>0.000000</td>\n",
       "      <td>0.000000</td>\n",
       "      <td>0.000000</td>\n",
       "      <td>0.000000</td>\n",
       "      <td>0.000000</td>\n",
       "    </tr>\n",
       "    <tr>\n",
       "      <th>25%</th>\n",
       "      <td>19.000000</td>\n",
       "      <td>0.000000</td>\n",
       "      <td>0.000000</td>\n",
       "      <td>0.000000</td>\n",
       "      <td>0.000000</td>\n",
       "      <td>0.000000</td>\n",
       "    </tr>\n",
       "    <tr>\n",
       "      <th>50%</th>\n",
       "      <td>27.000000</td>\n",
       "      <td>0.000000</td>\n",
       "      <td>0.000000</td>\n",
       "      <td>0.000000</td>\n",
       "      <td>0.000000</td>\n",
       "      <td>0.000000</td>\n",
       "    </tr>\n",
       "    <tr>\n",
       "      <th>75%</th>\n",
       "      <td>38.000000</td>\n",
       "      <td>49.000000</td>\n",
       "      <td>77.000000</td>\n",
       "      <td>29.000000</td>\n",
       "      <td>57.000000</td>\n",
       "      <td>42.000000</td>\n",
       "    </tr>\n",
       "    <tr>\n",
       "      <th>max</th>\n",
       "      <td>79.000000</td>\n",
       "      <td>14327.000000</td>\n",
       "      <td>29813.000000</td>\n",
       "      <td>23492.000000</td>\n",
       "      <td>22408.000000</td>\n",
       "      <td>24133.000000</td>\n",
       "    </tr>\n",
       "  </tbody>\n",
       "</table>\n",
       "</div>"
      ],
      "text/plain": [
       "                Age   RoomService     FoodCourt  ShoppingMall           Spa  \\\n",
       "count  12700.000000  12707.000000  12681.000000  12664.000000  12686.000000   \n",
       "mean      28.771969    222.897852    451.961675    174.906033    308.476904   \n",
       "std       14.387261    647.596664   1584.370747    590.558690   1130.279641   \n",
       "min        0.000000      0.000000      0.000000      0.000000      0.000000   \n",
       "25%       19.000000      0.000000      0.000000      0.000000      0.000000   \n",
       "50%       27.000000      0.000000      0.000000      0.000000      0.000000   \n",
       "75%       38.000000     49.000000     77.000000     29.000000     57.000000   \n",
       "max       79.000000  14327.000000  29813.000000  23492.000000  22408.000000   \n",
       "\n",
       "             VRDeck  \n",
       "count  12702.000000  \n",
       "mean     306.789482  \n",
       "std     1180.097223  \n",
       "min        0.000000  \n",
       "25%        0.000000  \n",
       "50%        0.000000  \n",
       "75%       42.000000  \n",
       "max    24133.000000  "
      ]
     },
     "execution_count": 13,
     "metadata": {},
     "output_type": "execute_result"
    }
   ],
   "source": [
    "df_all.describe()"
   ]
  },
  {
   "cell_type": "code",
   "execution_count": 14,
   "id": "526b73f2",
   "metadata": {
    "execution": {
     "iopub.execute_input": "2024-07-23T11:35:34.397455Z",
     "iopub.status.busy": "2024-07-23T11:35:34.396761Z",
     "iopub.status.idle": "2024-07-23T11:35:34.425524Z",
     "shell.execute_reply": "2024-07-23T11:35:34.424147Z"
    },
    "papermill": {
     "duration": 0.070301,
     "end_time": "2024-07-23T11:35:34.428368",
     "exception": false,
     "start_time": "2024-07-23T11:35:34.358067",
     "status": "completed"
    },
    "tags": []
   },
   "outputs": [
    {
     "data": {
      "text/plain": [
       "PassengerId     12970\n",
       "HomePlanet          3\n",
       "CryoSleep           2\n",
       "Cabin            9825\n",
       "Destination         3\n",
       "Age                80\n",
       "VIP                 2\n",
       "RoomService      1578\n",
       "FoodCourt        1953\n",
       "ShoppingMall     1367\n",
       "Spa              1679\n",
       "VRDeck           1642\n",
       "Name            12629\n",
       "Transported         2\n",
       "dtype: int64"
      ]
     },
     "execution_count": 14,
     "metadata": {},
     "output_type": "execute_result"
    }
   ],
   "source": [
    "df_all.nunique()"
   ]
  },
  {
   "cell_type": "markdown",
   "id": "ca7f96ff",
   "metadata": {
    "papermill": {
     "duration": 0.038072,
     "end_time": "2024-07-23T11:35:34.506485",
     "exception": false,
     "start_time": "2024-07-23T11:35:34.468413",
     "status": "completed"
    },
    "tags": []
   },
   "source": [
    "## Exploratory data analysis"
   ]
  },
  {
   "cell_type": "code",
   "execution_count": 15,
   "id": "bb9b37c4",
   "metadata": {
    "execution": {
     "iopub.execute_input": "2024-07-23T11:35:34.585209Z",
     "iopub.status.busy": "2024-07-23T11:35:34.584749Z",
     "iopub.status.idle": "2024-07-23T11:35:34.592910Z",
     "shell.execute_reply": "2024-07-23T11:35:34.591672Z"
    },
    "papermill": {
     "duration": 0.051136,
     "end_time": "2024-07-23T11:35:34.595730",
     "exception": false,
     "start_time": "2024-07-23T11:35:34.544594",
     "status": "completed"
    },
    "tags": []
   },
   "outputs": [
    {
     "data": {
      "text/plain": [
       "Index(['PassengerId', 'HomePlanet', 'CryoSleep', 'Cabin', 'Destination', 'Age',\n",
       "       'VIP', 'RoomService', 'FoodCourt', 'ShoppingMall', 'Spa', 'VRDeck',\n",
       "       'Name', 'Transported'],\n",
       "      dtype='object')"
      ]
     },
     "execution_count": 15,
     "metadata": {},
     "output_type": "execute_result"
    }
   ],
   "source": [
    "train.columns"
   ]
  },
  {
   "cell_type": "code",
   "execution_count": 16,
   "id": "443c862b",
   "metadata": {
    "execution": {
     "iopub.execute_input": "2024-07-23T11:35:34.673777Z",
     "iopub.status.busy": "2024-07-23T11:35:34.673349Z",
     "iopub.status.idle": "2024-07-23T11:35:34.684822Z",
     "shell.execute_reply": "2024-07-23T11:35:34.683575Z"
    },
    "papermill": {
     "duration": 0.05331,
     "end_time": "2024-07-23T11:35:34.687442",
     "exception": false,
     "start_time": "2024-07-23T11:35:34.634132",
     "status": "completed"
    },
    "tags": []
   },
   "outputs": [
    {
     "data": {
      "text/plain": [
       "Transported\n",
       "True     4378\n",
       "False    4315\n",
       "Name: count, dtype: int64"
      ]
     },
     "execution_count": 16,
     "metadata": {},
     "output_type": "execute_result"
    }
   ],
   "source": [
    "train.Transported.value_counts()"
   ]
  },
  {
   "cell_type": "markdown",
   "id": "642d6a52",
   "metadata": {
    "papermill": {
     "duration": 0.042661,
     "end_time": "2024-07-23T11:35:34.768964",
     "exception": false,
     "start_time": "2024-07-23T11:35:34.726303",
     "status": "completed"
    },
    "tags": []
   },
   "source": [
    "**we can say based on values The target is highly balanced**"
   ]
  },
  {
   "cell_type": "code",
   "execution_count": 17,
   "id": "df85f9ea",
   "metadata": {
    "execution": {
     "iopub.execute_input": "2024-07-23T11:35:34.849260Z",
     "iopub.status.busy": "2024-07-23T11:35:34.848261Z",
     "iopub.status.idle": "2024-07-23T11:35:34.871374Z",
     "shell.execute_reply": "2024-07-23T11:35:34.869956Z"
    },
    "papermill": {
     "duration": 0.066622,
     "end_time": "2024-07-23T11:35:34.874445",
     "exception": false,
     "start_time": "2024-07-23T11:35:34.807823",
     "status": "completed"
    },
    "tags": []
   },
   "outputs": [
    {
     "data": {
      "text/html": [
       "<div>\n",
       "<style scoped>\n",
       "    .dataframe tbody tr th:only-of-type {\n",
       "        vertical-align: middle;\n",
       "    }\n",
       "\n",
       "    .dataframe tbody tr th {\n",
       "        vertical-align: top;\n",
       "    }\n",
       "\n",
       "    .dataframe thead th {\n",
       "        text-align: right;\n",
       "    }\n",
       "</style>\n",
       "<table border=\"1\" class=\"dataframe\">\n",
       "  <thead>\n",
       "    <tr style=\"text-align: right;\">\n",
       "      <th></th>\n",
       "      <th>PassengerId</th>\n",
       "      <th>HomePlanet</th>\n",
       "      <th>CryoSleep</th>\n",
       "      <th>Cabin</th>\n",
       "      <th>Destination</th>\n",
       "      <th>Age</th>\n",
       "      <th>VIP</th>\n",
       "      <th>RoomService</th>\n",
       "      <th>FoodCourt</th>\n",
       "      <th>ShoppingMall</th>\n",
       "      <th>Spa</th>\n",
       "      <th>VRDeck</th>\n",
       "      <th>Name</th>\n",
       "      <th>Transported</th>\n",
       "    </tr>\n",
       "  </thead>\n",
       "  <tbody>\n",
       "    <tr>\n",
       "      <th>0</th>\n",
       "      <td>0001_01</td>\n",
       "      <td>Europa</td>\n",
       "      <td>False</td>\n",
       "      <td>B/0/P</td>\n",
       "      <td>TRAPPIST-1e</td>\n",
       "      <td>39.0</td>\n",
       "      <td>False</td>\n",
       "      <td>0.0</td>\n",
       "      <td>0.0</td>\n",
       "      <td>0.0</td>\n",
       "      <td>0.0</td>\n",
       "      <td>0.0</td>\n",
       "      <td>Maham Ofracculy</td>\n",
       "      <td>False</td>\n",
       "    </tr>\n",
       "    <tr>\n",
       "      <th>1</th>\n",
       "      <td>0002_01</td>\n",
       "      <td>Earth</td>\n",
       "      <td>False</td>\n",
       "      <td>F/0/S</td>\n",
       "      <td>TRAPPIST-1e</td>\n",
       "      <td>24.0</td>\n",
       "      <td>False</td>\n",
       "      <td>109.0</td>\n",
       "      <td>9.0</td>\n",
       "      <td>25.0</td>\n",
       "      <td>549.0</td>\n",
       "      <td>44.0</td>\n",
       "      <td>Juanna Vines</td>\n",
       "      <td>True</td>\n",
       "    </tr>\n",
       "    <tr>\n",
       "      <th>2</th>\n",
       "      <td>0003_01</td>\n",
       "      <td>Europa</td>\n",
       "      <td>False</td>\n",
       "      <td>A/0/S</td>\n",
       "      <td>TRAPPIST-1e</td>\n",
       "      <td>58.0</td>\n",
       "      <td>True</td>\n",
       "      <td>43.0</td>\n",
       "      <td>3576.0</td>\n",
       "      <td>0.0</td>\n",
       "      <td>6715.0</td>\n",
       "      <td>49.0</td>\n",
       "      <td>Altark Susent</td>\n",
       "      <td>False</td>\n",
       "    </tr>\n",
       "  </tbody>\n",
       "</table>\n",
       "</div>"
      ],
      "text/plain": [
       "  PassengerId HomePlanet CryoSleep  Cabin  Destination   Age    VIP  \\\n",
       "0     0001_01     Europa     False  B/0/P  TRAPPIST-1e  39.0  False   \n",
       "1     0002_01      Earth     False  F/0/S  TRAPPIST-1e  24.0  False   \n",
       "2     0003_01     Europa     False  A/0/S  TRAPPIST-1e  58.0   True   \n",
       "\n",
       "   RoomService  FoodCourt  ShoppingMall     Spa  VRDeck             Name  \\\n",
       "0          0.0        0.0           0.0     0.0     0.0  Maham Ofracculy   \n",
       "1        109.0        9.0          25.0   549.0    44.0     Juanna Vines   \n",
       "2         43.0     3576.0           0.0  6715.0    49.0    Altark Susent   \n",
       "\n",
       "   Transported  \n",
       "0        False  \n",
       "1         True  \n",
       "2        False  "
      ]
     },
     "execution_count": 17,
     "metadata": {},
     "output_type": "execute_result"
    }
   ],
   "source": [
    "train.head(3)"
   ]
  },
  {
   "cell_type": "code",
   "execution_count": 18,
   "id": "5012f09c",
   "metadata": {
    "execution": {
     "iopub.execute_input": "2024-07-23T11:35:34.955809Z",
     "iopub.status.busy": "2024-07-23T11:35:34.955371Z",
     "iopub.status.idle": "2024-07-23T11:35:34.968358Z",
     "shell.execute_reply": "2024-07-23T11:35:34.966465Z"
    },
    "papermill": {
     "duration": 0.058224,
     "end_time": "2024-07-23T11:35:34.971532",
     "exception": false,
     "start_time": "2024-07-23T11:35:34.913308",
     "status": "completed"
    },
    "tags": []
   },
   "outputs": [
    {
     "data": {
      "text/plain": [
       "CryoSleep\n",
       "False    5439\n",
       "True     3037\n",
       "Name: count, dtype: int64"
      ]
     },
     "execution_count": 18,
     "metadata": {},
     "output_type": "execute_result"
    }
   ],
   "source": [
    "train.CryoSleep.value_counts()"
   ]
  },
  {
   "cell_type": "code",
   "execution_count": 19,
   "id": "3a6b2c53",
   "metadata": {
    "execution": {
     "iopub.execute_input": "2024-07-23T11:35:35.050287Z",
     "iopub.status.busy": "2024-07-23T11:35:35.049853Z",
     "iopub.status.idle": "2024-07-23T11:35:35.061450Z",
     "shell.execute_reply": "2024-07-23T11:35:35.060030Z"
    },
    "papermill": {
     "duration": 0.053804,
     "end_time": "2024-07-23T11:35:35.063897",
     "exception": false,
     "start_time": "2024-07-23T11:35:35.010093",
     "status": "completed"
    },
    "tags": []
   },
   "outputs": [
    {
     "data": {
      "text/plain": [
       "VIP\n",
       "False    8291\n",
       "True      199\n",
       "Name: count, dtype: int64"
      ]
     },
     "execution_count": 19,
     "metadata": {},
     "output_type": "execute_result"
    }
   ],
   "source": [
    "train.VIP.value_counts()"
   ]
  },
  {
   "cell_type": "code",
   "execution_count": 20,
   "id": "cf746b93",
   "metadata": {
    "execution": {
     "iopub.execute_input": "2024-07-23T11:35:35.144001Z",
     "iopub.status.busy": "2024-07-23T11:35:35.143542Z",
     "iopub.status.idle": "2024-07-23T11:35:35.156582Z",
     "shell.execute_reply": "2024-07-23T11:35:35.154925Z"
    },
    "papermill": {
     "duration": 0.057691,
     "end_time": "2024-07-23T11:35:35.160746",
     "exception": false,
     "start_time": "2024-07-23T11:35:35.103055",
     "status": "completed"
    },
    "tags": []
   },
   "outputs": [
    {
     "data": {
      "text/plain": [
       "HomePlanet\n",
       "Earth     4602\n",
       "Europa    2131\n",
       "Mars      1759\n",
       "Name: count, dtype: int64"
      ]
     },
     "execution_count": 20,
     "metadata": {},
     "output_type": "execute_result"
    }
   ],
   "source": [
    "train.HomePlanet.value_counts()"
   ]
  },
  {
   "cell_type": "code",
   "execution_count": 21,
   "id": "2a2cf218",
   "metadata": {
    "execution": {
     "iopub.execute_input": "2024-07-23T11:35:35.246403Z",
     "iopub.status.busy": "2024-07-23T11:35:35.245946Z",
     "iopub.status.idle": "2024-07-23T11:35:35.986696Z",
     "shell.execute_reply": "2024-07-23T11:35:35.985253Z"
    },
    "papermill": {
     "duration": 0.786547,
     "end_time": "2024-07-23T11:35:35.989354",
     "exception": false,
     "start_time": "2024-07-23T11:35:35.202807",
     "status": "completed"
    },
    "tags": []
   },
   "outputs": [
    {
     "data": {
      "text/html": [
       "        <script type=\"text/javascript\">\n",
       "        window.PlotlyConfig = {MathJaxConfig: 'local'};\n",
       "        if (window.MathJax && window.MathJax.Hub && window.MathJax.Hub.Config) {window.MathJax.Hub.Config({SVG: {font: \"STIX-Web\"}});}\n",
       "        if (typeof require !== 'undefined') {\n",
       "        require.undef(\"plotly\");\n",
       "        requirejs.config({\n",
       "            paths: {\n",
       "                'plotly': ['https://cdn.plot.ly/plotly-2.27.0.min']\n",
       "            }\n",
       "        });\n",
       "        require(['plotly'], function(Plotly) {\n",
       "            window._Plotly = Plotly;\n",
       "        });\n",
       "        }\n",
       "        </script>\n",
       "        "
      ]
     },
     "metadata": {},
     "output_type": "display_data"
    },
    {
     "data": {
      "text/html": [
       "<div>                            <div id=\"d7188901-4419-4a31-94b4-250bd5c31bc6\" class=\"plotly-graph-div\" style=\"height:800px; width:1000px;\"></div>            <script type=\"text/javascript\">                require([\"plotly\"], function(Plotly) {                    window.PLOTLYENV=window.PLOTLYENV || {};                                    if (document.getElementById(\"d7188901-4419-4a31-94b4-250bd5c31bc6\")) {                    Plotly.newPlot(                        \"d7188901-4419-4a31-94b4-250bd5c31bc6\",                        [{\"marker\":{\"color\":\"#FF6666\"},\"name\":\"Transported=False\",\"x\":[\"Earth\",\"Europa\",\"Mars\"],\"y\":[2651,727,839],\"type\":\"bar\",\"xaxis\":\"x\",\"yaxis\":\"y\"},{\"marker\":{\"color\":\"#3BCEAC\"},\"name\":\"Transported=True\",\"x\":[\"Earth\",\"Europa\",\"Mars\"],\"y\":[1951,1404,920],\"type\":\"bar\",\"xaxis\":\"x\",\"yaxis\":\"y\"},{\"marker\":{\"color\":\"#FF6666\"},\"name\":\"Transported=False\",\"x\":[false,true],\"y\":[3650,554],\"type\":\"bar\",\"xaxis\":\"x2\",\"yaxis\":\"y2\"},{\"marker\":{\"color\":\"#3BCEAC\"},\"name\":\"Transported=True\",\"x\":[false,true],\"y\":[1789,2483],\"type\":\"bar\",\"xaxis\":\"x2\",\"yaxis\":\"y2\"},{\"marker\":{\"color\":\"#FF6666\"},\"name\":\"Transported=False\",\"x\":[\"55 Cancri e\",\"PSO J318.5-22\",\"TRAPPIST-1e\"],\"y\":[702,395,3128],\"type\":\"bar\",\"xaxis\":\"x3\",\"yaxis\":\"y3\"},{\"marker\":{\"color\":\"#3BCEAC\"},\"name\":\"Transported=True\",\"x\":[\"55 Cancri e\",\"PSO J318.5-22\",\"TRAPPIST-1e\"],\"y\":[1098,401,2787],\"type\":\"bar\",\"xaxis\":\"x3\",\"yaxis\":\"y3\"},{\"marker\":{\"color\":\"#FF6666\"},\"name\":\"Transported=False\",\"x\":[false,true],\"y\":[4093,123],\"type\":\"bar\",\"xaxis\":\"x4\",\"yaxis\":\"y4\"},{\"marker\":{\"color\":\"#3BCEAC\"},\"name\":\"Transported=True\",\"x\":[false,true],\"y\":[4198,76],\"type\":\"bar\",\"xaxis\":\"x4\",\"yaxis\":\"y4\"},{\"marker\":{\"color\":\"#FFD23F\"},\"name\":\"Transported=0\",\"type\":\"bar\",\"xaxis\":\"x4\",\"yaxis\":\"y4\"},{\"marker\":{\"color\":\"#3BCEAC\"},\"name\":\"Transported=1\",\"type\":\"bar\",\"xaxis\":\"x4\",\"yaxis\":\"y4\"}],                        {\"template\":{\"data\":{\"histogram2dcontour\":[{\"type\":\"histogram2dcontour\",\"colorbar\":{\"outlinewidth\":0,\"ticks\":\"\"},\"colorscale\":[[0.0,\"#0d0887\"],[0.1111111111111111,\"#46039f\"],[0.2222222222222222,\"#7201a8\"],[0.3333333333333333,\"#9c179e\"],[0.4444444444444444,\"#bd3786\"],[0.5555555555555556,\"#d8576b\"],[0.6666666666666666,\"#ed7953\"],[0.7777777777777778,\"#fb9f3a\"],[0.8888888888888888,\"#fdca26\"],[1.0,\"#f0f921\"]]}],\"choropleth\":[{\"type\":\"choropleth\",\"colorbar\":{\"outlinewidth\":0,\"ticks\":\"\"}}],\"histogram2d\":[{\"type\":\"histogram2d\",\"colorbar\":{\"outlinewidth\":0,\"ticks\":\"\"},\"colorscale\":[[0.0,\"#0d0887\"],[0.1111111111111111,\"#46039f\"],[0.2222222222222222,\"#7201a8\"],[0.3333333333333333,\"#9c179e\"],[0.4444444444444444,\"#bd3786\"],[0.5555555555555556,\"#d8576b\"],[0.6666666666666666,\"#ed7953\"],[0.7777777777777778,\"#fb9f3a\"],[0.8888888888888888,\"#fdca26\"],[1.0,\"#f0f921\"]]}],\"heatmap\":[{\"type\":\"heatmap\",\"colorbar\":{\"outlinewidth\":0,\"ticks\":\"\"},\"colorscale\":[[0.0,\"#0d0887\"],[0.1111111111111111,\"#46039f\"],[0.2222222222222222,\"#7201a8\"],[0.3333333333333333,\"#9c179e\"],[0.4444444444444444,\"#bd3786\"],[0.5555555555555556,\"#d8576b\"],[0.6666666666666666,\"#ed7953\"],[0.7777777777777778,\"#fb9f3a\"],[0.8888888888888888,\"#fdca26\"],[1.0,\"#f0f921\"]]}],\"heatmapgl\":[{\"type\":\"heatmapgl\",\"colorbar\":{\"outlinewidth\":0,\"ticks\":\"\"},\"colorscale\":[[0.0,\"#0d0887\"],[0.1111111111111111,\"#46039f\"],[0.2222222222222222,\"#7201a8\"],[0.3333333333333333,\"#9c179e\"],[0.4444444444444444,\"#bd3786\"],[0.5555555555555556,\"#d8576b\"],[0.6666666666666666,\"#ed7953\"],[0.7777777777777778,\"#fb9f3a\"],[0.8888888888888888,\"#fdca26\"],[1.0,\"#f0f921\"]]}],\"contourcarpet\":[{\"type\":\"contourcarpet\",\"colorbar\":{\"outlinewidth\":0,\"ticks\":\"\"}}],\"contour\":[{\"type\":\"contour\",\"colorbar\":{\"outlinewidth\":0,\"ticks\":\"\"},\"colorscale\":[[0.0,\"#0d0887\"],[0.1111111111111111,\"#46039f\"],[0.2222222222222222,\"#7201a8\"],[0.3333333333333333,\"#9c179e\"],[0.4444444444444444,\"#bd3786\"],[0.5555555555555556,\"#d8576b\"],[0.6666666666666666,\"#ed7953\"],[0.7777777777777778,\"#fb9f3a\"],[0.8888888888888888,\"#fdca26\"],[1.0,\"#f0f921\"]]}],\"surface\":[{\"type\":\"surface\",\"colorbar\":{\"outlinewidth\":0,\"ticks\":\"\"},\"colorscale\":[[0.0,\"#0d0887\"],[0.1111111111111111,\"#46039f\"],[0.2222222222222222,\"#7201a8\"],[0.3333333333333333,\"#9c179e\"],[0.4444444444444444,\"#bd3786\"],[0.5555555555555556,\"#d8576b\"],[0.6666666666666666,\"#ed7953\"],[0.7777777777777778,\"#fb9f3a\"],[0.8888888888888888,\"#fdca26\"],[1.0,\"#f0f921\"]]}],\"mesh3d\":[{\"type\":\"mesh3d\",\"colorbar\":{\"outlinewidth\":0,\"ticks\":\"\"}}],\"scatter\":[{\"fillpattern\":{\"fillmode\":\"overlay\",\"size\":10,\"solidity\":0.2},\"type\":\"scatter\"}],\"parcoords\":[{\"type\":\"parcoords\",\"line\":{\"colorbar\":{\"outlinewidth\":0,\"ticks\":\"\"}}}],\"scatterpolargl\":[{\"type\":\"scatterpolargl\",\"marker\":{\"colorbar\":{\"outlinewidth\":0,\"ticks\":\"\"}}}],\"bar\":[{\"error_x\":{\"color\":\"#2a3f5f\"},\"error_y\":{\"color\":\"#2a3f5f\"},\"marker\":{\"line\":{\"color\":\"#E5ECF6\",\"width\":0.5},\"pattern\":{\"fillmode\":\"overlay\",\"size\":10,\"solidity\":0.2}},\"type\":\"bar\"}],\"scattergeo\":[{\"type\":\"scattergeo\",\"marker\":{\"colorbar\":{\"outlinewidth\":0,\"ticks\":\"\"}}}],\"scatterpolar\":[{\"type\":\"scatterpolar\",\"marker\":{\"colorbar\":{\"outlinewidth\":0,\"ticks\":\"\"}}}],\"histogram\":[{\"marker\":{\"pattern\":{\"fillmode\":\"overlay\",\"size\":10,\"solidity\":0.2}},\"type\":\"histogram\"}],\"scattergl\":[{\"type\":\"scattergl\",\"marker\":{\"colorbar\":{\"outlinewidth\":0,\"ticks\":\"\"}}}],\"scatter3d\":[{\"type\":\"scatter3d\",\"line\":{\"colorbar\":{\"outlinewidth\":0,\"ticks\":\"\"}},\"marker\":{\"colorbar\":{\"outlinewidth\":0,\"ticks\":\"\"}}}],\"scattermapbox\":[{\"type\":\"scattermapbox\",\"marker\":{\"colorbar\":{\"outlinewidth\":0,\"ticks\":\"\"}}}],\"scatterternary\":[{\"type\":\"scatterternary\",\"marker\":{\"colorbar\":{\"outlinewidth\":0,\"ticks\":\"\"}}}],\"scattercarpet\":[{\"type\":\"scattercarpet\",\"marker\":{\"colorbar\":{\"outlinewidth\":0,\"ticks\":\"\"}}}],\"carpet\":[{\"aaxis\":{\"endlinecolor\":\"#2a3f5f\",\"gridcolor\":\"white\",\"linecolor\":\"white\",\"minorgridcolor\":\"white\",\"startlinecolor\":\"#2a3f5f\"},\"baxis\":{\"endlinecolor\":\"#2a3f5f\",\"gridcolor\":\"white\",\"linecolor\":\"white\",\"minorgridcolor\":\"white\",\"startlinecolor\":\"#2a3f5f\"},\"type\":\"carpet\"}],\"table\":[{\"cells\":{\"fill\":{\"color\":\"#EBF0F8\"},\"line\":{\"color\":\"white\"}},\"header\":{\"fill\":{\"color\":\"#C8D4E3\"},\"line\":{\"color\":\"white\"}},\"type\":\"table\"}],\"barpolar\":[{\"marker\":{\"line\":{\"color\":\"#E5ECF6\",\"width\":0.5},\"pattern\":{\"fillmode\":\"overlay\",\"size\":10,\"solidity\":0.2}},\"type\":\"barpolar\"}],\"pie\":[{\"automargin\":true,\"type\":\"pie\"}]},\"layout\":{\"autotypenumbers\":\"strict\",\"colorway\":[\"#636efa\",\"#EF553B\",\"#00cc96\",\"#ab63fa\",\"#FFA15A\",\"#19d3f3\",\"#FF6692\",\"#B6E880\",\"#FF97FF\",\"#FECB52\"],\"font\":{\"color\":\"#2a3f5f\"},\"hovermode\":\"closest\",\"hoverlabel\":{\"align\":\"left\"},\"paper_bgcolor\":\"white\",\"plot_bgcolor\":\"#E5ECF6\",\"polar\":{\"bgcolor\":\"#E5ECF6\",\"angularaxis\":{\"gridcolor\":\"white\",\"linecolor\":\"white\",\"ticks\":\"\"},\"radialaxis\":{\"gridcolor\":\"white\",\"linecolor\":\"white\",\"ticks\":\"\"}},\"ternary\":{\"bgcolor\":\"#E5ECF6\",\"aaxis\":{\"gridcolor\":\"white\",\"linecolor\":\"white\",\"ticks\":\"\"},\"baxis\":{\"gridcolor\":\"white\",\"linecolor\":\"white\",\"ticks\":\"\"},\"caxis\":{\"gridcolor\":\"white\",\"linecolor\":\"white\",\"ticks\":\"\"}},\"coloraxis\":{\"colorbar\":{\"outlinewidth\":0,\"ticks\":\"\"}},\"colorscale\":{\"sequential\":[[0.0,\"#0d0887\"],[0.1111111111111111,\"#46039f\"],[0.2222222222222222,\"#7201a8\"],[0.3333333333333333,\"#9c179e\"],[0.4444444444444444,\"#bd3786\"],[0.5555555555555556,\"#d8576b\"],[0.6666666666666666,\"#ed7953\"],[0.7777777777777778,\"#fb9f3a\"],[0.8888888888888888,\"#fdca26\"],[1.0,\"#f0f921\"]],\"sequentialminus\":[[0.0,\"#0d0887\"],[0.1111111111111111,\"#46039f\"],[0.2222222222222222,\"#7201a8\"],[0.3333333333333333,\"#9c179e\"],[0.4444444444444444,\"#bd3786\"],[0.5555555555555556,\"#d8576b\"],[0.6666666666666666,\"#ed7953\"],[0.7777777777777778,\"#fb9f3a\"],[0.8888888888888888,\"#fdca26\"],[1.0,\"#f0f921\"]],\"diverging\":[[0,\"#8e0152\"],[0.1,\"#c51b7d\"],[0.2,\"#de77ae\"],[0.3,\"#f1b6da\"],[0.4,\"#fde0ef\"],[0.5,\"#f7f7f7\"],[0.6,\"#e6f5d0\"],[0.7,\"#b8e186\"],[0.8,\"#7fbc41\"],[0.9,\"#4d9221\"],[1,\"#276419\"]]},\"xaxis\":{\"gridcolor\":\"white\",\"linecolor\":\"white\",\"ticks\":\"\",\"title\":{\"standoff\":15},\"zerolinecolor\":\"white\",\"automargin\":true,\"zerolinewidth\":2},\"yaxis\":{\"gridcolor\":\"white\",\"linecolor\":\"white\",\"ticks\":\"\",\"title\":{\"standoff\":15},\"zerolinecolor\":\"white\",\"automargin\":true,\"zerolinewidth\":2},\"scene\":{\"xaxis\":{\"backgroundcolor\":\"#E5ECF6\",\"gridcolor\":\"white\",\"linecolor\":\"white\",\"showbackground\":true,\"ticks\":\"\",\"zerolinecolor\":\"white\",\"gridwidth\":2},\"yaxis\":{\"backgroundcolor\":\"#E5ECF6\",\"gridcolor\":\"white\",\"linecolor\":\"white\",\"showbackground\":true,\"ticks\":\"\",\"zerolinecolor\":\"white\",\"gridwidth\":2},\"zaxis\":{\"backgroundcolor\":\"#E5ECF6\",\"gridcolor\":\"white\",\"linecolor\":\"white\",\"showbackground\":true,\"ticks\":\"\",\"zerolinecolor\":\"white\",\"gridwidth\":2}},\"shapedefaults\":{\"line\":{\"color\":\"#2a3f5f\"}},\"annotationdefaults\":{\"arrowcolor\":\"#2a3f5f\",\"arrowhead\":0,\"arrowwidth\":1},\"geo\":{\"bgcolor\":\"white\",\"landcolor\":\"#E5ECF6\",\"subunitcolor\":\"white\",\"showland\":true,\"showlakes\":true,\"lakecolor\":\"white\"},\"title\":{\"x\":0.05},\"mapbox\":{\"style\":\"light\"}}},\"xaxis\":{\"anchor\":\"y\",\"domain\":[0.0,0.45]},\"yaxis\":{\"anchor\":\"x\",\"domain\":[0.625,1.0]},\"xaxis2\":{\"anchor\":\"y2\",\"domain\":[0.55,1.0]},\"yaxis2\":{\"anchor\":\"x2\",\"domain\":[0.625,1.0]},\"xaxis3\":{\"anchor\":\"y3\",\"domain\":[0.0,0.45]},\"yaxis3\":{\"anchor\":\"x3\",\"domain\":[0.0,0.375]},\"xaxis4\":{\"anchor\":\"y4\",\"domain\":[0.55,1.0]},\"yaxis4\":{\"anchor\":\"x4\",\"domain\":[0.0,0.375]},\"annotations\":[{\"font\":{\"size\":16},\"showarrow\":false,\"text\":\"HomePlanet\",\"x\":0.225,\"xanchor\":\"center\",\"xref\":\"paper\",\"y\":1.0,\"yanchor\":\"bottom\",\"yref\":\"paper\"},{\"font\":{\"size\":16},\"showarrow\":false,\"text\":\"CryoSleep\",\"x\":0.775,\"xanchor\":\"center\",\"xref\":\"paper\",\"y\":1.0,\"yanchor\":\"bottom\",\"yref\":\"paper\"},{\"font\":{\"size\":16},\"showarrow\":false,\"text\":\"Destination\",\"x\":0.225,\"xanchor\":\"center\",\"xref\":\"paper\",\"y\":0.375,\"yanchor\":\"bottom\",\"yref\":\"paper\"},{\"font\":{\"size\":16},\"showarrow\":false,\"text\":\"VIP\",\"x\":0.775,\"xanchor\":\"center\",\"xref\":\"paper\",\"y\":0.375,\"yanchor\":\"bottom\",\"yref\":\"paper\"}],\"height\":800,\"width\":1000,\"showlegend\":false,\"title\":{\"font\":{\"family\":\"Arial, sans-serif\",\"size\":24},\"text\":\"Categorical Variables - Transported\",\"x\":0.5}},                        {\"responsive\": true}                    ).then(function(){\n",
       "                            \n",
       "var gd = document.getElementById('d7188901-4419-4a31-94b4-250bd5c31bc6');\n",
       "var x = new MutationObserver(function (mutations, observer) {{\n",
       "        var display = window.getComputedStyle(gd).display;\n",
       "        if (!display || display === 'none') {{\n",
       "            console.log([gd, 'removed!']);\n",
       "            Plotly.purge(gd);\n",
       "            observer.disconnect();\n",
       "        }}\n",
       "}});\n",
       "\n",
       "// Listen for the removal of the full notebook cells\n",
       "var notebookContainer = gd.closest('#notebook-container');\n",
       "if (notebookContainer) {{\n",
       "    x.observe(notebookContainer, {childList: true});\n",
       "}}\n",
       "\n",
       "// Listen for the clearing of the current output cell\n",
       "var outputEl = gd.closest('.output');\n",
       "if (outputEl) {{\n",
       "    x.observe(outputEl, {childList: true});\n",
       "}}\n",
       "\n",
       "                        })                };                });            </script>        </div>"
      ]
     },
     "metadata": {},
     "output_type": "display_data"
    }
   ],
   "source": [
    "categorical_variables = ['HomePlanet', 'CryoSleep', 'Destination', 'VIP']\n",
    "\n",
    "fig = make_subplots(rows=2, cols=2, subplot_titles=categorical_variables)\n",
    "\n",
    "for i, var in enumerate(categorical_variables):\n",
    "    row = i // 2 + 1\n",
    "    col = i % 2 + 1\n",
    "    counts = train.groupby([var, 'Transported']).size().unstack(fill_value=0)\n",
    "    for transported_value in counts.columns:\n",
    "        fig.add_trace(\n",
    "            go.Bar(\n",
    "            x=counts.index,\n",
    "            y=counts[transported_value],\n",
    "            name=f'Transported={transported_value}',\n",
    "            marker=dict(color=['#FF6666', '#3BCEAC'][transported_value])),\n",
    "            row=row, col=col)\n",
    "\n",
    "fig.update_layout(\n",
    "    height=800, width=1000, showlegend=False)\n",
    "\n",
    "fig.update_layout(\n",
    "    title={\n",
    "        'text': 'Categorical Variables - Transported',\n",
    "        'x':0.5,\n",
    "        'font': {'family': \"Arial, sans-serif\", 'size': 24}\n",
    "    })\n",
    "\n",
    "fig.add_trace(\n",
    "    go.Bar(name='Transported=0', marker=dict(color='#FFD23F')), row=2, col=2\n",
    ")\n",
    "fig.add_trace(\n",
    "    go.Bar(name='Transported=1', marker=dict(color='#3BCEAC')), row=2, col=2\n",
    ")\n",
    "\n",
    "fig.show()"
   ]
  },
  {
   "cell_type": "code",
   "execution_count": 22,
   "id": "6d33b65c",
   "metadata": {
    "execution": {
     "iopub.execute_input": "2024-07-23T11:35:36.071721Z",
     "iopub.status.busy": "2024-07-23T11:35:36.071318Z",
     "iopub.status.idle": "2024-07-23T11:35:36.079529Z",
     "shell.execute_reply": "2024-07-23T11:35:36.078143Z"
    },
    "papermill": {
     "duration": 0.053656,
     "end_time": "2024-07-23T11:35:36.082412",
     "exception": false,
     "start_time": "2024-07-23T11:35:36.028756",
     "status": "completed"
    },
    "tags": []
   },
   "outputs": [
    {
     "data": {
      "text/plain": [
       "Index(['PassengerId', 'HomePlanet', 'CryoSleep', 'Cabin', 'Destination', 'Age',\n",
       "       'VIP', 'RoomService', 'FoodCourt', 'ShoppingMall', 'Spa', 'VRDeck',\n",
       "       'Name', 'Transported'],\n",
       "      dtype='object')"
      ]
     },
     "execution_count": 22,
     "metadata": {},
     "output_type": "execute_result"
    }
   ],
   "source": [
    "train.columns"
   ]
  },
  {
   "cell_type": "code",
   "execution_count": 23,
   "id": "af154842",
   "metadata": {
    "execution": {
     "iopub.execute_input": "2024-07-23T11:35:36.167114Z",
     "iopub.status.busy": "2024-07-23T11:35:36.166719Z",
     "iopub.status.idle": "2024-07-23T11:35:36.188454Z",
     "shell.execute_reply": "2024-07-23T11:35:36.186916Z"
    },
    "papermill": {
     "duration": 0.066228,
     "end_time": "2024-07-23T11:35:36.191273",
     "exception": false,
     "start_time": "2024-07-23T11:35:36.125045",
     "status": "completed"
    },
    "tags": []
   },
   "outputs": [
    {
     "data": {
      "text/html": [
       "<div>\n",
       "<style scoped>\n",
       "    .dataframe tbody tr th:only-of-type {\n",
       "        vertical-align: middle;\n",
       "    }\n",
       "\n",
       "    .dataframe tbody tr th {\n",
       "        vertical-align: top;\n",
       "    }\n",
       "\n",
       "    .dataframe thead th {\n",
       "        text-align: right;\n",
       "    }\n",
       "</style>\n",
       "<table border=\"1\" class=\"dataframe\">\n",
       "  <thead>\n",
       "    <tr style=\"text-align: right;\">\n",
       "      <th></th>\n",
       "      <th>Transported</th>\n",
       "    </tr>\n",
       "    <tr>\n",
       "      <th>VIP</th>\n",
       "      <th></th>\n",
       "    </tr>\n",
       "  </thead>\n",
       "  <tbody>\n",
       "    <tr>\n",
       "      <th>False</th>\n",
       "      <td>4198</td>\n",
       "    </tr>\n",
       "    <tr>\n",
       "      <th>True</th>\n",
       "      <td>76</td>\n",
       "    </tr>\n",
       "  </tbody>\n",
       "</table>\n",
       "</div>"
      ],
      "text/plain": [
       "       Transported\n",
       "VIP               \n",
       "False         4198\n",
       "True            76"
      ]
     },
     "execution_count": 23,
     "metadata": {},
     "output_type": "execute_result"
    }
   ],
   "source": [
    "train[['Transported','VIP']].groupby('VIP').sum()"
   ]
  },
  {
   "cell_type": "code",
   "execution_count": 24,
   "id": "3b861d9d",
   "metadata": {
    "execution": {
     "iopub.execute_input": "2024-07-23T11:35:36.277648Z",
     "iopub.status.busy": "2024-07-23T11:35:36.277233Z",
     "iopub.status.idle": "2024-07-23T11:35:36.747824Z",
     "shell.execute_reply": "2024-07-23T11:35:36.746318Z"
    },
    "papermill": {
     "duration": 0.517683,
     "end_time": "2024-07-23T11:35:36.751245",
     "exception": false,
     "start_time": "2024-07-23T11:35:36.233562",
     "status": "completed"
    },
    "tags": []
   },
   "outputs": [
    {
     "data": {
      "text/plain": [
       "<Axes: xlabel='CryoSleep', ylabel='count'>"
      ]
     },
     "execution_count": 24,
     "metadata": {},
     "output_type": "execute_result"
    },
    {
     "data": {
      "image/png": "[encoded data removed]",
      "text/plain": [
       "<Figure size 640x480 with 1 Axes>"
      ]
     },
     "metadata": {},
     "output_type": "display_data"
    }
   ],
   "source": [
    "sns.countplot(data=train,x='CryoSleep')"
   ]
  },
  {
   "cell_type": "code",
   "execution_count": 25,
   "id": "525aaff0",
   "metadata": {
    "execution": {
     "iopub.execute_input": "2024-07-23T11:35:36.840840Z",
     "iopub.status.busy": "2024-07-23T11:35:36.840376Z",
     "iopub.status.idle": "2024-07-23T11:35:37.848276Z",
     "shell.execute_reply": "2024-07-23T11:35:37.846664Z"
    },
    "papermill": {
     "duration": 1.05734,
     "end_time": "2024-07-23T11:35:37.851284",
     "exception": false,
     "start_time": "2024-07-23T11:35:36.793944",
     "status": "completed"
    },
    "tags": []
   },
   "outputs": [
    {
     "data": {
      "text/plain": [
       "<Axes: xlabel='Age', ylabel='Count'>"
      ]
     },
     "execution_count": 25,
     "metadata": {},
     "output_type": "execute_result"
    },
    {
     "data": {
      "image/png": "[encoded data removed]",
      "text/plain": [
       "<Figure size 640x480 with 1 Axes>"
      ]
     },
     "metadata": {},
     "output_type": "display_data"
    }
   ],
   "source": [
    "sns.histplot(data=train, x='Age', hue='Transported', binwidth=1, kde=True)"
   ]
  },
  {
   "cell_type": "code",
   "execution_count": 26,
   "id": "81882b66",
   "metadata": {
    "execution": {
     "iopub.execute_input": "2024-07-23T11:35:37.943352Z",
     "iopub.status.busy": "2024-07-23T11:35:37.942794Z",
     "iopub.status.idle": "2024-07-23T11:35:37.957257Z",
     "shell.execute_reply": "2024-07-23T11:35:37.954962Z"
    },
    "papermill": {
     "duration": 0.066379,
     "end_time": "2024-07-23T11:35:37.960285",
     "exception": false,
     "start_time": "2024-07-23T11:35:37.893906",
     "status": "completed"
    },
    "tags": []
   },
   "outputs": [
    {
     "data": {
      "text/plain": [
       "Destination\n",
       "TRAPPIST-1e      5915\n",
       "55 Cancri e      1800\n",
       "PSO J318.5-22     796\n",
       "Name: count, dtype: int64"
      ]
     },
     "execution_count": 26,
     "metadata": {},
     "output_type": "execute_result"
    }
   ],
   "source": [
    "train.Destination.value_counts()"
   ]
  },
  {
   "cell_type": "code",
   "execution_count": 27,
   "id": "153b0de6",
   "metadata": {
    "execution": {
     "iopub.execute_input": "2024-07-23T11:35:38.051647Z",
     "iopub.status.busy": "2024-07-23T11:35:38.051121Z",
     "iopub.status.idle": "2024-07-23T11:35:38.080301Z",
     "shell.execute_reply": "2024-07-23T11:35:38.078434Z"
    },
    "papermill": {
     "duration": 0.079619,
     "end_time": "2024-07-23T11:35:38.083833",
     "exception": false,
     "start_time": "2024-07-23T11:35:38.004214",
     "status": "completed"
    },
    "tags": []
   },
   "outputs": [
    {
     "data": {
      "text/html": [
       "<div>\n",
       "<style scoped>\n",
       "    .dataframe tbody tr th:only-of-type {\n",
       "        vertical-align: middle;\n",
       "    }\n",
       "\n",
       "    .dataframe tbody tr th {\n",
       "        vertical-align: top;\n",
       "    }\n",
       "\n",
       "    .dataframe thead th {\n",
       "        text-align: right;\n",
       "    }\n",
       "</style>\n",
       "<table border=\"1\" class=\"dataframe\">\n",
       "  <thead>\n",
       "    <tr style=\"text-align: right;\">\n",
       "      <th></th>\n",
       "      <th>PassengerId</th>\n",
       "      <th>HomePlanet</th>\n",
       "      <th>CryoSleep</th>\n",
       "      <th>Cabin</th>\n",
       "      <th>Destination</th>\n",
       "      <th>Age</th>\n",
       "      <th>VIP</th>\n",
       "      <th>RoomService</th>\n",
       "      <th>FoodCourt</th>\n",
       "      <th>ShoppingMall</th>\n",
       "      <th>Spa</th>\n",
       "      <th>VRDeck</th>\n",
       "      <th>Name</th>\n",
       "      <th>Transported</th>\n",
       "    </tr>\n",
       "  </thead>\n",
       "  <tbody>\n",
       "    <tr>\n",
       "      <th>0</th>\n",
       "      <td>0001_01</td>\n",
       "      <td>Europa</td>\n",
       "      <td>False</td>\n",
       "      <td>B/0/P</td>\n",
       "      <td>TRAPPIST-1e</td>\n",
       "      <td>39.0</td>\n",
       "      <td>False</td>\n",
       "      <td>0.0</td>\n",
       "      <td>0.0</td>\n",
       "      <td>0.0</td>\n",
       "      <td>0.0</td>\n",
       "      <td>0.0</td>\n",
       "      <td>Maham Ofracculy</td>\n",
       "      <td>False</td>\n",
       "    </tr>\n",
       "    <tr>\n",
       "      <th>1</th>\n",
       "      <td>0002_01</td>\n",
       "      <td>Earth</td>\n",
       "      <td>False</td>\n",
       "      <td>F/0/S</td>\n",
       "      <td>TRAPPIST-1e</td>\n",
       "      <td>24.0</td>\n",
       "      <td>False</td>\n",
       "      <td>109.0</td>\n",
       "      <td>9.0</td>\n",
       "      <td>25.0</td>\n",
       "      <td>549.0</td>\n",
       "      <td>44.0</td>\n",
       "      <td>Juanna Vines</td>\n",
       "      <td>True</td>\n",
       "    </tr>\n",
       "    <tr>\n",
       "      <th>2</th>\n",
       "      <td>0003_01</td>\n",
       "      <td>Europa</td>\n",
       "      <td>False</td>\n",
       "      <td>A/0/S</td>\n",
       "      <td>TRAPPIST-1e</td>\n",
       "      <td>58.0</td>\n",
       "      <td>True</td>\n",
       "      <td>43.0</td>\n",
       "      <td>3576.0</td>\n",
       "      <td>0.0</td>\n",
       "      <td>6715.0</td>\n",
       "      <td>49.0</td>\n",
       "      <td>Altark Susent</td>\n",
       "      <td>False</td>\n",
       "    </tr>\n",
       "  </tbody>\n",
       "</table>\n",
       "</div>"
      ],
      "text/plain": [
       "  PassengerId HomePlanet CryoSleep  Cabin  Destination   Age    VIP  \\\n",
       "0     0001_01     Europa     False  B/0/P  TRAPPIST-1e  39.0  False   \n",
       "1     0002_01      Earth     False  F/0/S  TRAPPIST-1e  24.0  False   \n",
       "2     0003_01     Europa     False  A/0/S  TRAPPIST-1e  58.0   True   \n",
       "\n",
       "   RoomService  FoodCourt  ShoppingMall     Spa  VRDeck             Name  \\\n",
       "0          0.0        0.0           0.0     0.0     0.0  Maham Ofracculy   \n",
       "1        109.0        9.0          25.0   549.0    44.0     Juanna Vines   \n",
       "2         43.0     3576.0           0.0  6715.0    49.0    Altark Susent   \n",
       "\n",
       "  Transported  \n",
       "0       False  \n",
       "1        True  \n",
       "2       False  "
      ]
     },
     "execution_count": 27,
     "metadata": {},
     "output_type": "execute_result"
    }
   ],
   "source": [
    "df=df_all.copy()\n",
    "df.head(3)"
   ]
  },
  {
   "cell_type": "code",
   "execution_count": 28,
   "id": "a55a3211",
   "metadata": {
    "execution": {
     "iopub.execute_input": "2024-07-23T11:35:38.181725Z",
     "iopub.status.busy": "2024-07-23T11:35:38.181099Z",
     "iopub.status.idle": "2024-07-23T11:35:38.215011Z",
     "shell.execute_reply": "2024-07-23T11:35:38.213564Z"
    },
    "papermill": {
     "duration": 0.085546,
     "end_time": "2024-07-23T11:35:38.218543",
     "exception": false,
     "start_time": "2024-07-23T11:35:38.132997",
     "status": "completed"
    },
    "tags": []
   },
   "outputs": [
    {
     "data": {
      "text/html": [
       "<div>\n",
       "<style scoped>\n",
       "    .dataframe tbody tr th:only-of-type {\n",
       "        vertical-align: middle;\n",
       "    }\n",
       "\n",
       "    .dataframe tbody tr th {\n",
       "        vertical-align: top;\n",
       "    }\n",
       "\n",
       "    .dataframe thead th {\n",
       "        text-align: right;\n",
       "    }\n",
       "</style>\n",
       "<table border=\"1\" class=\"dataframe\">\n",
       "  <thead>\n",
       "    <tr style=\"text-align: right;\">\n",
       "      <th></th>\n",
       "      <th>PassengerId</th>\n",
       "      <th>HomePlanet</th>\n",
       "      <th>CryoSleep</th>\n",
       "      <th>Cabin</th>\n",
       "      <th>Destination</th>\n",
       "      <th>Age</th>\n",
       "      <th>VIP</th>\n",
       "      <th>RoomService</th>\n",
       "      <th>FoodCourt</th>\n",
       "      <th>ShoppingMall</th>\n",
       "      <th>Spa</th>\n",
       "      <th>VRDeck</th>\n",
       "      <th>Name</th>\n",
       "      <th>Transported</th>\n",
       "      <th>total_charge</th>\n",
       "    </tr>\n",
       "  </thead>\n",
       "  <tbody>\n",
       "    <tr>\n",
       "      <th>0</th>\n",
       "      <td>0001_01</td>\n",
       "      <td>Europa</td>\n",
       "      <td>False</td>\n",
       "      <td>B/0/P</td>\n",
       "      <td>TRAPPIST-1e</td>\n",
       "      <td>39.0</td>\n",
       "      <td>False</td>\n",
       "      <td>0.0</td>\n",
       "      <td>0.0</td>\n",
       "      <td>0.0</td>\n",
       "      <td>0.0</td>\n",
       "      <td>0.0</td>\n",
       "      <td>Maham Ofracculy</td>\n",
       "      <td>False</td>\n",
       "      <td>0.0</td>\n",
       "    </tr>\n",
       "    <tr>\n",
       "      <th>1</th>\n",
       "      <td>0002_01</td>\n",
       "      <td>Earth</td>\n",
       "      <td>False</td>\n",
       "      <td>F/0/S</td>\n",
       "      <td>TRAPPIST-1e</td>\n",
       "      <td>24.0</td>\n",
       "      <td>False</td>\n",
       "      <td>109.0</td>\n",
       "      <td>9.0</td>\n",
       "      <td>25.0</td>\n",
       "      <td>549.0</td>\n",
       "      <td>44.0</td>\n",
       "      <td>Juanna Vines</td>\n",
       "      <td>True</td>\n",
       "      <td>736.0</td>\n",
       "    </tr>\n",
       "    <tr>\n",
       "      <th>2</th>\n",
       "      <td>0003_01</td>\n",
       "      <td>Europa</td>\n",
       "      <td>False</td>\n",
       "      <td>A/0/S</td>\n",
       "      <td>TRAPPIST-1e</td>\n",
       "      <td>58.0</td>\n",
       "      <td>True</td>\n",
       "      <td>43.0</td>\n",
       "      <td>3576.0</td>\n",
       "      <td>0.0</td>\n",
       "      <td>6715.0</td>\n",
       "      <td>49.0</td>\n",
       "      <td>Altark Susent</td>\n",
       "      <td>False</td>\n",
       "      <td>10383.0</td>\n",
       "    </tr>\n",
       "  </tbody>\n",
       "</table>\n",
       "</div>"
      ],
      "text/plain": [
       "  PassengerId HomePlanet CryoSleep  Cabin  Destination   Age    VIP  \\\n",
       "0     0001_01     Europa     False  B/0/P  TRAPPIST-1e  39.0  False   \n",
       "1     0002_01      Earth     False  F/0/S  TRAPPIST-1e  24.0  False   \n",
       "2     0003_01     Europa     False  A/0/S  TRAPPIST-1e  58.0   True   \n",
       "\n",
       "   RoomService  FoodCourt  ShoppingMall     Spa  VRDeck             Name  \\\n",
       "0          0.0        0.0           0.0     0.0     0.0  Maham Ofracculy   \n",
       "1        109.0        9.0          25.0   549.0    44.0     Juanna Vines   \n",
       "2         43.0     3576.0           0.0  6715.0    49.0    Altark Susent   \n",
       "\n",
       "  Transported  total_charge  \n",
       "0       False           0.0  \n",
       "1        True         736.0  \n",
       "2       False       10383.0  "
      ]
     },
     "execution_count": 28,
     "metadata": {},
     "output_type": "execute_result"
    }
   ],
   "source": [
    "df['total_charge']=df_all[['RoomService', 'FoodCourt', 'ShoppingMall', 'Spa', 'VRDeck']].sum(axis=1)\n",
    "df.head(3)"
   ]
  },
  {
   "cell_type": "code",
   "execution_count": 29,
   "id": "1b498418",
   "metadata": {
    "execution": {
     "iopub.execute_input": "2024-07-23T11:35:38.315528Z",
     "iopub.status.busy": "2024-07-23T11:35:38.315071Z",
     "iopub.status.idle": "2024-07-23T11:35:39.663890Z",
     "shell.execute_reply": "2024-07-23T11:35:39.662417Z"
    },
    "papermill": {
     "duration": 1.401713,
     "end_time": "2024-07-23T11:35:39.668399",
     "exception": false,
     "start_time": "2024-07-23T11:35:38.266686",
     "status": "completed"
    },
    "tags": []
   },
   "outputs": [
    {
     "data": {
      "text/plain": [
       "<Axes: xlabel='Age', ylabel='total_charge'>"
      ]
     },
     "execution_count": 29,
     "metadata": {},
     "output_type": "execute_result"
    },
    {
     "data": {
      "image/png": "[encoded data removed]",
      "text/plain": [
       "<Figure size 1200x800 with 1 Axes>"
      ]
     },
     "metadata": {},
     "output_type": "display_data"
    }
   ],
   "source": [
    "plt.figure(figsize=(12,8))\n",
    "sns.scatterplot(data=df,x='Age',y='total_charge',hue='Transported')"
   ]
  },
  {
   "cell_type": "markdown",
   "id": "3fae0265",
   "metadata": {
    "papermill": {
     "duration": 0.047064,
     "end_time": "2024-07-23T11:35:39.761269",
     "exception": false,
     "start_time": "2024-07-23T11:35:39.714205",
     "status": "completed"
    },
    "tags": []
   },
   "source": [
    "## Feature Engineering "
   ]
  },
  {
   "cell_type": "code",
   "execution_count": 30,
   "id": "452589d9",
   "metadata": {
    "execution": {
     "iopub.execute_input": "2024-07-23T11:35:39.856488Z",
     "iopub.status.busy": "2024-07-23T11:35:39.856008Z",
     "iopub.status.idle": "2024-07-23T11:35:39.882085Z",
     "shell.execute_reply": "2024-07-23T11:35:39.880496Z"
    },
    "papermill": {
     "duration": 0.077951,
     "end_time": "2024-07-23T11:35:39.884944",
     "exception": false,
     "start_time": "2024-07-23T11:35:39.806993",
     "status": "completed"
    },
    "tags": []
   },
   "outputs": [
    {
     "data": {
      "text/html": [
       "<div>\n",
       "<style scoped>\n",
       "    .dataframe tbody tr th:only-of-type {\n",
       "        vertical-align: middle;\n",
       "    }\n",
       "\n",
       "    .dataframe tbody tr th {\n",
       "        vertical-align: top;\n",
       "    }\n",
       "\n",
       "    .dataframe thead th {\n",
       "        text-align: right;\n",
       "    }\n",
       "</style>\n",
       "<table border=\"1\" class=\"dataframe\">\n",
       "  <thead>\n",
       "    <tr style=\"text-align: right;\">\n",
       "      <th></th>\n",
       "      <th>PassengerId</th>\n",
       "      <th>HomePlanet</th>\n",
       "      <th>CryoSleep</th>\n",
       "      <th>Cabin</th>\n",
       "      <th>Destination</th>\n",
       "      <th>Age</th>\n",
       "      <th>VIP</th>\n",
       "      <th>RoomService</th>\n",
       "      <th>FoodCourt</th>\n",
       "      <th>ShoppingMall</th>\n",
       "      <th>Spa</th>\n",
       "      <th>VRDeck</th>\n",
       "      <th>Name</th>\n",
       "      <th>Transported</th>\n",
       "      <th>total_charge</th>\n",
       "    </tr>\n",
       "  </thead>\n",
       "  <tbody>\n",
       "    <tr>\n",
       "      <th>0</th>\n",
       "      <td>0001_01</td>\n",
       "      <td>Europa</td>\n",
       "      <td>False</td>\n",
       "      <td>B/0/P</td>\n",
       "      <td>TRAPPIST-1e</td>\n",
       "      <td>39.0</td>\n",
       "      <td>False</td>\n",
       "      <td>0.0</td>\n",
       "      <td>0.0</td>\n",
       "      <td>0.0</td>\n",
       "      <td>0.0</td>\n",
       "      <td>0.0</td>\n",
       "      <td>Maham Ofracculy</td>\n",
       "      <td>False</td>\n",
       "      <td>0.0</td>\n",
       "    </tr>\n",
       "    <tr>\n",
       "      <th>1</th>\n",
       "      <td>0002_01</td>\n",
       "      <td>Earth</td>\n",
       "      <td>False</td>\n",
       "      <td>F/0/S</td>\n",
       "      <td>TRAPPIST-1e</td>\n",
       "      <td>24.0</td>\n",
       "      <td>False</td>\n",
       "      <td>109.0</td>\n",
       "      <td>9.0</td>\n",
       "      <td>25.0</td>\n",
       "      <td>549.0</td>\n",
       "      <td>44.0</td>\n",
       "      <td>Juanna Vines</td>\n",
       "      <td>True</td>\n",
       "      <td>736.0</td>\n",
       "    </tr>\n",
       "    <tr>\n",
       "      <th>2</th>\n",
       "      <td>0003_01</td>\n",
       "      <td>Europa</td>\n",
       "      <td>False</td>\n",
       "      <td>A/0/S</td>\n",
       "      <td>TRAPPIST-1e</td>\n",
       "      <td>58.0</td>\n",
       "      <td>True</td>\n",
       "      <td>43.0</td>\n",
       "      <td>3576.0</td>\n",
       "      <td>0.0</td>\n",
       "      <td>6715.0</td>\n",
       "      <td>49.0</td>\n",
       "      <td>Altark Susent</td>\n",
       "      <td>False</td>\n",
       "      <td>10383.0</td>\n",
       "    </tr>\n",
       "  </tbody>\n",
       "</table>\n",
       "</div>"
      ],
      "text/plain": [
       "  PassengerId HomePlanet CryoSleep  Cabin  Destination   Age    VIP  \\\n",
       "0     0001_01     Europa     False  B/0/P  TRAPPIST-1e  39.0  False   \n",
       "1     0002_01      Earth     False  F/0/S  TRAPPIST-1e  24.0  False   \n",
       "2     0003_01     Europa     False  A/0/S  TRAPPIST-1e  58.0   True   \n",
       "\n",
       "   RoomService  FoodCourt  ShoppingMall     Spa  VRDeck             Name  \\\n",
       "0          0.0        0.0           0.0     0.0     0.0  Maham Ofracculy   \n",
       "1        109.0        9.0          25.0   549.0    44.0     Juanna Vines   \n",
       "2         43.0     3576.0           0.0  6715.0    49.0    Altark Susent   \n",
       "\n",
       "  Transported  total_charge  \n",
       "0       False           0.0  \n",
       "1        True         736.0  \n",
       "2       False       10383.0  "
      ]
     },
     "execution_count": 30,
     "metadata": {},
     "output_type": "execute_result"
    }
   ],
   "source": [
    "df.head(3)"
   ]
  },
  {
   "cell_type": "markdown",
   "id": "ed29e5f4",
   "metadata": {
    "papermill": {
     "duration": 0.048781,
     "end_time": "2024-07-23T11:35:39.981554",
     "exception": false,
     "start_time": "2024-07-23T11:35:39.932773",
     "status": "completed"
    },
    "tags": []
   },
   "source": [
    "**The cabin number where the passenger is staying. Takes the form deck/num/side, where side can be either P for Port or S for Starboard**"
   ]
  },
  {
   "cell_type": "code",
   "execution_count": 31,
   "id": "5013192c",
   "metadata": {
    "execution": {
     "iopub.execute_input": "2024-07-23T11:35:40.079501Z",
     "iopub.status.busy": "2024-07-23T11:35:40.079024Z",
     "iopub.status.idle": "2024-07-23T11:35:40.114275Z",
     "shell.execute_reply": "2024-07-23T11:35:40.112730Z"
    },
    "papermill": {
     "duration": 0.089273,
     "end_time": "2024-07-23T11:35:40.117503",
     "exception": false,
     "start_time": "2024-07-23T11:35:40.028230",
     "status": "completed"
    },
    "tags": []
   },
   "outputs": [
    {
     "data": {
      "text/plain": [
       "Cabin\n",
       "F    4239\n",
       "G    3781\n",
       "E    1323\n",
       "B    1141\n",
       "C    1102\n",
       "D     720\n",
       "A     354\n",
       "T      11\n",
       "Name: count, dtype: int64"
      ]
     },
     "execution_count": 31,
     "metadata": {},
     "output_type": "execute_result"
    }
   ],
   "source": [
    "df_all.Cabin.str.split('/').str.get(0).value_counts()"
   ]
  },
  {
   "cell_type": "code",
   "execution_count": 32,
   "id": "e9f22477",
   "metadata": {
    "execution": {
     "iopub.execute_input": "2024-07-23T11:35:40.220149Z",
     "iopub.status.busy": "2024-07-23T11:35:40.219733Z",
     "iopub.status.idle": "2024-07-23T11:35:40.250859Z",
     "shell.execute_reply": "2024-07-23T11:35:40.249591Z"
    },
    "papermill": {
     "duration": 0.088173,
     "end_time": "2024-07-23T11:35:40.253647",
     "exception": false,
     "start_time": "2024-07-23T11:35:40.165474",
     "status": "completed"
    },
    "tags": []
   },
   "outputs": [
    {
     "data": {
      "text/plain": [
       "Cabin\n",
       "S    6381\n",
       "P    6290\n",
       "Name: count, dtype: int64"
      ]
     },
     "execution_count": 32,
     "metadata": {},
     "output_type": "execute_result"
    }
   ],
   "source": [
    "df_all.Cabin.str.split('/').str.get(2).value_counts()"
   ]
  },
  {
   "cell_type": "code",
   "execution_count": 33,
   "id": "71e24aff",
   "metadata": {
    "execution": {
     "iopub.execute_input": "2024-07-23T11:35:40.377152Z",
     "iopub.status.busy": "2024-07-23T11:35:40.376729Z",
     "iopub.status.idle": "2024-07-23T11:35:40.396519Z",
     "shell.execute_reply": "2024-07-23T11:35:40.395226Z"
    },
    "papermill": {
     "duration": 0.093911,
     "end_time": "2024-07-23T11:35:40.399484",
     "exception": false,
     "start_time": "2024-07-23T11:35:40.305573",
     "status": "completed"
    },
    "tags": []
   },
   "outputs": [
    {
     "data": {
      "text/plain": [
       "Cabin\n",
       "G/734/S     8\n",
       "G/160/P     8\n",
       "D/176/S     7\n",
       "G/1476/S    7\n",
       "B/201/P     7\n",
       "           ..\n",
       "E/317/P     1\n",
       "F/1039/P    1\n",
       "F/1038/P    1\n",
       "C/158/P     1\n",
       "G/1498/S    1\n",
       "Name: count, Length: 9825, dtype: int64"
      ]
     },
     "execution_count": 33,
     "metadata": {},
     "output_type": "execute_result"
    }
   ],
   "source": [
    "df_all.Cabin.value_counts()"
   ]
  },
  {
   "cell_type": "code",
   "execution_count": 34,
   "id": "b6e3d077",
   "metadata": {
    "execution": {
     "iopub.execute_input": "2024-07-23T11:35:40.499401Z",
     "iopub.status.busy": "2024-07-23T11:35:40.498819Z",
     "iopub.status.idle": "2024-07-23T11:35:40.508920Z",
     "shell.execute_reply": "2024-07-23T11:35:40.507640Z"
    },
    "papermill": {
     "duration": 0.064288,
     "end_time": "2024-07-23T11:35:40.511936",
     "exception": false,
     "start_time": "2024-07-23T11:35:40.447648",
     "status": "completed"
    },
    "tags": []
   },
   "outputs": [
    {
     "data": {
      "text/plain": [
       "299"
      ]
     },
     "execution_count": 34,
     "metadata": {},
     "output_type": "execute_result"
    }
   ],
   "source": [
    "df_all.Cabin.isna().sum()"
   ]
  },
  {
   "cell_type": "code",
   "execution_count": 35,
   "id": "ed71368b",
   "metadata": {
    "execution": {
     "iopub.execute_input": "2024-07-23T11:35:40.612170Z",
     "iopub.status.busy": "2024-07-23T11:35:40.611743Z",
     "iopub.status.idle": "2024-07-23T11:35:40.699630Z",
     "shell.execute_reply": "2024-07-23T11:35:40.698164Z"
    },
    "papermill": {
     "duration": 0.141288,
     "end_time": "2024-07-23T11:35:40.702620",
     "exception": false,
     "start_time": "2024-07-23T11:35:40.561332",
     "status": "completed"
    },
    "tags": []
   },
   "outputs": [
    {
     "data": {
      "text/html": [
       "<div>\n",
       "<style scoped>\n",
       "    .dataframe tbody tr th:only-of-type {\n",
       "        vertical-align: middle;\n",
       "    }\n",
       "\n",
       "    .dataframe tbody tr th {\n",
       "        vertical-align: top;\n",
       "    }\n",
       "\n",
       "    .dataframe thead th {\n",
       "        text-align: right;\n",
       "    }\n",
       "</style>\n",
       "<table border=\"1\" class=\"dataframe\">\n",
       "  <thead>\n",
       "    <tr style=\"text-align: right;\">\n",
       "      <th></th>\n",
       "      <th>PassengerId</th>\n",
       "      <th>HomePlanet</th>\n",
       "      <th>CryoSleep</th>\n",
       "      <th>Cabin</th>\n",
       "      <th>Destination</th>\n",
       "      <th>Age</th>\n",
       "      <th>VIP</th>\n",
       "      <th>RoomService</th>\n",
       "      <th>FoodCourt</th>\n",
       "      <th>ShoppingMall</th>\n",
       "      <th>Spa</th>\n",
       "      <th>VRDeck</th>\n",
       "      <th>Name</th>\n",
       "      <th>Transported</th>\n",
       "      <th>total_charge</th>\n",
       "      <th>cabin_deck</th>\n",
       "      <th>cabin_num</th>\n",
       "      <th>cabin_side</th>\n",
       "    </tr>\n",
       "  </thead>\n",
       "  <tbody>\n",
       "    <tr>\n",
       "      <th>0</th>\n",
       "      <td>0001_01</td>\n",
       "      <td>Europa</td>\n",
       "      <td>False</td>\n",
       "      <td>B/0/P</td>\n",
       "      <td>TRAPPIST-1e</td>\n",
       "      <td>39.0</td>\n",
       "      <td>False</td>\n",
       "      <td>0.0</td>\n",
       "      <td>0.0</td>\n",
       "      <td>0.0</td>\n",
       "      <td>0.0</td>\n",
       "      <td>0.0</td>\n",
       "      <td>Maham Ofracculy</td>\n",
       "      <td>False</td>\n",
       "      <td>0.0</td>\n",
       "      <td>B</td>\n",
       "      <td>0</td>\n",
       "      <td>P</td>\n",
       "    </tr>\n",
       "    <tr>\n",
       "      <th>1</th>\n",
       "      <td>0002_01</td>\n",
       "      <td>Earth</td>\n",
       "      <td>False</td>\n",
       "      <td>F/0/S</td>\n",
       "      <td>TRAPPIST-1e</td>\n",
       "      <td>24.0</td>\n",
       "      <td>False</td>\n",
       "      <td>109.0</td>\n",
       "      <td>9.0</td>\n",
       "      <td>25.0</td>\n",
       "      <td>549.0</td>\n",
       "      <td>44.0</td>\n",
       "      <td>Juanna Vines</td>\n",
       "      <td>True</td>\n",
       "      <td>736.0</td>\n",
       "      <td>F</td>\n",
       "      <td>0</td>\n",
       "      <td>S</td>\n",
       "    </tr>\n",
       "    <tr>\n",
       "      <th>2</th>\n",
       "      <td>0003_01</td>\n",
       "      <td>Europa</td>\n",
       "      <td>False</td>\n",
       "      <td>A/0/S</td>\n",
       "      <td>TRAPPIST-1e</td>\n",
       "      <td>58.0</td>\n",
       "      <td>True</td>\n",
       "      <td>43.0</td>\n",
       "      <td>3576.0</td>\n",
       "      <td>0.0</td>\n",
       "      <td>6715.0</td>\n",
       "      <td>49.0</td>\n",
       "      <td>Altark Susent</td>\n",
       "      <td>False</td>\n",
       "      <td>10383.0</td>\n",
       "      <td>A</td>\n",
       "      <td>0</td>\n",
       "      <td>S</td>\n",
       "    </tr>\n",
       "  </tbody>\n",
       "</table>\n",
       "</div>"
      ],
      "text/plain": [
       "  PassengerId HomePlanet CryoSleep  Cabin  Destination   Age    VIP  \\\n",
       "0     0001_01     Europa     False  B/0/P  TRAPPIST-1e  39.0  False   \n",
       "1     0002_01      Earth     False  F/0/S  TRAPPIST-1e  24.0  False   \n",
       "2     0003_01     Europa     False  A/0/S  TRAPPIST-1e  58.0   True   \n",
       "\n",
       "   RoomService  FoodCourt  ShoppingMall     Spa  VRDeck             Name  \\\n",
       "0          0.0        0.0           0.0     0.0     0.0  Maham Ofracculy   \n",
       "1        109.0        9.0          25.0   549.0    44.0     Juanna Vines   \n",
       "2         43.0     3576.0           0.0  6715.0    49.0    Altark Susent   \n",
       "\n",
       "  Transported  total_charge cabin_deck cabin_num cabin_side  \n",
       "0       False           0.0          B         0          P  \n",
       "1        True         736.0          F         0          S  \n",
       "2       False       10383.0          A         0          S  "
      ]
     },
     "execution_count": 35,
     "metadata": {},
     "output_type": "execute_result"
    }
   ],
   "source": [
    "df['cabin_deck']=df_all.Cabin.str.split('/').str.get(0)\n",
    "df['cabin_num']=df_all.Cabin.str.split('/').str.get(1)\n",
    "df['cabin_side']=df_all.Cabin.str.split('/').str.get(2)\n",
    "\n",
    "df.head(3)"
   ]
  },
  {
   "cell_type": "markdown",
   "id": "5e3e873d",
   "metadata": {
    "papermill": {
     "duration": 0.050586,
     "end_time": "2024-07-23T11:35:40.802203",
     "exception": false,
     "start_time": "2024-07-23T11:35:40.751617",
     "status": "completed"
    },
    "tags": []
   },
   "source": [
    "**Each Id takes the form gggg_pp where gggg indicates a group the passenger is travelling with and pp is their number within the group**"
   ]
  },
  {
   "cell_type": "code",
   "execution_count": 36,
   "id": "04615c04",
   "metadata": {
    "execution": {
     "iopub.execute_input": "2024-07-23T11:35:40.899369Z",
     "iopub.status.busy": "2024-07-23T11:35:40.898922Z",
     "iopub.status.idle": "2024-07-23T11:35:40.942393Z",
     "shell.execute_reply": "2024-07-23T11:35:40.940675Z"
    },
    "papermill": {
     "duration": 0.095847,
     "end_time": "2024-07-23T11:35:40.945647",
     "exception": false,
     "start_time": "2024-07-23T11:35:40.849800",
     "status": "completed"
    },
    "tags": []
   },
   "outputs": [
    {
     "data": {
      "text/plain": [
       "PassengerId\n",
       "6499    8\n",
       "8728    8\n",
       "0984    8\n",
       "4256    8\n",
       "6986    8\n",
       "       ..\n",
       "5190    1\n",
       "5187    1\n",
       "5186    1\n",
       "5185    1\n",
       "9277    1\n",
       "Name: count, Length: 9280, dtype: int64"
      ]
     },
     "execution_count": 36,
     "metadata": {},
     "output_type": "execute_result"
    }
   ],
   "source": [
    "df_all.PassengerId.str.split('_').str.get(0).value_counts()"
   ]
  },
  {
   "cell_type": "code",
   "execution_count": 37,
   "id": "0b95d17c",
   "metadata": {
    "execution": {
     "iopub.execute_input": "2024-07-23T11:35:41.043387Z",
     "iopub.status.busy": "2024-07-23T11:35:41.042907Z",
     "iopub.status.idle": "2024-07-23T11:35:41.221652Z",
     "shell.execute_reply": "2024-07-23T11:35:41.220143Z"
    },
    "papermill": {
     "duration": 0.230859,
     "end_time": "2024-07-23T11:35:41.224595",
     "exception": false,
     "start_time": "2024-07-23T11:35:40.993736",
     "status": "completed"
    },
    "tags": []
   },
   "outputs": [
    {
     "data": {
      "text/plain": [
       "PassengerId\n",
       "01    9280\n",
       "02    2135\n",
       "03     840\n",
       "04     338\n",
       "05     184\n",
       "06     108\n",
       "07      66\n",
       "08      19\n",
       "Name: count, dtype: int64"
      ]
     },
     "execution_count": 37,
     "metadata": {},
     "output_type": "execute_result"
    }
   ],
   "source": [
    "df_all.PassengerId.str.split('_').str.get(1).value_counts()"
   ]
  },
  {
   "cell_type": "code",
   "execution_count": 38,
   "id": "e7ddcc35",
   "metadata": {
    "execution": {
     "iopub.execute_input": "2024-07-23T11:35:41.325021Z",
     "iopub.status.busy": "2024-07-23T11:35:41.324564Z",
     "iopub.status.idle": "2024-07-23T11:35:41.396808Z",
     "shell.execute_reply": "2024-07-23T11:35:41.395493Z"
    },
    "papermill": {
     "duration": 0.12344,
     "end_time": "2024-07-23T11:35:41.399535",
     "exception": false,
     "start_time": "2024-07-23T11:35:41.276095",
     "status": "completed"
    },
    "tags": []
   },
   "outputs": [
    {
     "data": {
      "text/html": [
       "<div>\n",
       "<style scoped>\n",
       "    .dataframe tbody tr th:only-of-type {\n",
       "        vertical-align: middle;\n",
       "    }\n",
       "\n",
       "    .dataframe tbody tr th {\n",
       "        vertical-align: top;\n",
       "    }\n",
       "\n",
       "    .dataframe thead th {\n",
       "        text-align: right;\n",
       "    }\n",
       "</style>\n",
       "<table border=\"1\" class=\"dataframe\">\n",
       "  <thead>\n",
       "    <tr style=\"text-align: right;\">\n",
       "      <th></th>\n",
       "      <th>PassengerId</th>\n",
       "      <th>HomePlanet</th>\n",
       "      <th>CryoSleep</th>\n",
       "      <th>Cabin</th>\n",
       "      <th>Destination</th>\n",
       "      <th>Age</th>\n",
       "      <th>VIP</th>\n",
       "      <th>RoomService</th>\n",
       "      <th>FoodCourt</th>\n",
       "      <th>ShoppingMall</th>\n",
       "      <th>Spa</th>\n",
       "      <th>VRDeck</th>\n",
       "      <th>Name</th>\n",
       "      <th>Transported</th>\n",
       "      <th>total_charge</th>\n",
       "      <th>cabin_deck</th>\n",
       "      <th>cabin_num</th>\n",
       "      <th>cabin_side</th>\n",
       "      <th>Id_gggg</th>\n",
       "      <th>Id_pp</th>\n",
       "    </tr>\n",
       "  </thead>\n",
       "  <tbody>\n",
       "    <tr>\n",
       "      <th>0</th>\n",
       "      <td>0001_01</td>\n",
       "      <td>Europa</td>\n",
       "      <td>False</td>\n",
       "      <td>B/0/P</td>\n",
       "      <td>TRAPPIST-1e</td>\n",
       "      <td>39.0</td>\n",
       "      <td>False</td>\n",
       "      <td>0.0</td>\n",
       "      <td>0.0</td>\n",
       "      <td>0.0</td>\n",
       "      <td>0.0</td>\n",
       "      <td>0.0</td>\n",
       "      <td>Maham Ofracculy</td>\n",
       "      <td>False</td>\n",
       "      <td>0.0</td>\n",
       "      <td>B</td>\n",
       "      <td>0</td>\n",
       "      <td>P</td>\n",
       "      <td>0001</td>\n",
       "      <td>01</td>\n",
       "    </tr>\n",
       "    <tr>\n",
       "      <th>1</th>\n",
       "      <td>0002_01</td>\n",
       "      <td>Earth</td>\n",
       "      <td>False</td>\n",
       "      <td>F/0/S</td>\n",
       "      <td>TRAPPIST-1e</td>\n",
       "      <td>24.0</td>\n",
       "      <td>False</td>\n",
       "      <td>109.0</td>\n",
       "      <td>9.0</td>\n",
       "      <td>25.0</td>\n",
       "      <td>549.0</td>\n",
       "      <td>44.0</td>\n",
       "      <td>Juanna Vines</td>\n",
       "      <td>True</td>\n",
       "      <td>736.0</td>\n",
       "      <td>F</td>\n",
       "      <td>0</td>\n",
       "      <td>S</td>\n",
       "      <td>0002</td>\n",
       "      <td>01</td>\n",
       "    </tr>\n",
       "  </tbody>\n",
       "</table>\n",
       "</div>"
      ],
      "text/plain": [
       "  PassengerId HomePlanet CryoSleep  Cabin  Destination   Age    VIP  \\\n",
       "0     0001_01     Europa     False  B/0/P  TRAPPIST-1e  39.0  False   \n",
       "1     0002_01      Earth     False  F/0/S  TRAPPIST-1e  24.0  False   \n",
       "\n",
       "   RoomService  FoodCourt  ShoppingMall    Spa  VRDeck             Name  \\\n",
       "0          0.0        0.0           0.0    0.0     0.0  Maham Ofracculy   \n",
       "1        109.0        9.0          25.0  549.0    44.0     Juanna Vines   \n",
       "\n",
       "  Transported  total_charge cabin_deck cabin_num cabin_side Id_gggg Id_pp  \n",
       "0       False           0.0          B         0          P    0001    01  \n",
       "1        True         736.0          F         0          S    0002    01  "
      ]
     },
     "execution_count": 38,
     "metadata": {},
     "output_type": "execute_result"
    }
   ],
   "source": [
    "df['Id_gggg']=df_all.PassengerId.str.split('_').str.get(0)\n",
    "df['Id_pp']=df_all.PassengerId.str.split('_').str.get(1)\n",
    "\n",
    "\n",
    "df.head(2)"
   ]
  },
  {
   "cell_type": "code",
   "execution_count": 39,
   "id": "01ddd938",
   "metadata": {
    "execution": {
     "iopub.execute_input": "2024-07-23T11:35:41.498657Z",
     "iopub.status.busy": "2024-07-23T11:35:41.498225Z",
     "iopub.status.idle": "2024-07-23T11:35:41.510891Z",
     "shell.execute_reply": "2024-07-23T11:35:41.509640Z"
    },
    "papermill": {
     "duration": 0.066636,
     "end_time": "2024-07-23T11:35:41.513619",
     "exception": false,
     "start_time": "2024-07-23T11:35:41.446983",
     "status": "completed"
    },
    "tags": []
   },
   "outputs": [
    {
     "data": {
      "text/plain": [
       "HomePlanet\n",
       "Earth     6865\n",
       "Europa    3133\n",
       "Mars      2684\n",
       "Name: count, dtype: int64"
      ]
     },
     "execution_count": 39,
     "metadata": {},
     "output_type": "execute_result"
    }
   ],
   "source": [
    "df_all.HomePlanet.value_counts()"
   ]
  },
  {
   "cell_type": "code",
   "execution_count": 40,
   "id": "78ae4265",
   "metadata": {
    "execution": {
     "iopub.execute_input": "2024-07-23T11:35:41.611783Z",
     "iopub.status.busy": "2024-07-23T11:35:41.611380Z",
     "iopub.status.idle": "2024-07-23T11:35:41.623663Z",
     "shell.execute_reply": "2024-07-23T11:35:41.622196Z"
    },
    "papermill": {
     "duration": 0.064251,
     "end_time": "2024-07-23T11:35:41.626562",
     "exception": false,
     "start_time": "2024-07-23T11:35:41.562311",
     "status": "completed"
    },
    "tags": []
   },
   "outputs": [
    {
     "data": {
      "text/plain": [
       "Destination\n",
       "TRAPPIST-1e      8871\n",
       "55 Cancri e      2641\n",
       "PSO J318.5-22    1184\n",
       "Name: count, dtype: int64"
      ]
     },
     "execution_count": 40,
     "metadata": {},
     "output_type": "execute_result"
    }
   ],
   "source": [
    "df_all.Destination.value_counts()"
   ]
  },
  {
   "cell_type": "code",
   "execution_count": 41,
   "id": "15392c89",
   "metadata": {
    "execution": {
     "iopub.execute_input": "2024-07-23T11:35:41.729808Z",
     "iopub.status.busy": "2024-07-23T11:35:41.729420Z",
     "iopub.status.idle": "2024-07-23T11:35:41.777994Z",
     "shell.execute_reply": "2024-07-23T11:35:41.776503Z"
    },
    "papermill": {
     "duration": 0.103752,
     "end_time": "2024-07-23T11:35:41.781207",
     "exception": false,
     "start_time": "2024-07-23T11:35:41.677455",
     "status": "completed"
    },
    "tags": []
   },
   "outputs": [
    {
     "data": {
      "text/html": [
       "<div>\n",
       "<style scoped>\n",
       "    .dataframe tbody tr th:only-of-type {\n",
       "        vertical-align: middle;\n",
       "    }\n",
       "\n",
       "    .dataframe tbody tr th {\n",
       "        vertical-align: top;\n",
       "    }\n",
       "\n",
       "    .dataframe thead th {\n",
       "        text-align: right;\n",
       "    }\n",
       "</style>\n",
       "<table border=\"1\" class=\"dataframe\">\n",
       "  <thead>\n",
       "    <tr style=\"text-align: right;\">\n",
       "      <th></th>\n",
       "      <th>PassengerId</th>\n",
       "      <th>HomePlanet</th>\n",
       "      <th>CryoSleep</th>\n",
       "      <th>Cabin</th>\n",
       "      <th>Destination</th>\n",
       "      <th>Age</th>\n",
       "      <th>VIP</th>\n",
       "      <th>RoomService</th>\n",
       "      <th>FoodCourt</th>\n",
       "      <th>ShoppingMall</th>\n",
       "      <th>Spa</th>\n",
       "      <th>VRDeck</th>\n",
       "      <th>Name</th>\n",
       "      <th>Transported</th>\n",
       "      <th>total_charge</th>\n",
       "      <th>cabin_deck</th>\n",
       "      <th>cabin_num</th>\n",
       "      <th>cabin_side</th>\n",
       "      <th>Id_gggg</th>\n",
       "      <th>Id_pp</th>\n",
       "    </tr>\n",
       "  </thead>\n",
       "  <tbody>\n",
       "    <tr>\n",
       "      <th>0</th>\n",
       "      <td>0001_01</td>\n",
       "      <td>2.0</td>\n",
       "      <td>0.0</td>\n",
       "      <td>B/0/P</td>\n",
       "      <td>1.0</td>\n",
       "      <td>39.0</td>\n",
       "      <td>0.0</td>\n",
       "      <td>0.0</td>\n",
       "      <td>0.0</td>\n",
       "      <td>0.0</td>\n",
       "      <td>0.0</td>\n",
       "      <td>0.0</td>\n",
       "      <td>Maham Ofracculy</td>\n",
       "      <td>0.0</td>\n",
       "      <td>0.0</td>\n",
       "      <td>B</td>\n",
       "      <td>0</td>\n",
       "      <td>P</td>\n",
       "      <td>0001</td>\n",
       "      <td>01</td>\n",
       "    </tr>\n",
       "    <tr>\n",
       "      <th>1</th>\n",
       "      <td>0002_01</td>\n",
       "      <td>1.0</td>\n",
       "      <td>0.0</td>\n",
       "      <td>F/0/S</td>\n",
       "      <td>1.0</td>\n",
       "      <td>24.0</td>\n",
       "      <td>0.0</td>\n",
       "      <td>109.0</td>\n",
       "      <td>9.0</td>\n",
       "      <td>25.0</td>\n",
       "      <td>549.0</td>\n",
       "      <td>44.0</td>\n",
       "      <td>Juanna Vines</td>\n",
       "      <td>1.0</td>\n",
       "      <td>736.0</td>\n",
       "      <td>F</td>\n",
       "      <td>0</td>\n",
       "      <td>S</td>\n",
       "      <td>0002</td>\n",
       "      <td>01</td>\n",
       "    </tr>\n",
       "    <tr>\n",
       "      <th>2</th>\n",
       "      <td>0003_01</td>\n",
       "      <td>2.0</td>\n",
       "      <td>0.0</td>\n",
       "      <td>A/0/S</td>\n",
       "      <td>1.0</td>\n",
       "      <td>58.0</td>\n",
       "      <td>1.0</td>\n",
       "      <td>43.0</td>\n",
       "      <td>3576.0</td>\n",
       "      <td>0.0</td>\n",
       "      <td>6715.0</td>\n",
       "      <td>49.0</td>\n",
       "      <td>Altark Susent</td>\n",
       "      <td>0.0</td>\n",
       "      <td>10383.0</td>\n",
       "      <td>A</td>\n",
       "      <td>0</td>\n",
       "      <td>S</td>\n",
       "      <td>0003</td>\n",
       "      <td>01</td>\n",
       "    </tr>\n",
       "  </tbody>\n",
       "</table>\n",
       "</div>"
      ],
      "text/plain": [
       "  PassengerId  HomePlanet  CryoSleep  Cabin  Destination   Age  VIP  \\\n",
       "0     0001_01         2.0        0.0  B/0/P          1.0  39.0  0.0   \n",
       "1     0002_01         1.0        0.0  F/0/S          1.0  24.0  0.0   \n",
       "2     0003_01         2.0        0.0  A/0/S          1.0  58.0  1.0   \n",
       "\n",
       "   RoomService  FoodCourt  ShoppingMall     Spa  VRDeck             Name  \\\n",
       "0          0.0        0.0           0.0     0.0     0.0  Maham Ofracculy   \n",
       "1        109.0        9.0          25.0   549.0    44.0     Juanna Vines   \n",
       "2         43.0     3576.0           0.0  6715.0    49.0    Altark Susent   \n",
       "\n",
       "   Transported  total_charge cabin_deck cabin_num cabin_side Id_gggg Id_pp  \n",
       "0          0.0           0.0          B         0          P    0001    01  \n",
       "1          1.0         736.0          F         0          S    0002    01  \n",
       "2          0.0       10383.0          A         0          S    0003    01  "
      ]
     },
     "execution_count": 41,
     "metadata": {},
     "output_type": "execute_result"
    }
   ],
   "source": [
    "home_map={'Earth':1,'Europa':2,'Mars':3}\n",
    "Cyro_map={True:1,False:0}\n",
    "dest_map={'TRAPPIST-1e':1,'55 Cancri e':2,'PSO J318.5-22':3}\n",
    "df['HomePlanet']=df_all['HomePlanet'].map(home_map)\n",
    "df['Destination']=df_all['Destination'].map(dest_map)\n",
    "df['CryoSleep']=df_all['CryoSleep'].map(Cyro_map)\n",
    "df['VIP']=df_all['VIP'].map(Cyro_map)\n",
    "df['Transported']=df_all['Transported'].map(Cyro_map)\n",
    "\n",
    "\n",
    "df.head(3)\n"
   ]
  },
  {
   "cell_type": "code",
   "execution_count": 42,
   "id": "adb94226",
   "metadata": {
    "execution": {
     "iopub.execute_input": "2024-07-23T11:35:41.886631Z",
     "iopub.status.busy": "2024-07-23T11:35:41.885375Z",
     "iopub.status.idle": "2024-07-23T11:35:41.945868Z",
     "shell.execute_reply": "2024-07-23T11:35:41.944559Z"
    },
    "papermill": {
     "duration": 0.113696,
     "end_time": "2024-07-23T11:35:41.948993",
     "exception": false,
     "start_time": "2024-07-23T11:35:41.835297",
     "status": "completed"
    },
    "tags": []
   },
   "outputs": [
    {
     "data": {
      "text/html": [
       "<div>\n",
       "<style scoped>\n",
       "    .dataframe tbody tr th:only-of-type {\n",
       "        vertical-align: middle;\n",
       "    }\n",
       "\n",
       "    .dataframe tbody tr th {\n",
       "        vertical-align: top;\n",
       "    }\n",
       "\n",
       "    .dataframe thead th {\n",
       "        text-align: right;\n",
       "    }\n",
       "</style>\n",
       "<table border=\"1\" class=\"dataframe\">\n",
       "  <thead>\n",
       "    <tr style=\"text-align: right;\">\n",
       "      <th></th>\n",
       "      <th>PassengerId</th>\n",
       "      <th>HomePlanet</th>\n",
       "      <th>CryoSleep</th>\n",
       "      <th>Cabin</th>\n",
       "      <th>Destination</th>\n",
       "      <th>Age</th>\n",
       "      <th>VIP</th>\n",
       "      <th>RoomService</th>\n",
       "      <th>FoodCourt</th>\n",
       "      <th>ShoppingMall</th>\n",
       "      <th>...</th>\n",
       "      <th>VRDeck</th>\n",
       "      <th>Name</th>\n",
       "      <th>Transported</th>\n",
       "      <th>total_charge</th>\n",
       "      <th>cabin_deck</th>\n",
       "      <th>cabin_num</th>\n",
       "      <th>cabin_side</th>\n",
       "      <th>Id_gggg</th>\n",
       "      <th>Id_pp</th>\n",
       "      <th>last_name</th>\n",
       "    </tr>\n",
       "  </thead>\n",
       "  <tbody>\n",
       "    <tr>\n",
       "      <th>0</th>\n",
       "      <td>0001_01</td>\n",
       "      <td>2.0</td>\n",
       "      <td>0.0</td>\n",
       "      <td>B/0/P</td>\n",
       "      <td>1.0</td>\n",
       "      <td>39.0</td>\n",
       "      <td>0.0</td>\n",
       "      <td>0.0</td>\n",
       "      <td>0.0</td>\n",
       "      <td>0.0</td>\n",
       "      <td>...</td>\n",
       "      <td>0.0</td>\n",
       "      <td>Maham Ofracculy</td>\n",
       "      <td>0.0</td>\n",
       "      <td>0.0</td>\n",
       "      <td>B</td>\n",
       "      <td>0</td>\n",
       "      <td>P</td>\n",
       "      <td>0001</td>\n",
       "      <td>01</td>\n",
       "      <td>Ofracculy</td>\n",
       "    </tr>\n",
       "    <tr>\n",
       "      <th>1</th>\n",
       "      <td>0002_01</td>\n",
       "      <td>1.0</td>\n",
       "      <td>0.0</td>\n",
       "      <td>F/0/S</td>\n",
       "      <td>1.0</td>\n",
       "      <td>24.0</td>\n",
       "      <td>0.0</td>\n",
       "      <td>109.0</td>\n",
       "      <td>9.0</td>\n",
       "      <td>25.0</td>\n",
       "      <td>...</td>\n",
       "      <td>44.0</td>\n",
       "      <td>Juanna Vines</td>\n",
       "      <td>1.0</td>\n",
       "      <td>736.0</td>\n",
       "      <td>F</td>\n",
       "      <td>0</td>\n",
       "      <td>S</td>\n",
       "      <td>0002</td>\n",
       "      <td>01</td>\n",
       "      <td>Vines</td>\n",
       "    </tr>\n",
       "    <tr>\n",
       "      <th>2</th>\n",
       "      <td>0003_01</td>\n",
       "      <td>2.0</td>\n",
       "      <td>0.0</td>\n",
       "      <td>A/0/S</td>\n",
       "      <td>1.0</td>\n",
       "      <td>58.0</td>\n",
       "      <td>1.0</td>\n",
       "      <td>43.0</td>\n",
       "      <td>3576.0</td>\n",
       "      <td>0.0</td>\n",
       "      <td>...</td>\n",
       "      <td>49.0</td>\n",
       "      <td>Altark Susent</td>\n",
       "      <td>0.0</td>\n",
       "      <td>10383.0</td>\n",
       "      <td>A</td>\n",
       "      <td>0</td>\n",
       "      <td>S</td>\n",
       "      <td>0003</td>\n",
       "      <td>01</td>\n",
       "      <td>Susent</td>\n",
       "    </tr>\n",
       "  </tbody>\n",
       "</table>\n",
       "<p>3 rows × 21 columns</p>\n",
       "</div>"
      ],
      "text/plain": [
       "  PassengerId  HomePlanet  CryoSleep  Cabin  Destination   Age  VIP  \\\n",
       "0     0001_01         2.0        0.0  B/0/P          1.0  39.0  0.0   \n",
       "1     0002_01         1.0        0.0  F/0/S          1.0  24.0  0.0   \n",
       "2     0003_01         2.0        0.0  A/0/S          1.0  58.0  1.0   \n",
       "\n",
       "   RoomService  FoodCourt  ShoppingMall  ...  VRDeck             Name  \\\n",
       "0          0.0        0.0           0.0  ...     0.0  Maham Ofracculy   \n",
       "1        109.0        9.0          25.0  ...    44.0     Juanna Vines   \n",
       "2         43.0     3576.0           0.0  ...    49.0    Altark Susent   \n",
       "\n",
       "  Transported  total_charge  cabin_deck cabin_num cabin_side Id_gggg Id_pp  \\\n",
       "0         0.0           0.0           B         0          P    0001    01   \n",
       "1         1.0         736.0           F         0          S    0002    01   \n",
       "2         0.0       10383.0           A         0          S    0003    01   \n",
       "\n",
       "   last_name  \n",
       "0  Ofracculy  \n",
       "1      Vines  \n",
       "2     Susent  \n",
       "\n",
       "[3 rows x 21 columns]"
      ]
     },
     "execution_count": 42,
     "metadata": {},
     "output_type": "execute_result"
    }
   ],
   "source": [
    "df['last_name']=df_all['Name'].str.split(' ').str.get(1)\n",
    "df.head(3)"
   ]
  },
  {
   "cell_type": "code",
   "execution_count": 43,
   "id": "cca971c3",
   "metadata": {
    "execution": {
     "iopub.execute_input": "2024-07-23T11:35:42.049657Z",
     "iopub.status.busy": "2024-07-23T11:35:42.049184Z",
     "iopub.status.idle": "2024-07-23T11:35:42.077588Z",
     "shell.execute_reply": "2024-07-23T11:35:42.076313Z"
    },
    "papermill": {
     "duration": 0.08147,
     "end_time": "2024-07-23T11:35:42.080366",
     "exception": false,
     "start_time": "2024-07-23T11:35:41.998896",
     "status": "completed"
    },
    "tags": []
   },
   "outputs": [
    {
     "data": {
      "text/plain": [
       "PassengerId        0\n",
       "HomePlanet       288\n",
       "CryoSleep        310\n",
       "Cabin            299\n",
       "Destination      274\n",
       "Age              270\n",
       "VIP              296\n",
       "RoomService      263\n",
       "FoodCourt        289\n",
       "ShoppingMall     306\n",
       "Spa              284\n",
       "VRDeck           268\n",
       "Name             294\n",
       "Transported     4277\n",
       "total_charge       0\n",
       "cabin_deck       299\n",
       "cabin_num        299\n",
       "cabin_side       299\n",
       "Id_gggg            0\n",
       "Id_pp              0\n",
       "last_name        294\n",
       "dtype: int64"
      ]
     },
     "execution_count": 43,
     "metadata": {},
     "output_type": "execute_result"
    }
   ],
   "source": [
    "df.isna().sum()"
   ]
  },
  {
   "cell_type": "code",
   "execution_count": 44,
   "id": "f6ea4625",
   "metadata": {
    "execution": {
     "iopub.execute_input": "2024-07-23T11:35:42.184657Z",
     "iopub.status.busy": "2024-07-23T11:35:42.183159Z",
     "iopub.status.idle": "2024-07-23T11:35:42.206940Z",
     "shell.execute_reply": "2024-07-23T11:35:42.205772Z"
    },
    "papermill": {
     "duration": 0.076489,
     "end_time": "2024-07-23T11:35:42.209581",
     "exception": false,
     "start_time": "2024-07-23T11:35:42.133092",
     "status": "completed"
    },
    "tags": []
   },
   "outputs": [
    {
     "data": {
      "text/html": [
       "<div>\n",
       "<style scoped>\n",
       "    .dataframe tbody tr th:only-of-type {\n",
       "        vertical-align: middle;\n",
       "    }\n",
       "\n",
       "    .dataframe tbody tr th {\n",
       "        vertical-align: top;\n",
       "    }\n",
       "\n",
       "    .dataframe thead th {\n",
       "        text-align: right;\n",
       "    }\n",
       "</style>\n",
       "<table border=\"1\" class=\"dataframe\">\n",
       "  <thead>\n",
       "    <tr style=\"text-align: right;\">\n",
       "      <th></th>\n",
       "      <th>PassengerId</th>\n",
       "      <th>HomePlanet</th>\n",
       "      <th>CryoSleep</th>\n",
       "      <th>Cabin</th>\n",
       "      <th>Destination</th>\n",
       "      <th>Age</th>\n",
       "      <th>VIP</th>\n",
       "      <th>RoomService</th>\n",
       "      <th>FoodCourt</th>\n",
       "      <th>ShoppingMall</th>\n",
       "      <th>Spa</th>\n",
       "      <th>VRDeck</th>\n",
       "      <th>Name</th>\n",
       "    </tr>\n",
       "  </thead>\n",
       "  <tbody>\n",
       "    <tr>\n",
       "      <th>4272</th>\n",
       "      <td>9266_02</td>\n",
       "      <td>Earth</td>\n",
       "      <td>True</td>\n",
       "      <td>G/1496/S</td>\n",
       "      <td>TRAPPIST-1e</td>\n",
       "      <td>34.0</td>\n",
       "      <td>False</td>\n",
       "      <td>0.0</td>\n",
       "      <td>0.0</td>\n",
       "      <td>0.0</td>\n",
       "      <td>0.0</td>\n",
       "      <td>0.0</td>\n",
       "      <td>Jeron Peter</td>\n",
       "    </tr>\n",
       "    <tr>\n",
       "      <th>4273</th>\n",
       "      <td>9269_01</td>\n",
       "      <td>Earth</td>\n",
       "      <td>False</td>\n",
       "      <td>NaN</td>\n",
       "      <td>TRAPPIST-1e</td>\n",
       "      <td>42.0</td>\n",
       "      <td>False</td>\n",
       "      <td>0.0</td>\n",
       "      <td>847.0</td>\n",
       "      <td>17.0</td>\n",
       "      <td>10.0</td>\n",
       "      <td>144.0</td>\n",
       "      <td>Matty Scheron</td>\n",
       "    </tr>\n",
       "    <tr>\n",
       "      <th>4274</th>\n",
       "      <td>9271_01</td>\n",
       "      <td>Mars</td>\n",
       "      <td>True</td>\n",
       "      <td>D/296/P</td>\n",
       "      <td>55 Cancri e</td>\n",
       "      <td>NaN</td>\n",
       "      <td>False</td>\n",
       "      <td>0.0</td>\n",
       "      <td>0.0</td>\n",
       "      <td>0.0</td>\n",
       "      <td>0.0</td>\n",
       "      <td>0.0</td>\n",
       "      <td>Jayrin Pore</td>\n",
       "    </tr>\n",
       "    <tr>\n",
       "      <th>4275</th>\n",
       "      <td>9273_01</td>\n",
       "      <td>Europa</td>\n",
       "      <td>False</td>\n",
       "      <td>D/297/P</td>\n",
       "      <td>NaN</td>\n",
       "      <td>NaN</td>\n",
       "      <td>False</td>\n",
       "      <td>0.0</td>\n",
       "      <td>2680.0</td>\n",
       "      <td>0.0</td>\n",
       "      <td>0.0</td>\n",
       "      <td>523.0</td>\n",
       "      <td>Kitakan Conale</td>\n",
       "    </tr>\n",
       "    <tr>\n",
       "      <th>4276</th>\n",
       "      <td>9277_01</td>\n",
       "      <td>Earth</td>\n",
       "      <td>True</td>\n",
       "      <td>G/1498/S</td>\n",
       "      <td>PSO J318.5-22</td>\n",
       "      <td>43.0</td>\n",
       "      <td>False</td>\n",
       "      <td>0.0</td>\n",
       "      <td>0.0</td>\n",
       "      <td>0.0</td>\n",
       "      <td>0.0</td>\n",
       "      <td>0.0</td>\n",
       "      <td>Lilace Leonzaley</td>\n",
       "    </tr>\n",
       "  </tbody>\n",
       "</table>\n",
       "</div>"
      ],
      "text/plain": [
       "     PassengerId HomePlanet CryoSleep     Cabin    Destination   Age    VIP  \\\n",
       "4272     9266_02      Earth      True  G/1496/S    TRAPPIST-1e  34.0  False   \n",
       "4273     9269_01      Earth     False       NaN    TRAPPIST-1e  42.0  False   \n",
       "4274     9271_01       Mars      True   D/296/P    55 Cancri e   NaN  False   \n",
       "4275     9273_01     Europa     False   D/297/P            NaN   NaN  False   \n",
       "4276     9277_01      Earth      True  G/1498/S  PSO J318.5-22  43.0  False   \n",
       "\n",
       "      RoomService  FoodCourt  ShoppingMall   Spa  VRDeck              Name  \n",
       "4272          0.0        0.0           0.0   0.0     0.0       Jeron Peter  \n",
       "4273          0.0      847.0          17.0  10.0   144.0     Matty Scheron  \n",
       "4274          0.0        0.0           0.0   0.0     0.0       Jayrin Pore  \n",
       "4275          0.0     2680.0           0.0   0.0   523.0    Kitakan Conale  \n",
       "4276          0.0        0.0           0.0   0.0     0.0  Lilace Leonzaley  "
      ]
     },
     "execution_count": 44,
     "metadata": {},
     "output_type": "execute_result"
    }
   ],
   "source": [
    "test.tail()"
   ]
  },
  {
   "cell_type": "code",
   "execution_count": 45,
   "id": "ad35aaf2",
   "metadata": {
    "execution": {
     "iopub.execute_input": "2024-07-23T11:35:42.316296Z",
     "iopub.status.busy": "2024-07-23T11:35:42.315838Z",
     "iopub.status.idle": "2024-07-23T11:35:42.338206Z",
     "shell.execute_reply": "2024-07-23T11:35:42.336333Z"
    },
    "papermill": {
     "duration": 0.082194,
     "end_time": "2024-07-23T11:35:42.341407",
     "exception": false,
     "start_time": "2024-07-23T11:35:42.259213",
     "status": "completed"
    },
    "tags": []
   },
   "outputs": [],
   "source": [
    "df['cabin_num']=pd.to_numeric(df['cabin_num'], errors='coerce')"
   ]
  },
  {
   "cell_type": "code",
   "execution_count": 46,
   "id": "984a5d32",
   "metadata": {
    "execution": {
     "iopub.execute_input": "2024-07-23T11:35:42.447840Z",
     "iopub.status.busy": "2024-07-23T11:35:42.447122Z",
     "iopub.status.idle": "2024-07-23T11:35:42.465233Z",
     "shell.execute_reply": "2024-07-23T11:35:42.463810Z"
    },
    "papermill": {
     "duration": 0.076408,
     "end_time": "2024-07-23T11:35:42.468154",
     "exception": false,
     "start_time": "2024-07-23T11:35:42.391746",
     "status": "completed"
    },
    "tags": []
   },
   "outputs": [],
   "source": [
    "df1=df.copy()"
   ]
  },
  {
   "cell_type": "code",
   "execution_count": 47,
   "id": "85845163",
   "metadata": {
    "execution": {
     "iopub.execute_input": "2024-07-23T11:35:42.572924Z",
     "iopub.status.busy": "2024-07-23T11:35:42.572474Z",
     "iopub.status.idle": "2024-07-23T11:35:42.586196Z",
     "shell.execute_reply": "2024-07-23T11:35:42.584880Z"
    },
    "papermill": {
     "duration": 0.068119,
     "end_time": "2024-07-23T11:35:42.588810",
     "exception": false,
     "start_time": "2024-07-23T11:35:42.520691",
     "status": "completed"
    },
    "tags": []
   },
   "outputs": [
    {
     "data": {
      "text/plain": [
       "cabin_side\n",
       "S    6381\n",
       "P    6290\n",
       "Name: count, dtype: int64"
      ]
     },
     "execution_count": 47,
     "metadata": {},
     "output_type": "execute_result"
    }
   ],
   "source": [
    "df1['cabin_side'].value_counts()"
   ]
  },
  {
   "cell_type": "code",
   "execution_count": 48,
   "id": "c7f2b69a",
   "metadata": {
    "execution": {
     "iopub.execute_input": "2024-07-23T11:35:42.691010Z",
     "iopub.status.busy": "2024-07-23T11:35:42.690541Z",
     "iopub.status.idle": "2024-07-23T11:35:55.633761Z",
     "shell.execute_reply": "2024-07-23T11:35:55.632231Z"
    },
    "papermill": {
     "duration": 12.998127,
     "end_time": "2024-07-23T11:35:55.636691",
     "exception": false,
     "start_time": "2024-07-23T11:35:42.638564",
     "status": "completed"
    },
    "tags": []
   },
   "outputs": [
    {
     "data": {
      "text/plain": [
       "PassengerId        0\n",
       "HomePlanet       288\n",
       "CryoSleep        310\n",
       "Cabin            299\n",
       "Destination      274\n",
       "Age              270\n",
       "VIP              296\n",
       "RoomService      263\n",
       "FoodCourt        289\n",
       "ShoppingMall     306\n",
       "Spa              284\n",
       "VRDeck           268\n",
       "Name             294\n",
       "Transported     4277\n",
       "total_charge       0\n",
       "cabin_deck         0\n",
       "cabin_num          0\n",
       "cabin_side         0\n",
       "Id_gggg            0\n",
       "Id_pp              0\n",
       "last_name        294\n",
       "dtype: int64"
      ]
     },
     "execution_count": 48,
     "metadata": {},
     "output_type": "execute_result"
    }
   ],
   "source": [
    "df1['cabin_deck']=df.groupby('Id_gggg')['cabin_deck'].apply(lambda x: x.fillna(x.mode().iloc[0] if not x.mode().empty else np.nan)).reset_index(level=0, drop=True).fillna('F')\n",
    "df1['cabin_num']=df.groupby('Id_gggg')['cabin_num'].apply(lambda x: x.fillna(x.mode().iloc[0] if not x.mode().empty else np.nan)).reset_index(level=0, drop=True).fillna(82)\n",
    "df1['cabin_side']=df.groupby('Id_gggg')['cabin_side'].apply(lambda x: x.fillna(x.mode().iloc[0] if not x.mode().empty else np.nan)).reset_index(level=0, drop=True).fillna('S')\n",
    "\n",
    "\n",
    "df1.isna().sum()\n",
    "# df1.head()"
   ]
  },
  {
   "cell_type": "code",
   "execution_count": 49,
   "id": "faf7519d",
   "metadata": {
    "execution": {
     "iopub.execute_input": "2024-07-23T11:35:55.740084Z",
     "iopub.status.busy": "2024-07-23T11:35:55.739649Z",
     "iopub.status.idle": "2024-07-23T11:35:55.751332Z",
     "shell.execute_reply": "2024-07-23T11:35:55.749972Z"
    },
    "papermill": {
     "duration": 0.066085,
     "end_time": "2024-07-23T11:35:55.753677",
     "exception": false,
     "start_time": "2024-07-23T11:35:55.687592",
     "status": "completed"
    },
    "tags": []
   },
   "outputs": [
    {
     "data": {
      "text/plain": [
       "cabin_deck\n",
       "F    4430\n",
       "G    3821\n",
       "E    1334\n",
       "B    1161\n",
       "C    1122\n",
       "D     730\n",
       "A     361\n",
       "T      11\n",
       "Name: count, dtype: int64"
      ]
     },
     "execution_count": 49,
     "metadata": {},
     "output_type": "execute_result"
    }
   ],
   "source": [
    "df1.cabin_deck.value_counts()"
   ]
  },
  {
   "cell_type": "code",
   "execution_count": 50,
   "id": "3889e928",
   "metadata": {
    "execution": {
     "iopub.execute_input": "2024-07-23T11:35:55.855394Z",
     "iopub.status.busy": "2024-07-23T11:35:55.854923Z",
     "iopub.status.idle": "2024-07-23T11:35:55.866129Z",
     "shell.execute_reply": "2024-07-23T11:35:55.865106Z"
    },
    "papermill": {
     "duration": 0.064628,
     "end_time": "2024-07-23T11:35:55.868886",
     "exception": false,
     "start_time": "2024-07-23T11:35:55.804258",
     "status": "completed"
    },
    "tags": []
   },
   "outputs": [
    {
     "data": {
      "text/plain": [
       "cabin_side\n",
       "S    6616\n",
       "P    6354\n",
       "Name: count, dtype: int64"
      ]
     },
     "execution_count": 50,
     "metadata": {},
     "output_type": "execute_result"
    }
   ],
   "source": [
    "df1.cabin_side.value_counts()"
   ]
  },
  {
   "cell_type": "code",
   "execution_count": 51,
   "id": "b237bd4f",
   "metadata": {
    "execution": {
     "iopub.execute_input": "2024-07-23T11:35:55.970096Z",
     "iopub.status.busy": "2024-07-23T11:35:55.969065Z",
     "iopub.status.idle": "2024-07-23T11:35:56.006017Z",
     "shell.execute_reply": "2024-07-23T11:35:56.004856Z"
    },
    "papermill": {
     "duration": 0.09107,
     "end_time": "2024-07-23T11:35:56.008707",
     "exception": false,
     "start_time": "2024-07-23T11:35:55.917637",
     "status": "completed"
    },
    "tags": []
   },
   "outputs": [
    {
     "data": {
      "text/html": [
       "<div>\n",
       "<style scoped>\n",
       "    .dataframe tbody tr th:only-of-type {\n",
       "        vertical-align: middle;\n",
       "    }\n",
       "\n",
       "    .dataframe tbody tr th {\n",
       "        vertical-align: top;\n",
       "    }\n",
       "\n",
       "    .dataframe thead th {\n",
       "        text-align: right;\n",
       "    }\n",
       "</style>\n",
       "<table border=\"1\" class=\"dataframe\">\n",
       "  <thead>\n",
       "    <tr style=\"text-align: right;\">\n",
       "      <th></th>\n",
       "      <th>PassengerId</th>\n",
       "      <th>HomePlanet</th>\n",
       "      <th>CryoSleep</th>\n",
       "      <th>Cabin</th>\n",
       "      <th>Destination</th>\n",
       "      <th>Age</th>\n",
       "      <th>VIP</th>\n",
       "      <th>RoomService</th>\n",
       "      <th>FoodCourt</th>\n",
       "      <th>ShoppingMall</th>\n",
       "      <th>...</th>\n",
       "      <th>VRDeck</th>\n",
       "      <th>Name</th>\n",
       "      <th>Transported</th>\n",
       "      <th>total_charge</th>\n",
       "      <th>cabin_deck</th>\n",
       "      <th>cabin_num</th>\n",
       "      <th>cabin_side</th>\n",
       "      <th>Id_gggg</th>\n",
       "      <th>Id_pp</th>\n",
       "      <th>last_name</th>\n",
       "    </tr>\n",
       "  </thead>\n",
       "  <tbody>\n",
       "    <tr>\n",
       "      <th>0</th>\n",
       "      <td>0001_01</td>\n",
       "      <td>2.0</td>\n",
       "      <td>0.0</td>\n",
       "      <td>B/0/P</td>\n",
       "      <td>1.0</td>\n",
       "      <td>39.0</td>\n",
       "      <td>0.0</td>\n",
       "      <td>0.0</td>\n",
       "      <td>0.0</td>\n",
       "      <td>0.0</td>\n",
       "      <td>...</td>\n",
       "      <td>0.0</td>\n",
       "      <td>Maham Ofracculy</td>\n",
       "      <td>0.0</td>\n",
       "      <td>0.0</td>\n",
       "      <td>4</td>\n",
       "      <td>0.0</td>\n",
       "      <td>2</td>\n",
       "      <td>0001</td>\n",
       "      <td>01</td>\n",
       "      <td>Ofracculy</td>\n",
       "    </tr>\n",
       "    <tr>\n",
       "      <th>1</th>\n",
       "      <td>0002_01</td>\n",
       "      <td>1.0</td>\n",
       "      <td>0.0</td>\n",
       "      <td>F/0/S</td>\n",
       "      <td>1.0</td>\n",
       "      <td>24.0</td>\n",
       "      <td>0.0</td>\n",
       "      <td>109.0</td>\n",
       "      <td>9.0</td>\n",
       "      <td>25.0</td>\n",
       "      <td>...</td>\n",
       "      <td>44.0</td>\n",
       "      <td>Juanna Vines</td>\n",
       "      <td>1.0</td>\n",
       "      <td>736.0</td>\n",
       "      <td>1</td>\n",
       "      <td>0.0</td>\n",
       "      <td>1</td>\n",
       "      <td>0002</td>\n",
       "      <td>01</td>\n",
       "      <td>Vines</td>\n",
       "    </tr>\n",
       "    <tr>\n",
       "      <th>2</th>\n",
       "      <td>0003_01</td>\n",
       "      <td>2.0</td>\n",
       "      <td>0.0</td>\n",
       "      <td>A/0/S</td>\n",
       "      <td>1.0</td>\n",
       "      <td>58.0</td>\n",
       "      <td>1.0</td>\n",
       "      <td>43.0</td>\n",
       "      <td>3576.0</td>\n",
       "      <td>0.0</td>\n",
       "      <td>...</td>\n",
       "      <td>49.0</td>\n",
       "      <td>Altark Susent</td>\n",
       "      <td>0.0</td>\n",
       "      <td>10383.0</td>\n",
       "      <td>7</td>\n",
       "      <td>0.0</td>\n",
       "      <td>1</td>\n",
       "      <td>0003</td>\n",
       "      <td>01</td>\n",
       "      <td>Susent</td>\n",
       "    </tr>\n",
       "  </tbody>\n",
       "</table>\n",
       "<p>3 rows × 21 columns</p>\n",
       "</div>"
      ],
      "text/plain": [
       "  PassengerId  HomePlanet  CryoSleep  Cabin  Destination   Age  VIP  \\\n",
       "0     0001_01         2.0        0.0  B/0/P          1.0  39.0  0.0   \n",
       "1     0002_01         1.0        0.0  F/0/S          1.0  24.0  0.0   \n",
       "2     0003_01         2.0        0.0  A/0/S          1.0  58.0  1.0   \n",
       "\n",
       "   RoomService  FoodCourt  ShoppingMall  ...  VRDeck             Name  \\\n",
       "0          0.0        0.0           0.0  ...     0.0  Maham Ofracculy   \n",
       "1        109.0        9.0          25.0  ...    44.0     Juanna Vines   \n",
       "2         43.0     3576.0           0.0  ...    49.0    Altark Susent   \n",
       "\n",
       "  Transported  total_charge  cabin_deck  cabin_num  cabin_side  Id_gggg Id_pp  \\\n",
       "0         0.0           0.0           4        0.0           2     0001    01   \n",
       "1         1.0         736.0           1        0.0           1     0002    01   \n",
       "2         0.0       10383.0           7        0.0           1     0003    01   \n",
       "\n",
       "   last_name  \n",
       "0  Ofracculy  \n",
       "1      Vines  \n",
       "2     Susent  \n",
       "\n",
       "[3 rows x 21 columns]"
      ]
     },
     "execution_count": 51,
     "metadata": {},
     "output_type": "execute_result"
    }
   ],
   "source": [
    "deck_map={'F':1,'G':2,'E':3,'B':4,'C':5,'D':6,'A':7,'T':8}\n",
    "side_map={'S':1,'P':2}\n",
    "df1['cabin_deck']=df1['cabin_deck'].map(deck_map)\n",
    "df1['cabin_side']=df1['cabin_side'].map(side_map)\n",
    "\n",
    "df1.head(3)"
   ]
  },
  {
   "cell_type": "code",
   "execution_count": 52,
   "id": "2b6f2d47",
   "metadata": {
    "execution": {
     "iopub.execute_input": "2024-07-23T11:35:56.110589Z",
     "iopub.status.busy": "2024-07-23T11:35:56.109299Z",
     "iopub.status.idle": "2024-07-23T11:35:56.121761Z",
     "shell.execute_reply": "2024-07-23T11:35:56.120274Z"
    },
    "papermill": {
     "duration": 0.066476,
     "end_time": "2024-07-23T11:35:56.124604",
     "exception": false,
     "start_time": "2024-07-23T11:35:56.058128",
     "status": "completed"
    },
    "tags": []
   },
   "outputs": [
    {
     "data": {
      "text/plain": [
       "cabin_side\n",
       "1    6616\n",
       "2    6354\n",
       "Name: count, dtype: int64"
      ]
     },
     "execution_count": 52,
     "metadata": {},
     "output_type": "execute_result"
    }
   ],
   "source": [
    "df1.cabin_side.value_counts()"
   ]
  },
  {
   "cell_type": "code",
   "execution_count": 53,
   "id": "fbbe9352",
   "metadata": {
    "execution": {
     "iopub.execute_input": "2024-07-23T11:35:56.226816Z",
     "iopub.status.busy": "2024-07-23T11:35:56.226361Z",
     "iopub.status.idle": "2024-07-23T11:35:56.257870Z",
     "shell.execute_reply": "2024-07-23T11:35:56.256500Z"
    },
    "papermill": {
     "duration": 0.085627,
     "end_time": "2024-07-23T11:35:56.260728",
     "exception": false,
     "start_time": "2024-07-23T11:35:56.175101",
     "status": "completed"
    },
    "tags": []
   },
   "outputs": [
    {
     "data": {
      "text/html": [
       "<div>\n",
       "<style scoped>\n",
       "    .dataframe tbody tr th:only-of-type {\n",
       "        vertical-align: middle;\n",
       "    }\n",
       "\n",
       "    .dataframe tbody tr th {\n",
       "        vertical-align: top;\n",
       "    }\n",
       "\n",
       "    .dataframe thead th {\n",
       "        text-align: right;\n",
       "    }\n",
       "</style>\n",
       "<table border=\"1\" class=\"dataframe\">\n",
       "  <thead>\n",
       "    <tr style=\"text-align: right;\">\n",
       "      <th></th>\n",
       "      <th>PassengerId</th>\n",
       "      <th>HomePlanet</th>\n",
       "      <th>CryoSleep</th>\n",
       "      <th>Cabin</th>\n",
       "      <th>Destination</th>\n",
       "      <th>Age</th>\n",
       "      <th>VIP</th>\n",
       "      <th>RoomService</th>\n",
       "      <th>FoodCourt</th>\n",
       "      <th>ShoppingMall</th>\n",
       "      <th>...</th>\n",
       "      <th>VRDeck</th>\n",
       "      <th>Name</th>\n",
       "      <th>Transported</th>\n",
       "      <th>total_charge</th>\n",
       "      <th>cabin_deck</th>\n",
       "      <th>cabin_num</th>\n",
       "      <th>cabin_side</th>\n",
       "      <th>Id_gggg</th>\n",
       "      <th>Id_pp</th>\n",
       "      <th>last_name</th>\n",
       "    </tr>\n",
       "  </thead>\n",
       "  <tbody>\n",
       "    <tr>\n",
       "      <th>0</th>\n",
       "      <td>0001_01</td>\n",
       "      <td>2.0</td>\n",
       "      <td>0.0</td>\n",
       "      <td>B/0/P</td>\n",
       "      <td>1.0</td>\n",
       "      <td>39.0</td>\n",
       "      <td>0.0</td>\n",
       "      <td>0.0</td>\n",
       "      <td>0.0</td>\n",
       "      <td>0.0</td>\n",
       "      <td>...</td>\n",
       "      <td>0.0</td>\n",
       "      <td>Maham Ofracculy</td>\n",
       "      <td>0.0</td>\n",
       "      <td>0.0</td>\n",
       "      <td>4</td>\n",
       "      <td>0.0</td>\n",
       "      <td>2</td>\n",
       "      <td>0001</td>\n",
       "      <td>01</td>\n",
       "      <td>Ofracculy</td>\n",
       "    </tr>\n",
       "    <tr>\n",
       "      <th>1</th>\n",
       "      <td>0002_01</td>\n",
       "      <td>1.0</td>\n",
       "      <td>0.0</td>\n",
       "      <td>F/0/S</td>\n",
       "      <td>1.0</td>\n",
       "      <td>24.0</td>\n",
       "      <td>0.0</td>\n",
       "      <td>109.0</td>\n",
       "      <td>9.0</td>\n",
       "      <td>25.0</td>\n",
       "      <td>...</td>\n",
       "      <td>44.0</td>\n",
       "      <td>Juanna Vines</td>\n",
       "      <td>1.0</td>\n",
       "      <td>736.0</td>\n",
       "      <td>1</td>\n",
       "      <td>0.0</td>\n",
       "      <td>1</td>\n",
       "      <td>0002</td>\n",
       "      <td>01</td>\n",
       "      <td>Vines</td>\n",
       "    </tr>\n",
       "  </tbody>\n",
       "</table>\n",
       "<p>2 rows × 21 columns</p>\n",
       "</div>"
      ],
      "text/plain": [
       "  PassengerId  HomePlanet  CryoSleep  Cabin  Destination   Age  VIP  \\\n",
       "0     0001_01         2.0        0.0  B/0/P          1.0  39.0  0.0   \n",
       "1     0002_01         1.0        0.0  F/0/S          1.0  24.0  0.0   \n",
       "\n",
       "   RoomService  FoodCourt  ShoppingMall  ...  VRDeck             Name  \\\n",
       "0          0.0        0.0           0.0  ...     0.0  Maham Ofracculy   \n",
       "1        109.0        9.0          25.0  ...    44.0     Juanna Vines   \n",
       "\n",
       "  Transported  total_charge  cabin_deck  cabin_num  cabin_side  Id_gggg Id_pp  \\\n",
       "0         0.0           0.0           4        0.0           2     0001    01   \n",
       "1         1.0         736.0           1        0.0           1     0002    01   \n",
       "\n",
       "   last_name  \n",
       "0  Ofracculy  \n",
       "1      Vines  \n",
       "\n",
       "[2 rows x 21 columns]"
      ]
     },
     "execution_count": 53,
     "metadata": {},
     "output_type": "execute_result"
    }
   ],
   "source": [
    "df1.head(2)"
   ]
  },
  {
   "cell_type": "code",
   "execution_count": 54,
   "id": "e7caa314",
   "metadata": {
    "execution": {
     "iopub.execute_input": "2024-07-23T11:35:56.369415Z",
     "iopub.status.busy": "2024-07-23T11:35:56.368917Z",
     "iopub.status.idle": "2024-07-23T11:35:57.308895Z",
     "shell.execute_reply": "2024-07-23T11:35:57.307519Z"
    },
    "papermill": {
     "duration": 0.99914,
     "end_time": "2024-07-23T11:35:57.312756",
     "exception": false,
     "start_time": "2024-07-23T11:35:56.313616",
     "status": "completed"
    },
    "tags": []
   },
   "outputs": [
    {
     "data": {
      "text/plain": [
       "<Axes: >"
      ]
     },
     "execution_count": 54,
     "metadata": {},
     "output_type": "execute_result"
    },
    {
     "data": {
      "image/png": "[encoded data removed]",
      "text/plain": [
       "<Figure size 1200x800 with 2 Axes>"
      ]
     },
     "metadata": {},
     "output_type": "display_data"
    }
   ],
   "source": [
    "df2=df1.drop(['PassengerId','Cabin','Name','last_name','RoomService','FoodCourt','ShoppingMall','Spa','VRDeck'],axis=1)\n",
    "\n",
    "plt.figure(figsize=(12, 8)) \n",
    "sns.heatmap(df2.corr(),annot=True)"
   ]
  },
  {
   "cell_type": "code",
   "execution_count": 55,
   "id": "58734bb7",
   "metadata": {
    "execution": {
     "iopub.execute_input": "2024-07-23T11:35:57.426369Z",
     "iopub.status.busy": "2024-07-23T11:35:57.425897Z",
     "iopub.status.idle": "2024-07-23T11:35:57.446625Z",
     "shell.execute_reply": "2024-07-23T11:35:57.445455Z"
    },
    "papermill": {
     "duration": 0.078247,
     "end_time": "2024-07-23T11:35:57.449370",
     "exception": false,
     "start_time": "2024-07-23T11:35:57.371123",
     "status": "completed"
    },
    "tags": []
   },
   "outputs": [
    {
     "data": {
      "text/html": [
       "<div>\n",
       "<style scoped>\n",
       "    .dataframe tbody tr th:only-of-type {\n",
       "        vertical-align: middle;\n",
       "    }\n",
       "\n",
       "    .dataframe tbody tr th {\n",
       "        vertical-align: top;\n",
       "    }\n",
       "\n",
       "    .dataframe thead th {\n",
       "        text-align: right;\n",
       "    }\n",
       "</style>\n",
       "<table border=\"1\" class=\"dataframe\">\n",
       "  <thead>\n",
       "    <tr style=\"text-align: right;\">\n",
       "      <th></th>\n",
       "      <th>HomePlanet</th>\n",
       "      <th>CryoSleep</th>\n",
       "      <th>Destination</th>\n",
       "      <th>Age</th>\n",
       "      <th>VIP</th>\n",
       "      <th>Transported</th>\n",
       "      <th>total_charge</th>\n",
       "      <th>cabin_deck</th>\n",
       "      <th>cabin_num</th>\n",
       "      <th>cabin_side</th>\n",
       "      <th>Id_gggg</th>\n",
       "      <th>Id_pp</th>\n",
       "    </tr>\n",
       "  </thead>\n",
       "  <tbody>\n",
       "    <tr>\n",
       "      <th>0</th>\n",
       "      <td>2.0</td>\n",
       "      <td>0.0</td>\n",
       "      <td>1.0</td>\n",
       "      <td>39.0</td>\n",
       "      <td>0.0</td>\n",
       "      <td>0.0</td>\n",
       "      <td>0.0</td>\n",
       "      <td>4</td>\n",
       "      <td>0.0</td>\n",
       "      <td>2</td>\n",
       "      <td>0001</td>\n",
       "      <td>01</td>\n",
       "    </tr>\n",
       "    <tr>\n",
       "      <th>1</th>\n",
       "      <td>1.0</td>\n",
       "      <td>0.0</td>\n",
       "      <td>1.0</td>\n",
       "      <td>24.0</td>\n",
       "      <td>0.0</td>\n",
       "      <td>1.0</td>\n",
       "      <td>736.0</td>\n",
       "      <td>1</td>\n",
       "      <td>0.0</td>\n",
       "      <td>1</td>\n",
       "      <td>0002</td>\n",
       "      <td>01</td>\n",
       "    </tr>\n",
       "  </tbody>\n",
       "</table>\n",
       "</div>"
      ],
      "text/plain": [
       "   HomePlanet  CryoSleep  Destination   Age  VIP  Transported  total_charge  \\\n",
       "0         2.0        0.0          1.0  39.0  0.0          0.0           0.0   \n",
       "1         1.0        0.0          1.0  24.0  0.0          1.0         736.0   \n",
       "\n",
       "   cabin_deck  cabin_num  cabin_side Id_gggg Id_pp  \n",
       "0           4        0.0           2    0001    01  \n",
       "1           1        0.0           1    0002    01  "
      ]
     },
     "execution_count": 55,
     "metadata": {},
     "output_type": "execute_result"
    }
   ],
   "source": [
    "df2.head(2)"
   ]
  },
  {
   "cell_type": "code",
   "execution_count": 56,
   "id": "6596952e",
   "metadata": {
    "execution": {
     "iopub.execute_input": "2024-07-23T11:35:57.557660Z",
     "iopub.status.busy": "2024-07-23T11:35:57.556839Z",
     "iopub.status.idle": "2024-07-23T11:35:57.566651Z",
     "shell.execute_reply": "2024-07-23T11:35:57.565287Z"
    },
    "papermill": {
     "duration": 0.067264,
     "end_time": "2024-07-23T11:35:57.569008",
     "exception": false,
     "start_time": "2024-07-23T11:35:57.501744",
     "status": "completed"
    },
    "tags": []
   },
   "outputs": [
    {
     "data": {
      "text/plain": [
       "HomePlanet      float64\n",
       "CryoSleep       float64\n",
       "Destination     float64\n",
       "Age             float64\n",
       "VIP             float64\n",
       "Transported     float64\n",
       "total_charge    float64\n",
       "cabin_deck        int64\n",
       "cabin_num       float64\n",
       "cabin_side        int64\n",
       "Id_gggg          object\n",
       "Id_pp            object\n",
       "dtype: object"
      ]
     },
     "execution_count": 56,
     "metadata": {},
     "output_type": "execute_result"
    }
   ],
   "source": [
    "df2.dtypes"
   ]
  },
  {
   "cell_type": "code",
   "execution_count": 57,
   "id": "ca2f7e32",
   "metadata": {
    "execution": {
     "iopub.execute_input": "2024-07-23T11:35:57.679069Z",
     "iopub.status.busy": "2024-07-23T11:35:57.678659Z",
     "iopub.status.idle": "2024-07-23T11:35:57.721049Z",
     "shell.execute_reply": "2024-07-23T11:35:57.719500Z"
    },
    "papermill": {
     "duration": 0.101324,
     "end_time": "2024-07-23T11:35:57.723940",
     "exception": false,
     "start_time": "2024-07-23T11:35:57.622616",
     "status": "completed"
    },
    "tags": []
   },
   "outputs": [
    {
     "data": {
      "text/plain": [
       "HomePlanet      float64\n",
       "CryoSleep       float64\n",
       "Destination     float64\n",
       "Age             float64\n",
       "VIP             float64\n",
       "Transported     float64\n",
       "total_charge    float64\n",
       "cabin_deck        int64\n",
       "cabin_num       float64\n",
       "cabin_side        int64\n",
       "Id_gggg           int64\n",
       "Id_pp             int64\n",
       "dtype: object"
      ]
     },
     "execution_count": 57,
     "metadata": {},
     "output_type": "execute_result"
    }
   ],
   "source": [
    "df2['Id_gggg']=pd.to_numeric(df2['Id_gggg'])\n",
    "df2['Id_pp']=pd.to_numeric(df2['Id_pp'])\n",
    "\n",
    "df2.dtypes"
   ]
  },
  {
   "cell_type": "code",
   "execution_count": 58,
   "id": "62ee930c",
   "metadata": {
    "execution": {
     "iopub.execute_input": "2024-07-23T11:35:57.834254Z",
     "iopub.status.busy": "2024-07-23T11:35:57.832726Z",
     "iopub.status.idle": "2024-07-23T11:35:57.841542Z",
     "shell.execute_reply": "2024-07-23T11:35:57.840201Z"
    },
    "papermill": {
     "duration": 0.066621,
     "end_time": "2024-07-23T11:35:57.844274",
     "exception": false,
     "start_time": "2024-07-23T11:35:57.777653",
     "status": "completed"
    },
    "tags": []
   },
   "outputs": [
    {
     "data": {
      "text/plain": [
       "(12970, 12)"
      ]
     },
     "execution_count": 58,
     "metadata": {},
     "output_type": "execute_result"
    }
   ],
   "source": [
    "df2.shape"
   ]
  },
  {
   "cell_type": "code",
   "execution_count": 59,
   "id": "f9edf27f",
   "metadata": {
    "execution": {
     "iopub.execute_input": "2024-07-23T11:35:57.953775Z",
     "iopub.status.busy": "2024-07-23T11:35:57.953345Z",
     "iopub.status.idle": "2024-07-23T11:35:57.961761Z",
     "shell.execute_reply": "2024-07-23T11:35:57.960267Z"
    },
    "papermill": {
     "duration": 0.067241,
     "end_time": "2024-07-23T11:35:57.964679",
     "exception": false,
     "start_time": "2024-07-23T11:35:57.897438",
     "status": "completed"
    },
    "tags": []
   },
   "outputs": [],
   "source": [
    "df3=df2.copy()"
   ]
  },
  {
   "cell_type": "code",
   "execution_count": 60,
   "id": "88eef0d8",
   "metadata": {
    "execution": {
     "iopub.execute_input": "2024-07-23T11:35:58.077854Z",
     "iopub.status.busy": "2024-07-23T11:35:58.076444Z",
     "iopub.status.idle": "2024-07-23T11:35:58.087591Z",
     "shell.execute_reply": "2024-07-23T11:35:58.086277Z"
    },
    "papermill": {
     "duration": 0.071397,
     "end_time": "2024-07-23T11:35:58.090202",
     "exception": false,
     "start_time": "2024-07-23T11:35:58.018805",
     "status": "completed"
    },
    "tags": []
   },
   "outputs": [
    {
     "data": {
      "text/plain": [
       "HomePlanet       288\n",
       "CryoSleep        310\n",
       "Destination      274\n",
       "Age              270\n",
       "VIP              296\n",
       "Transported     4277\n",
       "total_charge       0\n",
       "cabin_deck         0\n",
       "cabin_num          0\n",
       "cabin_side         0\n",
       "Id_gggg            0\n",
       "Id_pp              0\n",
       "dtype: int64"
      ]
     },
     "execution_count": 60,
     "metadata": {},
     "output_type": "execute_result"
    }
   ],
   "source": [
    "df3.isna().sum()"
   ]
  },
  {
   "cell_type": "code",
   "execution_count": 61,
   "id": "55cf0fa2",
   "metadata": {
    "execution": {
     "iopub.execute_input": "2024-07-23T11:35:58.200925Z",
     "iopub.status.busy": "2024-07-23T11:35:58.200487Z",
     "iopub.status.idle": "2024-07-23T11:35:58.219613Z",
     "shell.execute_reply": "2024-07-23T11:35:58.218159Z"
    },
    "papermill": {
     "duration": 0.078461,
     "end_time": "2024-07-23T11:35:58.222580",
     "exception": false,
     "start_time": "2024-07-23T11:35:58.144119",
     "status": "completed"
    },
    "tags": []
   },
   "outputs": [
    {
     "data": {
      "text/plain": [
       "HomePlanet         0\n",
       "CryoSleep          0\n",
       "Destination        0\n",
       "Age                0\n",
       "VIP                0\n",
       "Transported     4277\n",
       "total_charge       0\n",
       "cabin_deck         0\n",
       "cabin_num          0\n",
       "cabin_side         0\n",
       "Id_gggg            0\n",
       "Id_pp              0\n",
       "dtype: int64"
      ]
     },
     "execution_count": 61,
     "metadata": {},
     "output_type": "execute_result"
    }
   ],
   "source": [
    "df3.Age.fillna(df3.Age.median(),inplace=True)\n",
    "df3.HomePlanet.fillna(df3.HomePlanet.mode()[0],inplace=True)\n",
    "df3.CryoSleep.fillna(df3.CryoSleep.mode()[0],inplace=True)\n",
    "df3.Destination.fillna(df3.Destination.mode()[0],inplace=True)\n",
    "df3.VIP.fillna(df3.VIP.mode()[0],inplace=True)\n",
    "df3.isna().sum()"
   ]
  },
  {
   "cell_type": "code",
   "execution_count": 62,
   "id": "827dc566",
   "metadata": {
    "execution": {
     "iopub.execute_input": "2024-07-23T11:35:58.331995Z",
     "iopub.status.busy": "2024-07-23T11:35:58.331539Z",
     "iopub.status.idle": "2024-07-23T11:35:58.339365Z",
     "shell.execute_reply": "2024-07-23T11:35:58.338116Z"
    },
    "papermill": {
     "duration": 0.065848,
     "end_time": "2024-07-23T11:35:58.341849",
     "exception": false,
     "start_time": "2024-07-23T11:35:58.276001",
     "status": "completed"
    },
    "tags": []
   },
   "outputs": [
    {
     "data": {
      "text/plain": [
       "(4277, 13)"
      ]
     },
     "execution_count": 62,
     "metadata": {},
     "output_type": "execute_result"
    }
   ],
   "source": [
    "test.shape"
   ]
  },
  {
   "cell_type": "code",
   "execution_count": 63,
   "id": "97243e01",
   "metadata": {
    "execution": {
     "iopub.execute_input": "2024-07-23T11:35:58.453199Z",
     "iopub.status.busy": "2024-07-23T11:35:58.452778Z",
     "iopub.status.idle": "2024-07-23T11:35:58.460894Z",
     "shell.execute_reply": "2024-07-23T11:35:58.459743Z"
    },
    "papermill": {
     "duration": 0.06593,
     "end_time": "2024-07-23T11:35:58.463890",
     "exception": false,
     "start_time": "2024-07-23T11:35:58.397960",
     "status": "completed"
    },
    "tags": []
   },
   "outputs": [
    {
     "data": {
      "text/plain": [
       "(8693, 14)"
      ]
     },
     "execution_count": 63,
     "metadata": {},
     "output_type": "execute_result"
    }
   ],
   "source": [
    "train.shape"
   ]
  },
  {
   "cell_type": "markdown",
   "id": "1c22cf8c",
   "metadata": {
    "papermill": {
     "duration": 0.054902,
     "end_time": "2024-07-23T11:35:58.574425",
     "exception": false,
     "start_time": "2024-07-23T11:35:58.519523",
     "status": "completed"
    },
    "tags": []
   },
   "source": [
    "# Modeling"
   ]
  },
  {
   "cell_type": "code",
   "execution_count": null,
   "id": "055b8de8",
   "metadata": {
    "papermill": {
     "duration": 0.053296,
     "end_time": "2024-07-23T11:35:58.684188",
     "exception": false,
     "start_time": "2024-07-23T11:35:58.630892",
     "status": "completed"
    },
    "tags": []
   },
   "outputs": [],
   "source": []
  },
  {
   "cell_type": "code",
   "execution_count": 64,
   "id": "e3340c11",
   "metadata": {
    "execution": {
     "iopub.execute_input": "2024-07-23T11:35:58.796128Z",
     "iopub.status.busy": "2024-07-23T11:35:58.795713Z",
     "iopub.status.idle": "2024-07-23T11:35:58.805846Z",
     "shell.execute_reply": "2024-07-23T11:35:58.804486Z"
    },
    "papermill": {
     "duration": 0.069033,
     "end_time": "2024-07-23T11:35:58.808527",
     "exception": false,
     "start_time": "2024-07-23T11:35:58.739494",
     "status": "completed"
    },
    "tags": []
   },
   "outputs": [
    {
     "name": "stdout",
     "output_type": "stream",
     "text": [
      "final_train :  (8693, 12) \n",
      "final_test : (4277, 12)\n"
     ]
    }
   ],
   "source": [
    "final_train=df3[df3['Transported'].notnull()]\n",
    "final_test=df3[df3['Transported'].isnull()]\n",
    "print('final_train : ',final_train.shape,'\\nfinal_test :',final_test.shape)"
   ]
  },
  {
   "cell_type": "code",
   "execution_count": 65,
   "id": "146a56fe",
   "metadata": {
    "execution": {
     "iopub.execute_input": "2024-07-23T11:35:58.919770Z",
     "iopub.status.busy": "2024-07-23T11:35:58.919358Z",
     "iopub.status.idle": "2024-07-23T11:35:58.939487Z",
     "shell.execute_reply": "2024-07-23T11:35:58.938236Z"
    },
    "papermill": {
     "duration": 0.078622,
     "end_time": "2024-07-23T11:35:58.942243",
     "exception": false,
     "start_time": "2024-07-23T11:35:58.863621",
     "status": "completed"
    },
    "tags": []
   },
   "outputs": [
    {
     "data": {
      "text/html": [
       "<div>\n",
       "<style scoped>\n",
       "    .dataframe tbody tr th:only-of-type {\n",
       "        vertical-align: middle;\n",
       "    }\n",
       "\n",
       "    .dataframe tbody tr th {\n",
       "        vertical-align: top;\n",
       "    }\n",
       "\n",
       "    .dataframe thead th {\n",
       "        text-align: right;\n",
       "    }\n",
       "</style>\n",
       "<table border=\"1\" class=\"dataframe\">\n",
       "  <thead>\n",
       "    <tr style=\"text-align: right;\">\n",
       "      <th></th>\n",
       "      <th>HomePlanet</th>\n",
       "      <th>CryoSleep</th>\n",
       "      <th>Destination</th>\n",
       "      <th>Age</th>\n",
       "      <th>VIP</th>\n",
       "      <th>total_charge</th>\n",
       "      <th>cabin_deck</th>\n",
       "      <th>cabin_num</th>\n",
       "      <th>cabin_side</th>\n",
       "      <th>Id_gggg</th>\n",
       "      <th>Id_pp</th>\n",
       "    </tr>\n",
       "  </thead>\n",
       "  <tbody>\n",
       "    <tr>\n",
       "      <th>0</th>\n",
       "      <td>2.0</td>\n",
       "      <td>0.0</td>\n",
       "      <td>1.0</td>\n",
       "      <td>39.0</td>\n",
       "      <td>0.0</td>\n",
       "      <td>0.0</td>\n",
       "      <td>4</td>\n",
       "      <td>0.0</td>\n",
       "      <td>2</td>\n",
       "      <td>1</td>\n",
       "      <td>1</td>\n",
       "    </tr>\n",
       "    <tr>\n",
       "      <th>1</th>\n",
       "      <td>1.0</td>\n",
       "      <td>0.0</td>\n",
       "      <td>1.0</td>\n",
       "      <td>24.0</td>\n",
       "      <td>0.0</td>\n",
       "      <td>736.0</td>\n",
       "      <td>1</td>\n",
       "      <td>0.0</td>\n",
       "      <td>1</td>\n",
       "      <td>2</td>\n",
       "      <td>1</td>\n",
       "    </tr>\n",
       "  </tbody>\n",
       "</table>\n",
       "</div>"
      ],
      "text/plain": [
       "   HomePlanet  CryoSleep  Destination   Age  VIP  total_charge  cabin_deck  \\\n",
       "0         2.0        0.0          1.0  39.0  0.0           0.0           4   \n",
       "1         1.0        0.0          1.0  24.0  0.0         736.0           1   \n",
       "\n",
       "   cabin_num  cabin_side  Id_gggg  Id_pp  \n",
       "0        0.0           2        1      1  \n",
       "1        0.0           1        2      1  "
      ]
     },
     "execution_count": 65,
     "metadata": {},
     "output_type": "execute_result"
    }
   ],
   "source": [
    "X=final_train.drop('Transported', axis=1)\n",
    "y = final_train['Transported']\n",
    "X.head(2)"
   ]
  },
  {
   "cell_type": "code",
   "execution_count": 66,
   "id": "05d53bac",
   "metadata": {
    "execution": {
     "iopub.execute_input": "2024-07-23T11:35:59.055235Z",
     "iopub.status.busy": "2024-07-23T11:35:59.053908Z",
     "iopub.status.idle": "2024-07-23T11:35:59.067836Z",
     "shell.execute_reply": "2024-07-23T11:35:59.066546Z"
    },
    "papermill": {
     "duration": 0.072911,
     "end_time": "2024-07-23T11:35:59.070624",
     "exception": false,
     "start_time": "2024-07-23T11:35:58.997713",
     "status": "completed"
    },
    "tags": []
   },
   "outputs": [],
   "source": [
    "def evaluate_model(model, X_test, y_test, model_name, metrics_df):\n",
    "    y_pred = model.predict(X_test)\n",
    "    accuracy = accuracy_score(y_test, y_pred)\n",
    "    precision = precision_score(y_test, y_pred)\n",
    "    recall = recall_score(y_test, y_pred)\n",
    "    f1 = f1_score(y_test, y_pred)\n",
    "    score=round(model.score(X_train, y_train) * 100, 2)\n",
    "    if hasattr(model, \"predict_proba\"):\n",
    "        y_prob = model.predict_proba(X_test)[:, 1]\n",
    "        roc_auc = roc_auc_score(y_test, y_prob)\n",
    "    else:\n",
    "        roc_auc = None\n",
    "    print(confusion_matrix(y_test, y_pred))\n",
    "    print(\"-\" * 30)\n",
    "    new_row = pd.DataFrame({\n",
    "        'Model': [model_name],\n",
    "        'Accuracy': [accuracy],\n",
    "        'Precision': [precision],\n",
    "        'Recall': [recall],\n",
    "        'F1 Score': [f1],\n",
    "        'ROC-AUC': [roc_auc],\n",
    "        'model_score':[score]\n",
    "    })\n",
    "    if new_row.Model.iloc[0] not  in metrics_df['Model'].values:\n",
    "      metrics_df = pd.concat([metrics_df, new_row], ignore_index=True)\n",
    "    print(classification_report(y_test, y_pred, zero_division=1))\n",
    "    print(\"-\" * 30)\n",
    "    return metrics_df\n",
    "metrics_df = pd.DataFrame(columns=['Model', 'Accuracy', 'Precision', 'Recall', 'F1 Score', 'ROC-AUC'])"
   ]
  },
  {
   "cell_type": "code",
   "execution_count": 67,
   "id": "669112b1",
   "metadata": {
    "execution": {
     "iopub.execute_input": "2024-07-23T11:35:59.183218Z",
     "iopub.status.busy": "2024-07-23T11:35:59.182033Z",
     "iopub.status.idle": "2024-07-23T11:35:59.195659Z",
     "shell.execute_reply": "2024-07-23T11:35:59.194673Z"
    },
    "papermill": {
     "duration": 0.072603,
     "end_time": "2024-07-23T11:35:59.198415",
     "exception": false,
     "start_time": "2024-07-23T11:35:59.125812",
     "status": "completed"
    },
    "tags": []
   },
   "outputs": [
    {
     "data": {
      "text/plain": [
       "(6085, 11)"
      ]
     },
     "execution_count": 67,
     "metadata": {},
     "output_type": "execute_result"
    }
   ],
   "source": [
    "X_train, X_test, y_train, y_test = train_test_split(X,y, test_size=0.3, random_state=3)\n",
    "X_train.shape"
   ]
  },
  {
   "cell_type": "code",
   "execution_count": 68,
   "id": "eaa5ed8f",
   "metadata": {
    "execution": {
     "iopub.execute_input": "2024-07-23T11:35:59.310533Z",
     "iopub.status.busy": "2024-07-23T11:35:59.310063Z",
     "iopub.status.idle": "2024-07-23T11:35:59.635673Z",
     "shell.execute_reply": "2024-07-23T11:35:59.634184Z"
    },
    "papermill": {
     "duration": 0.386562,
     "end_time": "2024-07-23T11:35:59.640308",
     "exception": false,
     "start_time": "2024-07-23T11:35:59.253746",
     "status": "completed"
    },
    "tags": []
   },
   "outputs": [
    {
     "name": "stdout",
     "output_type": "stream",
     "text": [
      "[[1052  249]\n",
      " [ 499  808]]\n",
      "------------------------------\n",
      "              precision    recall  f1-score   support\n",
      "\n",
      "         0.0       0.68      0.81      0.74      1301\n",
      "         1.0       0.76      0.62      0.68      1307\n",
      "\n",
      "    accuracy                           0.71      2608\n",
      "   macro avg       0.72      0.71      0.71      2608\n",
      "weighted avg       0.72      0.71      0.71      2608\n",
      "\n",
      "------------------------------\n"
     ]
    },
    {
     "data": {
      "text/html": [
       "<div>\n",
       "<style scoped>\n",
       "    .dataframe tbody tr th:only-of-type {\n",
       "        vertical-align: middle;\n",
       "    }\n",
       "\n",
       "    .dataframe tbody tr th {\n",
       "        vertical-align: top;\n",
       "    }\n",
       "\n",
       "    .dataframe thead th {\n",
       "        text-align: right;\n",
       "    }\n",
       "</style>\n",
       "<table border=\"1\" class=\"dataframe\">\n",
       "  <thead>\n",
       "    <tr style=\"text-align: right;\">\n",
       "      <th></th>\n",
       "      <th>Model</th>\n",
       "      <th>Accuracy</th>\n",
       "      <th>Precision</th>\n",
       "      <th>Recall</th>\n",
       "      <th>F1 Score</th>\n",
       "      <th>ROC-AUC</th>\n",
       "      <th>model_score</th>\n",
       "    </tr>\n",
       "  </thead>\n",
       "  <tbody>\n",
       "    <tr>\n",
       "      <th>0</th>\n",
       "      <td>Logistic Regression</td>\n",
       "      <td>0.71319</td>\n",
       "      <td>0.764428</td>\n",
       "      <td>0.61821</td>\n",
       "      <td>0.683587</td>\n",
       "      <td>0.760089</td>\n",
       "      <td>71.59</td>\n",
       "    </tr>\n",
       "  </tbody>\n",
       "</table>\n",
       "</div>"
      ],
      "text/plain": [
       "                 Model  Accuracy  Precision   Recall  F1 Score   ROC-AUC  \\\n",
       "0  Logistic Regression   0.71319   0.764428  0.61821  0.683587  0.760089   \n",
       "\n",
       "   model_score  \n",
       "0        71.59  "
      ]
     },
     "execution_count": 68,
     "metadata": {},
     "output_type": "execute_result"
    }
   ],
   "source": [
    "log_reg = LogisticRegression(max_iter=2000)\n",
    "log_reg.fit(X_train, y_train)\n",
    "\n",
    "metrics_df = evaluate_model(log_reg, X_test, y_test, 'Logistic Regression', metrics_df)\n",
    "metrics_df"
   ]
  },
  {
   "cell_type": "code",
   "execution_count": 69,
   "id": "cc68d31b",
   "metadata": {
    "execution": {
     "iopub.execute_input": "2024-07-23T11:35:59.776432Z",
     "iopub.status.busy": "2024-07-23T11:35:59.775979Z",
     "iopub.status.idle": "2024-07-23T11:36:01.252966Z",
     "shell.execute_reply": "2024-07-23T11:36:01.251134Z"
    },
    "papermill": {
     "duration": 1.537492,
     "end_time": "2024-07-23T11:36:01.256238",
     "exception": false,
     "start_time": "2024-07-23T11:35:59.718746",
     "status": "completed"
    },
    "tags": []
   },
   "outputs": [
    {
     "name": "stdout",
     "output_type": "stream",
     "text": [
      "[[1075  226]\n",
      " [ 438  869]]\n",
      "------------------------------\n",
      "              precision    recall  f1-score   support\n",
      "\n",
      "         0.0       0.71      0.83      0.76      1301\n",
      "         1.0       0.79      0.66      0.72      1307\n",
      "\n",
      "    accuracy                           0.75      2608\n",
      "   macro avg       0.75      0.75      0.74      2608\n",
      "weighted avg       0.75      0.75      0.74      2608\n",
      "\n",
      "------------------------------\n"
     ]
    },
    {
     "data": {
      "text/html": [
       "<div>\n",
       "<style scoped>\n",
       "    .dataframe tbody tr th:only-of-type {\n",
       "        vertical-align: middle;\n",
       "    }\n",
       "\n",
       "    .dataframe tbody tr th {\n",
       "        vertical-align: top;\n",
       "    }\n",
       "\n",
       "    .dataframe thead th {\n",
       "        text-align: right;\n",
       "    }\n",
       "</style>\n",
       "<table border=\"1\" class=\"dataframe\">\n",
       "  <thead>\n",
       "    <tr style=\"text-align: right;\">\n",
       "      <th></th>\n",
       "      <th>Model</th>\n",
       "      <th>Accuracy</th>\n",
       "      <th>Precision</th>\n",
       "      <th>Recall</th>\n",
       "      <th>F1 Score</th>\n",
       "      <th>ROC-AUC</th>\n",
       "      <th>model_score</th>\n",
       "    </tr>\n",
       "  </thead>\n",
       "  <tbody>\n",
       "    <tr>\n",
       "      <th>0</th>\n",
       "      <td>Logistic Regression</td>\n",
       "      <td>0.713190</td>\n",
       "      <td>0.764428</td>\n",
       "      <td>0.618210</td>\n",
       "      <td>0.683587</td>\n",
       "      <td>0.760089</td>\n",
       "      <td>71.59</td>\n",
       "    </tr>\n",
       "    <tr>\n",
       "      <th>1</th>\n",
       "      <td>Random Forest</td>\n",
       "      <td>0.745399</td>\n",
       "      <td>0.793607</td>\n",
       "      <td>0.664881</td>\n",
       "      <td>0.723564</td>\n",
       "      <td>0.808735</td>\n",
       "      <td>100.00</td>\n",
       "    </tr>\n",
       "  </tbody>\n",
       "</table>\n",
       "</div>"
      ],
      "text/plain": [
       "                 Model  Accuracy  Precision    Recall  F1 Score   ROC-AUC  \\\n",
       "0  Logistic Regression  0.713190   0.764428  0.618210  0.683587  0.760089   \n",
       "1        Random Forest  0.745399   0.793607  0.664881  0.723564  0.808735   \n",
       "\n",
       "   model_score  \n",
       "0        71.59  \n",
       "1       100.00  "
      ]
     },
     "execution_count": 69,
     "metadata": {},
     "output_type": "execute_result"
    }
   ],
   "source": [
    "random_forest = RandomForestClassifier()\n",
    "random_forest.fit(X_train, y_train)\n",
    "metrics_df=evaluate_model(random_forest, X_test, y_test, 'Random Forest', metrics_df)\n",
    "metrics_df"
   ]
  },
  {
   "cell_type": "code",
   "execution_count": 70,
   "id": "e5f3af8a",
   "metadata": {
    "execution": {
     "iopub.execute_input": "2024-07-23T11:36:01.375510Z",
     "iopub.status.busy": "2024-07-23T11:36:01.375018Z",
     "iopub.status.idle": "2024-07-23T11:36:01.479195Z",
     "shell.execute_reply": "2024-07-23T11:36:01.477814Z"
    },
    "papermill": {
     "duration": 0.169499,
     "end_time": "2024-07-23T11:36:01.482238",
     "exception": false,
     "start_time": "2024-07-23T11:36:01.312739",
     "status": "completed"
    },
    "tags": []
   },
   "outputs": [
    {
     "name": "stdout",
     "output_type": "stream",
     "text": [
      "[[905 396]\n",
      " [393 914]]\n",
      "------------------------------\n",
      "              precision    recall  f1-score   support\n",
      "\n",
      "         0.0       0.70      0.70      0.70      1301\n",
      "         1.0       0.70      0.70      0.70      1307\n",
      "\n",
      "    accuracy                           0.70      2608\n",
      "   macro avg       0.70      0.70      0.70      2608\n",
      "weighted avg       0.70      0.70      0.70      2608\n",
      "\n",
      "------------------------------\n"
     ]
    },
    {
     "data": {
      "text/html": [
       "<div>\n",
       "<style scoped>\n",
       "    .dataframe tbody tr th:only-of-type {\n",
       "        vertical-align: middle;\n",
       "    }\n",
       "\n",
       "    .dataframe tbody tr th {\n",
       "        vertical-align: top;\n",
       "    }\n",
       "\n",
       "    .dataframe thead th {\n",
       "        text-align: right;\n",
       "    }\n",
       "</style>\n",
       "<table border=\"1\" class=\"dataframe\">\n",
       "  <thead>\n",
       "    <tr style=\"text-align: right;\">\n",
       "      <th></th>\n",
       "      <th>Model</th>\n",
       "      <th>Accuracy</th>\n",
       "      <th>Precision</th>\n",
       "      <th>Recall</th>\n",
       "      <th>F1 Score</th>\n",
       "      <th>ROC-AUC</th>\n",
       "      <th>model_score</th>\n",
       "    </tr>\n",
       "  </thead>\n",
       "  <tbody>\n",
       "    <tr>\n",
       "      <th>0</th>\n",
       "      <td>Logistic Regression</td>\n",
       "      <td>0.713190</td>\n",
       "      <td>0.764428</td>\n",
       "      <td>0.618210</td>\n",
       "      <td>0.683587</td>\n",
       "      <td>0.760089</td>\n",
       "      <td>71.59</td>\n",
       "    </tr>\n",
       "    <tr>\n",
       "      <th>1</th>\n",
       "      <td>Random Forest</td>\n",
       "      <td>0.745399</td>\n",
       "      <td>0.793607</td>\n",
       "      <td>0.664881</td>\n",
       "      <td>0.723564</td>\n",
       "      <td>0.808735</td>\n",
       "      <td>100.00</td>\n",
       "    </tr>\n",
       "    <tr>\n",
       "      <th>2</th>\n",
       "      <td>Decision Tree</td>\n",
       "      <td>0.697469</td>\n",
       "      <td>0.697710</td>\n",
       "      <td>0.699311</td>\n",
       "      <td>0.698510</td>\n",
       "      <td>0.697465</td>\n",
       "      <td>100.00</td>\n",
       "    </tr>\n",
       "  </tbody>\n",
       "</table>\n",
       "</div>"
      ],
      "text/plain": [
       "                 Model  Accuracy  Precision    Recall  F1 Score   ROC-AUC  \\\n",
       "0  Logistic Regression  0.713190   0.764428  0.618210  0.683587  0.760089   \n",
       "1        Random Forest  0.745399   0.793607  0.664881  0.723564  0.808735   \n",
       "2        Decision Tree  0.697469   0.697710  0.699311  0.698510  0.697465   \n",
       "\n",
       "   model_score  \n",
       "0        71.59  \n",
       "1       100.00  \n",
       "2       100.00  "
      ]
     },
     "execution_count": 70,
     "metadata": {},
     "output_type": "execute_result"
    }
   ],
   "source": [
    "decision_tree = DecisionTreeClassifier()\n",
    "decision_tree.fit(X_train, y_train)\n",
    "\n",
    "\n",
    "metrics_df = evaluate_model(decision_tree, X_test, y_test, 'Decision Tree', metrics_df)\n",
    "metrics_df"
   ]
  },
  {
   "cell_type": "code",
   "execution_count": 71,
   "id": "8dd37b1e",
   "metadata": {
    "execution": {
     "iopub.execute_input": "2024-07-23T11:36:01.598589Z",
     "iopub.status.busy": "2024-07-23T11:36:01.598131Z",
     "iopub.status.idle": "2024-07-23T11:36:02.297296Z",
     "shell.execute_reply": "2024-07-23T11:36:02.296059Z"
    },
    "papermill": {
     "duration": 0.761313,
     "end_time": "2024-07-23T11:36:02.300025",
     "exception": false,
     "start_time": "2024-07-23T11:36:01.538712",
     "status": "completed"
    },
    "tags": []
   },
   "outputs": [
    {
     "name": "stdout",
     "output_type": "stream",
     "text": [
      "[[921 380]\n",
      " [438 869]]\n",
      "------------------------------\n",
      "              precision    recall  f1-score   support\n",
      "\n",
      "         0.0       0.68      0.71      0.69      1301\n",
      "         1.0       0.70      0.66      0.68      1307\n",
      "\n",
      "    accuracy                           0.69      2608\n",
      "   macro avg       0.69      0.69      0.69      2608\n",
      "weighted avg       0.69      0.69      0.69      2608\n",
      "\n",
      "------------------------------\n"
     ]
    },
    {
     "data": {
      "text/html": [
       "<div>\n",
       "<style scoped>\n",
       "    .dataframe tbody tr th:only-of-type {\n",
       "        vertical-align: middle;\n",
       "    }\n",
       "\n",
       "    .dataframe tbody tr th {\n",
       "        vertical-align: top;\n",
       "    }\n",
       "\n",
       "    .dataframe thead th {\n",
       "        text-align: right;\n",
       "    }\n",
       "</style>\n",
       "<table border=\"1\" class=\"dataframe\">\n",
       "  <thead>\n",
       "    <tr style=\"text-align: right;\">\n",
       "      <th></th>\n",
       "      <th>Model</th>\n",
       "      <th>Accuracy</th>\n",
       "      <th>Precision</th>\n",
       "      <th>Recall</th>\n",
       "      <th>F1 Score</th>\n",
       "      <th>ROC-AUC</th>\n",
       "      <th>model_score</th>\n",
       "    </tr>\n",
       "  </thead>\n",
       "  <tbody>\n",
       "    <tr>\n",
       "      <th>0</th>\n",
       "      <td>Logistic Regression</td>\n",
       "      <td>0.713190</td>\n",
       "      <td>0.764428</td>\n",
       "      <td>0.618210</td>\n",
       "      <td>0.683587</td>\n",
       "      <td>0.760089</td>\n",
       "      <td>71.59</td>\n",
       "    </tr>\n",
       "    <tr>\n",
       "      <th>1</th>\n",
       "      <td>Random Forest</td>\n",
       "      <td>0.745399</td>\n",
       "      <td>0.793607</td>\n",
       "      <td>0.664881</td>\n",
       "      <td>0.723564</td>\n",
       "      <td>0.808735</td>\n",
       "      <td>100.00</td>\n",
       "    </tr>\n",
       "    <tr>\n",
       "      <th>2</th>\n",
       "      <td>Decision Tree</td>\n",
       "      <td>0.697469</td>\n",
       "      <td>0.697710</td>\n",
       "      <td>0.699311</td>\n",
       "      <td>0.698510</td>\n",
       "      <td>0.697465</td>\n",
       "      <td>100.00</td>\n",
       "    </tr>\n",
       "    <tr>\n",
       "      <th>3</th>\n",
       "      <td>k-NN</td>\n",
       "      <td>0.686350</td>\n",
       "      <td>0.695757</td>\n",
       "      <td>0.664881</td>\n",
       "      <td>0.679969</td>\n",
       "      <td>0.743102</td>\n",
       "      <td>79.33</td>\n",
       "    </tr>\n",
       "  </tbody>\n",
       "</table>\n",
       "</div>"
      ],
      "text/plain": [
       "                 Model  Accuracy  Precision    Recall  F1 Score   ROC-AUC  \\\n",
       "0  Logistic Regression  0.713190   0.764428  0.618210  0.683587  0.760089   \n",
       "1        Random Forest  0.745399   0.793607  0.664881  0.723564  0.808735   \n",
       "2        Decision Tree  0.697469   0.697710  0.699311  0.698510  0.697465   \n",
       "3                 k-NN  0.686350   0.695757  0.664881  0.679969  0.743102   \n",
       "\n",
       "   model_score  \n",
       "0        71.59  \n",
       "1       100.00  \n",
       "2       100.00  \n",
       "3        79.33  "
      ]
     },
     "execution_count": 71,
     "metadata": {},
     "output_type": "execute_result"
    }
   ],
   "source": [
    "knn = KNeighborsClassifier()\n",
    "knn.fit(X_train, y_train)\n",
    "metrics_df=evaluate_model(knn, X_test, y_test, 'k-NN', metrics_df)\n",
    "metrics_df"
   ]
  },
  {
   "cell_type": "code",
   "execution_count": 72,
   "id": "dabc8845",
   "metadata": {
    "execution": {
     "iopub.execute_input": "2024-07-23T11:36:02.437330Z",
     "iopub.status.busy": "2024-07-23T11:36:02.432007Z",
     "iopub.status.idle": "2024-07-23T11:36:03.524427Z",
     "shell.execute_reply": "2024-07-23T11:36:03.522996Z"
    },
    "papermill": {
     "duration": 1.16926,
     "end_time": "2024-07-23T11:36:03.527497",
     "exception": false,
     "start_time": "2024-07-23T11:36:02.358237",
     "status": "completed"
    },
    "tags": []
   },
   "outputs": [
    {
     "name": "stdout",
     "output_type": "stream",
     "text": [
      "[[1061  240]\n",
      " [ 419  888]]\n",
      "------------------------------\n",
      "              precision    recall  f1-score   support\n",
      "\n",
      "         0.0       0.72      0.82      0.76      1301\n",
      "         1.0       0.79      0.68      0.73      1307\n",
      "\n",
      "    accuracy                           0.75      2608\n",
      "   macro avg       0.75      0.75      0.75      2608\n",
      "weighted avg       0.75      0.75      0.75      2608\n",
      "\n",
      "------------------------------\n"
     ]
    },
    {
     "data": {
      "text/html": [
       "<div>\n",
       "<style scoped>\n",
       "    .dataframe tbody tr th:only-of-type {\n",
       "        vertical-align: middle;\n",
       "    }\n",
       "\n",
       "    .dataframe tbody tr th {\n",
       "        vertical-align: top;\n",
       "    }\n",
       "\n",
       "    .dataframe thead th {\n",
       "        text-align: right;\n",
       "    }\n",
       "</style>\n",
       "<table border=\"1\" class=\"dataframe\">\n",
       "  <thead>\n",
       "    <tr style=\"text-align: right;\">\n",
       "      <th></th>\n",
       "      <th>Model</th>\n",
       "      <th>Accuracy</th>\n",
       "      <th>Precision</th>\n",
       "      <th>Recall</th>\n",
       "      <th>F1 Score</th>\n",
       "      <th>ROC-AUC</th>\n",
       "      <th>model_score</th>\n",
       "    </tr>\n",
       "  </thead>\n",
       "  <tbody>\n",
       "    <tr>\n",
       "      <th>0</th>\n",
       "      <td>Logistic Regression</td>\n",
       "      <td>0.713190</td>\n",
       "      <td>0.764428</td>\n",
       "      <td>0.618210</td>\n",
       "      <td>0.683587</td>\n",
       "      <td>0.760089</td>\n",
       "      <td>71.59</td>\n",
       "    </tr>\n",
       "    <tr>\n",
       "      <th>1</th>\n",
       "      <td>Random Forest</td>\n",
       "      <td>0.745399</td>\n",
       "      <td>0.793607</td>\n",
       "      <td>0.664881</td>\n",
       "      <td>0.723564</td>\n",
       "      <td>0.808735</td>\n",
       "      <td>100.00</td>\n",
       "    </tr>\n",
       "    <tr>\n",
       "      <th>2</th>\n",
       "      <td>Decision Tree</td>\n",
       "      <td>0.697469</td>\n",
       "      <td>0.697710</td>\n",
       "      <td>0.699311</td>\n",
       "      <td>0.698510</td>\n",
       "      <td>0.697465</td>\n",
       "      <td>100.00</td>\n",
       "    </tr>\n",
       "    <tr>\n",
       "      <th>3</th>\n",
       "      <td>k-NN</td>\n",
       "      <td>0.686350</td>\n",
       "      <td>0.695757</td>\n",
       "      <td>0.664881</td>\n",
       "      <td>0.679969</td>\n",
       "      <td>0.743102</td>\n",
       "      <td>79.33</td>\n",
       "    </tr>\n",
       "    <tr>\n",
       "      <th>4</th>\n",
       "      <td>Gradient Boosting</td>\n",
       "      <td>0.747316</td>\n",
       "      <td>0.787234</td>\n",
       "      <td>0.679419</td>\n",
       "      <td>0.729363</td>\n",
       "      <td>0.812758</td>\n",
       "      <td>77.19</td>\n",
       "    </tr>\n",
       "  </tbody>\n",
       "</table>\n",
       "</div>"
      ],
      "text/plain": [
       "                 Model  Accuracy  Precision    Recall  F1 Score   ROC-AUC  \\\n",
       "0  Logistic Regression  0.713190   0.764428  0.618210  0.683587  0.760089   \n",
       "1        Random Forest  0.745399   0.793607  0.664881  0.723564  0.808735   \n",
       "2        Decision Tree  0.697469   0.697710  0.699311  0.698510  0.697465   \n",
       "3                 k-NN  0.686350   0.695757  0.664881  0.679969  0.743102   \n",
       "4    Gradient Boosting  0.747316   0.787234  0.679419  0.729363  0.812758   \n",
       "\n",
       "   model_score  \n",
       "0        71.59  \n",
       "1       100.00  \n",
       "2       100.00  \n",
       "3        79.33  \n",
       "4        77.19  "
      ]
     },
     "execution_count": 72,
     "metadata": {},
     "output_type": "execute_result"
    }
   ],
   "source": [
    "gradient_boosting = GradientBoostingClassifier()\n",
    "gradient_boosting.fit(X_train, y_train)\n",
    "metrics_df=evaluate_model(gradient_boosting, X_test, y_test, 'Gradient Boosting', metrics_df)\n",
    "metrics_df"
   ]
  },
  {
   "cell_type": "code",
   "execution_count": 73,
   "id": "fddb99c0",
   "metadata": {
    "execution": {
     "iopub.execute_input": "2024-07-23T11:36:03.647117Z",
     "iopub.status.busy": "2024-07-23T11:36:03.646703Z",
     "iopub.status.idle": "2024-07-23T11:36:04.678576Z",
     "shell.execute_reply": "2024-07-23T11:36:04.676902Z"
    },
    "papermill": {
     "duration": 1.093793,
     "end_time": "2024-07-23T11:36:04.682698",
     "exception": false,
     "start_time": "2024-07-23T11:36:03.588905",
     "status": "completed"
    },
    "tags": []
   },
   "outputs": [
    {
     "name": "stdout",
     "output_type": "stream",
     "text": [
      "[[846 455]\n",
      " [374 933]]\n",
      "------------------------------\n",
      "              precision    recall  f1-score   support\n",
      "\n",
      "         0.0       0.69      0.65      0.67      1301\n",
      "         1.0       0.67      0.71      0.69      1307\n",
      "\n",
      "    accuracy                           0.68      2608\n",
      "   macro avg       0.68      0.68      0.68      2608\n",
      "weighted avg       0.68      0.68      0.68      2608\n",
      "\n",
      "------------------------------\n"
     ]
    },
    {
     "data": {
      "text/html": [
       "<div>\n",
       "<style scoped>\n",
       "    .dataframe tbody tr th:only-of-type {\n",
       "        vertical-align: middle;\n",
       "    }\n",
       "\n",
       "    .dataframe tbody tr th {\n",
       "        vertical-align: top;\n",
       "    }\n",
       "\n",
       "    .dataframe thead th {\n",
       "        text-align: right;\n",
       "    }\n",
       "</style>\n",
       "<table border=\"1\" class=\"dataframe\">\n",
       "  <thead>\n",
       "    <tr style=\"text-align: right;\">\n",
       "      <th></th>\n",
       "      <th>Model</th>\n",
       "      <th>Accuracy</th>\n",
       "      <th>Precision</th>\n",
       "      <th>Recall</th>\n",
       "      <th>F1 Score</th>\n",
       "      <th>ROC-AUC</th>\n",
       "      <th>model_score</th>\n",
       "    </tr>\n",
       "  </thead>\n",
       "  <tbody>\n",
       "    <tr>\n",
       "      <th>0</th>\n",
       "      <td>Logistic Regression</td>\n",
       "      <td>0.713190</td>\n",
       "      <td>0.764428</td>\n",
       "      <td>0.618210</td>\n",
       "      <td>0.683587</td>\n",
       "      <td>0.760089</td>\n",
       "      <td>71.59</td>\n",
       "    </tr>\n",
       "    <tr>\n",
       "      <th>1</th>\n",
       "      <td>Random Forest</td>\n",
       "      <td>0.745399</td>\n",
       "      <td>0.793607</td>\n",
       "      <td>0.664881</td>\n",
       "      <td>0.723564</td>\n",
       "      <td>0.808735</td>\n",
       "      <td>100.00</td>\n",
       "    </tr>\n",
       "    <tr>\n",
       "      <th>2</th>\n",
       "      <td>Decision Tree</td>\n",
       "      <td>0.697469</td>\n",
       "      <td>0.697710</td>\n",
       "      <td>0.699311</td>\n",
       "      <td>0.698510</td>\n",
       "      <td>0.697465</td>\n",
       "      <td>100.00</td>\n",
       "    </tr>\n",
       "    <tr>\n",
       "      <th>3</th>\n",
       "      <td>k-NN</td>\n",
       "      <td>0.686350</td>\n",
       "      <td>0.695757</td>\n",
       "      <td>0.664881</td>\n",
       "      <td>0.679969</td>\n",
       "      <td>0.743102</td>\n",
       "      <td>79.33</td>\n",
       "    </tr>\n",
       "    <tr>\n",
       "      <th>4</th>\n",
       "      <td>Gradient Boosting</td>\n",
       "      <td>0.747316</td>\n",
       "      <td>0.787234</td>\n",
       "      <td>0.679419</td>\n",
       "      <td>0.729363</td>\n",
       "      <td>0.812758</td>\n",
       "      <td>77.19</td>\n",
       "    </tr>\n",
       "    <tr>\n",
       "      <th>5</th>\n",
       "      <td>Neural Network</td>\n",
       "      <td>0.682132</td>\n",
       "      <td>0.672190</td>\n",
       "      <td>0.713849</td>\n",
       "      <td>0.692393</td>\n",
       "      <td>0.728945</td>\n",
       "      <td>70.11</td>\n",
       "    </tr>\n",
       "  </tbody>\n",
       "</table>\n",
       "</div>"
      ],
      "text/plain": [
       "                 Model  Accuracy  Precision    Recall  F1 Score   ROC-AUC  \\\n",
       "0  Logistic Regression  0.713190   0.764428  0.618210  0.683587  0.760089   \n",
       "1        Random Forest  0.745399   0.793607  0.664881  0.723564  0.808735   \n",
       "2        Decision Tree  0.697469   0.697710  0.699311  0.698510  0.697465   \n",
       "3                 k-NN  0.686350   0.695757  0.664881  0.679969  0.743102   \n",
       "4    Gradient Boosting  0.747316   0.787234  0.679419  0.729363  0.812758   \n",
       "5       Neural Network  0.682132   0.672190  0.713849  0.692393  0.728945   \n",
       "\n",
       "   model_score  \n",
       "0        71.59  \n",
       "1       100.00  \n",
       "2       100.00  \n",
       "3        79.33  \n",
       "4        77.19  \n",
       "5        70.11  "
      ]
     },
     "execution_count": 73,
     "metadata": {},
     "output_type": "execute_result"
    }
   ],
   "source": [
    "neural_network = MLPClassifier(max_iter=1000)\n",
    "neural_network.fit(X_train, y_train)\n",
    "metrics_df=evaluate_model(neural_network, X_test, y_test, 'Neural Network', metrics_df)\n",
    "metrics_df"
   ]
  },
  {
   "cell_type": "code",
   "execution_count": 74,
   "id": "3ea8a85c",
   "metadata": {
    "execution": {
     "iopub.execute_input": "2024-07-23T11:36:04.825052Z",
     "iopub.status.busy": "2024-07-23T11:36:04.824636Z",
     "iopub.status.idle": "2024-07-23T11:36:05.144594Z",
     "shell.execute_reply": "2024-07-23T11:36:05.143324Z"
    },
    "papermill": {
     "duration": 0.382048,
     "end_time": "2024-07-23T11:36:05.146987",
     "exception": false,
     "start_time": "2024-07-23T11:36:04.764939",
     "status": "completed"
    },
    "tags": []
   },
   "outputs": [
    {
     "name": "stdout",
     "output_type": "stream",
     "text": [
      "[[1032  269]\n",
      " [ 416  891]]\n",
      "------------------------------\n",
      "              precision    recall  f1-score   support\n",
      "\n",
      "         0.0       0.71      0.79      0.75      1301\n",
      "         1.0       0.77      0.68      0.72      1307\n",
      "\n",
      "    accuracy                           0.74      2608\n",
      "   macro avg       0.74      0.74      0.74      2608\n",
      "weighted avg       0.74      0.74      0.74      2608\n",
      "\n",
      "------------------------------\n"
     ]
    },
    {
     "data": {
      "text/html": [
       "<div>\n",
       "<style scoped>\n",
       "    .dataframe tbody tr th:only-of-type {\n",
       "        vertical-align: middle;\n",
       "    }\n",
       "\n",
       "    .dataframe tbody tr th {\n",
       "        vertical-align: top;\n",
       "    }\n",
       "\n",
       "    .dataframe thead th {\n",
       "        text-align: right;\n",
       "    }\n",
       "</style>\n",
       "<table border=\"1\" class=\"dataframe\">\n",
       "  <thead>\n",
       "    <tr style=\"text-align: right;\">\n",
       "      <th></th>\n",
       "      <th>Model</th>\n",
       "      <th>Accuracy</th>\n",
       "      <th>Precision</th>\n",
       "      <th>Recall</th>\n",
       "      <th>F1 Score</th>\n",
       "      <th>ROC-AUC</th>\n",
       "      <th>model_score</th>\n",
       "    </tr>\n",
       "  </thead>\n",
       "  <tbody>\n",
       "    <tr>\n",
       "      <th>0</th>\n",
       "      <td>Logistic Regression</td>\n",
       "      <td>0.713190</td>\n",
       "      <td>0.764428</td>\n",
       "      <td>0.618210</td>\n",
       "      <td>0.683587</td>\n",
       "      <td>0.760089</td>\n",
       "      <td>71.59</td>\n",
       "    </tr>\n",
       "    <tr>\n",
       "      <th>1</th>\n",
       "      <td>Random Forest</td>\n",
       "      <td>0.745399</td>\n",
       "      <td>0.793607</td>\n",
       "      <td>0.664881</td>\n",
       "      <td>0.723564</td>\n",
       "      <td>0.808735</td>\n",
       "      <td>100.00</td>\n",
       "    </tr>\n",
       "    <tr>\n",
       "      <th>2</th>\n",
       "      <td>Decision Tree</td>\n",
       "      <td>0.697469</td>\n",
       "      <td>0.697710</td>\n",
       "      <td>0.699311</td>\n",
       "      <td>0.698510</td>\n",
       "      <td>0.697465</td>\n",
       "      <td>100.00</td>\n",
       "    </tr>\n",
       "    <tr>\n",
       "      <th>3</th>\n",
       "      <td>k-NN</td>\n",
       "      <td>0.686350</td>\n",
       "      <td>0.695757</td>\n",
       "      <td>0.664881</td>\n",
       "      <td>0.679969</td>\n",
       "      <td>0.743102</td>\n",
       "      <td>79.33</td>\n",
       "    </tr>\n",
       "    <tr>\n",
       "      <th>4</th>\n",
       "      <td>Gradient Boosting</td>\n",
       "      <td>0.747316</td>\n",
       "      <td>0.787234</td>\n",
       "      <td>0.679419</td>\n",
       "      <td>0.729363</td>\n",
       "      <td>0.812758</td>\n",
       "      <td>77.19</td>\n",
       "    </tr>\n",
       "    <tr>\n",
       "      <th>5</th>\n",
       "      <td>Neural Network</td>\n",
       "      <td>0.682132</td>\n",
       "      <td>0.672190</td>\n",
       "      <td>0.713849</td>\n",
       "      <td>0.692393</td>\n",
       "      <td>0.728945</td>\n",
       "      <td>70.11</td>\n",
       "    </tr>\n",
       "    <tr>\n",
       "      <th>6</th>\n",
       "      <td>XGBoost</td>\n",
       "      <td>0.737347</td>\n",
       "      <td>0.768103</td>\n",
       "      <td>0.681714</td>\n",
       "      <td>0.722335</td>\n",
       "      <td>0.807005</td>\n",
       "      <td>91.98</td>\n",
       "    </tr>\n",
       "  </tbody>\n",
       "</table>\n",
       "</div>"
      ],
      "text/plain": [
       "                 Model  Accuracy  Precision    Recall  F1 Score   ROC-AUC  \\\n",
       "0  Logistic Regression  0.713190   0.764428  0.618210  0.683587  0.760089   \n",
       "1        Random Forest  0.745399   0.793607  0.664881  0.723564  0.808735   \n",
       "2        Decision Tree  0.697469   0.697710  0.699311  0.698510  0.697465   \n",
       "3                 k-NN  0.686350   0.695757  0.664881  0.679969  0.743102   \n",
       "4    Gradient Boosting  0.747316   0.787234  0.679419  0.729363  0.812758   \n",
       "5       Neural Network  0.682132   0.672190  0.713849  0.692393  0.728945   \n",
       "6              XGBoost  0.737347   0.768103  0.681714  0.722335  0.807005   \n",
       "\n",
       "   model_score  \n",
       "0        71.59  \n",
       "1       100.00  \n",
       "2       100.00  \n",
       "3        79.33  \n",
       "4        77.19  \n",
       "5        70.11  \n",
       "6        91.98  "
      ]
     },
     "execution_count": 74,
     "metadata": {},
     "output_type": "execute_result"
    }
   ],
   "source": [
    "xgb = XGBClassifier()\n",
    "xgb.fit(X_train, y_train)\n",
    "metrics_df=evaluate_model(xgb, X_test, y_test, 'XGBoost', metrics_df)\n",
    "metrics_df"
   ]
  },
  {
   "cell_type": "code",
   "execution_count": 75,
   "id": "0bfe07ab",
   "metadata": {
    "execution": {
     "iopub.execute_input": "2024-07-23T11:36:05.263261Z",
     "iopub.status.busy": "2024-07-23T11:36:05.262830Z",
     "iopub.status.idle": "2024-07-23T11:36:05.338484Z",
     "shell.execute_reply": "2024-07-23T11:36:05.336981Z"
    },
    "papermill": {
     "duration": 0.137395,
     "end_time": "2024-07-23T11:36:05.341459",
     "exception": false,
     "start_time": "2024-07-23T11:36:05.204064",
     "status": "completed"
    },
    "tags": []
   },
   "outputs": [
    {
     "name": "stdout",
     "output_type": "stream",
     "text": [
      "[[1043  258]\n",
      " [ 494  813]]\n",
      "------------------------------\n",
      "              precision    recall  f1-score   support\n",
      "\n",
      "         0.0       0.68      0.80      0.74      1301\n",
      "         1.0       0.76      0.62      0.68      1307\n",
      "\n",
      "    accuracy                           0.71      2608\n",
      "   macro avg       0.72      0.71      0.71      2608\n",
      "weighted avg       0.72      0.71      0.71      2608\n",
      "\n",
      "------------------------------\n"
     ]
    },
    {
     "data": {
      "text/html": [
       "<div>\n",
       "<style scoped>\n",
       "    .dataframe tbody tr th:only-of-type {\n",
       "        vertical-align: middle;\n",
       "    }\n",
       "\n",
       "    .dataframe tbody tr th {\n",
       "        vertical-align: top;\n",
       "    }\n",
       "\n",
       "    .dataframe thead th {\n",
       "        text-align: right;\n",
       "    }\n",
       "</style>\n",
       "<table border=\"1\" class=\"dataframe\">\n",
       "  <thead>\n",
       "    <tr style=\"text-align: right;\">\n",
       "      <th></th>\n",
       "      <th>Model</th>\n",
       "      <th>Accuracy</th>\n",
       "      <th>Precision</th>\n",
       "      <th>Recall</th>\n",
       "      <th>F1 Score</th>\n",
       "      <th>ROC-AUC</th>\n",
       "      <th>model_score</th>\n",
       "    </tr>\n",
       "  </thead>\n",
       "  <tbody>\n",
       "    <tr>\n",
       "      <th>0</th>\n",
       "      <td>Logistic Regression</td>\n",
       "      <td>0.713190</td>\n",
       "      <td>0.764428</td>\n",
       "      <td>0.618210</td>\n",
       "      <td>0.683587</td>\n",
       "      <td>0.760089</td>\n",
       "      <td>71.59</td>\n",
       "    </tr>\n",
       "    <tr>\n",
       "      <th>1</th>\n",
       "      <td>Random Forest</td>\n",
       "      <td>0.745399</td>\n",
       "      <td>0.793607</td>\n",
       "      <td>0.664881</td>\n",
       "      <td>0.723564</td>\n",
       "      <td>0.808735</td>\n",
       "      <td>100.00</td>\n",
       "    </tr>\n",
       "    <tr>\n",
       "      <th>2</th>\n",
       "      <td>Decision Tree</td>\n",
       "      <td>0.697469</td>\n",
       "      <td>0.697710</td>\n",
       "      <td>0.699311</td>\n",
       "      <td>0.698510</td>\n",
       "      <td>0.697465</td>\n",
       "      <td>100.00</td>\n",
       "    </tr>\n",
       "    <tr>\n",
       "      <th>3</th>\n",
       "      <td>k-NN</td>\n",
       "      <td>0.686350</td>\n",
       "      <td>0.695757</td>\n",
       "      <td>0.664881</td>\n",
       "      <td>0.679969</td>\n",
       "      <td>0.743102</td>\n",
       "      <td>79.33</td>\n",
       "    </tr>\n",
       "    <tr>\n",
       "      <th>4</th>\n",
       "      <td>Gradient Boosting</td>\n",
       "      <td>0.747316</td>\n",
       "      <td>0.787234</td>\n",
       "      <td>0.679419</td>\n",
       "      <td>0.729363</td>\n",
       "      <td>0.812758</td>\n",
       "      <td>77.19</td>\n",
       "    </tr>\n",
       "    <tr>\n",
       "      <th>5</th>\n",
       "      <td>Neural Network</td>\n",
       "      <td>0.682132</td>\n",
       "      <td>0.672190</td>\n",
       "      <td>0.713849</td>\n",
       "      <td>0.692393</td>\n",
       "      <td>0.728945</td>\n",
       "      <td>70.11</td>\n",
       "    </tr>\n",
       "    <tr>\n",
       "      <th>6</th>\n",
       "      <td>XGBoost</td>\n",
       "      <td>0.737347</td>\n",
       "      <td>0.768103</td>\n",
       "      <td>0.681714</td>\n",
       "      <td>0.722335</td>\n",
       "      <td>0.807005</td>\n",
       "      <td>91.98</td>\n",
       "    </tr>\n",
       "    <tr>\n",
       "      <th>7</th>\n",
       "      <td>Naive_bayes</td>\n",
       "      <td>0.711656</td>\n",
       "      <td>0.759104</td>\n",
       "      <td>0.622035</td>\n",
       "      <td>0.683768</td>\n",
       "      <td>0.749489</td>\n",
       "      <td>72.59</td>\n",
       "    </tr>\n",
       "  </tbody>\n",
       "</table>\n",
       "</div>"
      ],
      "text/plain": [
       "                 Model  Accuracy  Precision    Recall  F1 Score   ROC-AUC  \\\n",
       "0  Logistic Regression  0.713190   0.764428  0.618210  0.683587  0.760089   \n",
       "1        Random Forest  0.745399   0.793607  0.664881  0.723564  0.808735   \n",
       "2        Decision Tree  0.697469   0.697710  0.699311  0.698510  0.697465   \n",
       "3                 k-NN  0.686350   0.695757  0.664881  0.679969  0.743102   \n",
       "4    Gradient Boosting  0.747316   0.787234  0.679419  0.729363  0.812758   \n",
       "5       Neural Network  0.682132   0.672190  0.713849  0.692393  0.728945   \n",
       "6              XGBoost  0.737347   0.768103  0.681714  0.722335  0.807005   \n",
       "7          Naive_bayes  0.711656   0.759104  0.622035  0.683768  0.749489   \n",
       "\n",
       "   model_score  \n",
       "0        71.59  \n",
       "1       100.00  \n",
       "2       100.00  \n",
       "3        79.33  \n",
       "4        77.19  \n",
       "5        70.11  \n",
       "6        91.98  \n",
       "7        72.59  "
      ]
     },
     "execution_count": 75,
     "metadata": {},
     "output_type": "execute_result"
    }
   ],
   "source": [
    "from sklearn.naive_bayes import GaussianNB\n",
    "nb_model = GaussianNB()\n",
    "nb_model.fit(X_train, y_train)\n",
    "metrics_df=evaluate_model(nb_model, X_test, y_test, 'Naive_bayes', metrics_df)\n",
    "metrics_df"
   ]
  },
  {
   "cell_type": "code",
   "execution_count": 76,
   "id": "2019a70a",
   "metadata": {
    "execution": {
     "iopub.execute_input": "2024-07-23T11:36:05.466584Z",
     "iopub.status.busy": "2024-07-23T11:36:05.466114Z",
     "iopub.status.idle": "2024-07-23T11:36:06.081459Z",
     "shell.execute_reply": "2024-07-23T11:36:06.080141Z"
    },
    "papermill": {
     "duration": 0.680049,
     "end_time": "2024-07-23T11:36:06.084250",
     "exception": false,
     "start_time": "2024-07-23T11:36:05.404201",
     "status": "completed"
    },
    "tags": []
   },
   "outputs": [
    {
     "name": "stdout",
     "output_type": "stream",
     "text": [
      "[LightGBM] [Info] Number of positive: 3071, number of negative: 3014\n",
      "[LightGBM] [Info] Auto-choosing row-wise multi-threading, the overhead of testing was 0.003486 seconds.\n",
      "You can set `force_row_wise=true` to remove the overhead.\n",
      "And if memory is not enough, you can set `force_col_wise=true`.\n",
      "[LightGBM] [Info] Total Bins 875\n",
      "[LightGBM] [Info] Number of data points in the train set: 6085, number of used features: 11\n",
      "[LightGBM] [Info] [binary:BoostFromScore]: pavg=0.504684 -> initscore=0.018735\n",
      "[LightGBM] [Info] Start training from score 0.018735\n",
      "[[1077  224]\n",
      " [ 419  888]]\n",
      "------------------------------\n",
      "              precision    recall  f1-score   support\n",
      "\n",
      "         0.0       0.72      0.83      0.77      1301\n",
      "         1.0       0.80      0.68      0.73      1307\n",
      "\n",
      "    accuracy                           0.75      2608\n",
      "   macro avg       0.76      0.75      0.75      2608\n",
      "weighted avg       0.76      0.75      0.75      2608\n",
      "\n",
      "------------------------------\n"
     ]
    },
    {
     "data": {
      "text/html": [
       "<div>\n",
       "<style scoped>\n",
       "    .dataframe tbody tr th:only-of-type {\n",
       "        vertical-align: middle;\n",
       "    }\n",
       "\n",
       "    .dataframe tbody tr th {\n",
       "        vertical-align: top;\n",
       "    }\n",
       "\n",
       "    .dataframe thead th {\n",
       "        text-align: right;\n",
       "    }\n",
       "</style>\n",
       "<table border=\"1\" class=\"dataframe\">\n",
       "  <thead>\n",
       "    <tr style=\"text-align: right;\">\n",
       "      <th></th>\n",
       "      <th>Model</th>\n",
       "      <th>Accuracy</th>\n",
       "      <th>Precision</th>\n",
       "      <th>Recall</th>\n",
       "      <th>F1 Score</th>\n",
       "      <th>ROC-AUC</th>\n",
       "      <th>model_score</th>\n",
       "    </tr>\n",
       "  </thead>\n",
       "  <tbody>\n",
       "    <tr>\n",
       "      <th>0</th>\n",
       "      <td>Logistic Regression</td>\n",
       "      <td>0.713190</td>\n",
       "      <td>0.764428</td>\n",
       "      <td>0.618210</td>\n",
       "      <td>0.683587</td>\n",
       "      <td>0.760089</td>\n",
       "      <td>71.59</td>\n",
       "    </tr>\n",
       "    <tr>\n",
       "      <th>1</th>\n",
       "      <td>Random Forest</td>\n",
       "      <td>0.745399</td>\n",
       "      <td>0.793607</td>\n",
       "      <td>0.664881</td>\n",
       "      <td>0.723564</td>\n",
       "      <td>0.808735</td>\n",
       "      <td>100.00</td>\n",
       "    </tr>\n",
       "    <tr>\n",
       "      <th>2</th>\n",
       "      <td>Decision Tree</td>\n",
       "      <td>0.697469</td>\n",
       "      <td>0.697710</td>\n",
       "      <td>0.699311</td>\n",
       "      <td>0.698510</td>\n",
       "      <td>0.697465</td>\n",
       "      <td>100.00</td>\n",
       "    </tr>\n",
       "    <tr>\n",
       "      <th>3</th>\n",
       "      <td>k-NN</td>\n",
       "      <td>0.686350</td>\n",
       "      <td>0.695757</td>\n",
       "      <td>0.664881</td>\n",
       "      <td>0.679969</td>\n",
       "      <td>0.743102</td>\n",
       "      <td>79.33</td>\n",
       "    </tr>\n",
       "    <tr>\n",
       "      <th>4</th>\n",
       "      <td>Gradient Boosting</td>\n",
       "      <td>0.747316</td>\n",
       "      <td>0.787234</td>\n",
       "      <td>0.679419</td>\n",
       "      <td>0.729363</td>\n",
       "      <td>0.812758</td>\n",
       "      <td>77.19</td>\n",
       "    </tr>\n",
       "    <tr>\n",
       "      <th>5</th>\n",
       "      <td>Neural Network</td>\n",
       "      <td>0.682132</td>\n",
       "      <td>0.672190</td>\n",
       "      <td>0.713849</td>\n",
       "      <td>0.692393</td>\n",
       "      <td>0.728945</td>\n",
       "      <td>70.11</td>\n",
       "    </tr>\n",
       "    <tr>\n",
       "      <th>6</th>\n",
       "      <td>XGBoost</td>\n",
       "      <td>0.737347</td>\n",
       "      <td>0.768103</td>\n",
       "      <td>0.681714</td>\n",
       "      <td>0.722335</td>\n",
       "      <td>0.807005</td>\n",
       "      <td>91.98</td>\n",
       "    </tr>\n",
       "    <tr>\n",
       "      <th>7</th>\n",
       "      <td>Naive_bayes</td>\n",
       "      <td>0.711656</td>\n",
       "      <td>0.759104</td>\n",
       "      <td>0.622035</td>\n",
       "      <td>0.683768</td>\n",
       "      <td>0.749489</td>\n",
       "      <td>72.59</td>\n",
       "    </tr>\n",
       "    <tr>\n",
       "      <th>8</th>\n",
       "      <td>LightGBM</td>\n",
       "      <td>0.753451</td>\n",
       "      <td>0.798561</td>\n",
       "      <td>0.679419</td>\n",
       "      <td>0.734188</td>\n",
       "      <td>0.817885</td>\n",
       "      <td>84.65</td>\n",
       "    </tr>\n",
       "  </tbody>\n",
       "</table>\n",
       "</div>"
      ],
      "text/plain": [
       "                 Model  Accuracy  Precision    Recall  F1 Score   ROC-AUC  \\\n",
       "0  Logistic Regression  0.713190   0.764428  0.618210  0.683587  0.760089   \n",
       "1        Random Forest  0.745399   0.793607  0.664881  0.723564  0.808735   \n",
       "2        Decision Tree  0.697469   0.697710  0.699311  0.698510  0.697465   \n",
       "3                 k-NN  0.686350   0.695757  0.664881  0.679969  0.743102   \n",
       "4    Gradient Boosting  0.747316   0.787234  0.679419  0.729363  0.812758   \n",
       "5       Neural Network  0.682132   0.672190  0.713849  0.692393  0.728945   \n",
       "6              XGBoost  0.737347   0.768103  0.681714  0.722335  0.807005   \n",
       "7          Naive_bayes  0.711656   0.759104  0.622035  0.683768  0.749489   \n",
       "8             LightGBM  0.753451   0.798561  0.679419  0.734188  0.817885   \n",
       "\n",
       "   model_score  \n",
       "0        71.59  \n",
       "1       100.00  \n",
       "2       100.00  \n",
       "3        79.33  \n",
       "4        77.19  \n",
       "5        70.11  \n",
       "6        91.98  \n",
       "7        72.59  \n",
       "8        84.65  "
      ]
     },
     "execution_count": 76,
     "metadata": {},
     "output_type": "execute_result"
    }
   ],
   "source": [
    "lgbm = LGBMClassifier()\n",
    "lgbm.fit(X_train, y_train)\n",
    "metrics_df=evaluate_model(lgbm, X_test, y_test, 'LightGBM', metrics_df)\n",
    "metrics_df"
   ]
  },
  {
   "cell_type": "code",
   "execution_count": 77,
   "id": "becd7c5e",
   "metadata": {
    "execution": {
     "iopub.execute_input": "2024-07-23T11:36:06.203863Z",
     "iopub.status.busy": "2024-07-23T11:36:06.203404Z",
     "iopub.status.idle": "2024-07-23T11:36:10.091540Z",
     "shell.execute_reply": "2024-07-23T11:36:10.089912Z"
    },
    "papermill": {
     "duration": 3.951586,
     "end_time": "2024-07-23T11:36:10.094979",
     "exception": false,
     "start_time": "2024-07-23T11:36:06.143393",
     "status": "completed"
    },
    "tags": []
   },
   "outputs": [
    {
     "name": "stdout",
     "output_type": "stream",
     "text": [
      "[[1066  235]\n",
      " [ 407  900]]\n",
      "------------------------------\n",
      "              precision    recall  f1-score   support\n",
      "\n",
      "         0.0       0.72      0.82      0.77      1301\n",
      "         1.0       0.79      0.69      0.74      1307\n",
      "\n",
      "    accuracy                           0.75      2608\n",
      "   macro avg       0.76      0.75      0.75      2608\n",
      "weighted avg       0.76      0.75      0.75      2608\n",
      "\n",
      "------------------------------\n"
     ]
    },
    {
     "data": {
      "text/html": [
       "<div>\n",
       "<style scoped>\n",
       "    .dataframe tbody tr th:only-of-type {\n",
       "        vertical-align: middle;\n",
       "    }\n",
       "\n",
       "    .dataframe tbody tr th {\n",
       "        vertical-align: top;\n",
       "    }\n",
       "\n",
       "    .dataframe thead th {\n",
       "        text-align: right;\n",
       "    }\n",
       "</style>\n",
       "<table border=\"1\" class=\"dataframe\">\n",
       "  <thead>\n",
       "    <tr style=\"text-align: right;\">\n",
       "      <th></th>\n",
       "      <th>Model</th>\n",
       "      <th>Accuracy</th>\n",
       "      <th>Precision</th>\n",
       "      <th>Recall</th>\n",
       "      <th>F1 Score</th>\n",
       "      <th>ROC-AUC</th>\n",
       "      <th>model_score</th>\n",
       "    </tr>\n",
       "  </thead>\n",
       "  <tbody>\n",
       "    <tr>\n",
       "      <th>0</th>\n",
       "      <td>Logistic Regression</td>\n",
       "      <td>0.713190</td>\n",
       "      <td>0.764428</td>\n",
       "      <td>0.618210</td>\n",
       "      <td>0.683587</td>\n",
       "      <td>0.760089</td>\n",
       "      <td>71.59</td>\n",
       "    </tr>\n",
       "    <tr>\n",
       "      <th>1</th>\n",
       "      <td>Random Forest</td>\n",
       "      <td>0.745399</td>\n",
       "      <td>0.793607</td>\n",
       "      <td>0.664881</td>\n",
       "      <td>0.723564</td>\n",
       "      <td>0.808735</td>\n",
       "      <td>100.00</td>\n",
       "    </tr>\n",
       "    <tr>\n",
       "      <th>2</th>\n",
       "      <td>Decision Tree</td>\n",
       "      <td>0.697469</td>\n",
       "      <td>0.697710</td>\n",
       "      <td>0.699311</td>\n",
       "      <td>0.698510</td>\n",
       "      <td>0.697465</td>\n",
       "      <td>100.00</td>\n",
       "    </tr>\n",
       "    <tr>\n",
       "      <th>3</th>\n",
       "      <td>k-NN</td>\n",
       "      <td>0.686350</td>\n",
       "      <td>0.695757</td>\n",
       "      <td>0.664881</td>\n",
       "      <td>0.679969</td>\n",
       "      <td>0.743102</td>\n",
       "      <td>79.33</td>\n",
       "    </tr>\n",
       "    <tr>\n",
       "      <th>4</th>\n",
       "      <td>Gradient Boosting</td>\n",
       "      <td>0.747316</td>\n",
       "      <td>0.787234</td>\n",
       "      <td>0.679419</td>\n",
       "      <td>0.729363</td>\n",
       "      <td>0.812758</td>\n",
       "      <td>77.19</td>\n",
       "    </tr>\n",
       "    <tr>\n",
       "      <th>5</th>\n",
       "      <td>Neural Network</td>\n",
       "      <td>0.682132</td>\n",
       "      <td>0.672190</td>\n",
       "      <td>0.713849</td>\n",
       "      <td>0.692393</td>\n",
       "      <td>0.728945</td>\n",
       "      <td>70.11</td>\n",
       "    </tr>\n",
       "    <tr>\n",
       "      <th>6</th>\n",
       "      <td>XGBoost</td>\n",
       "      <td>0.737347</td>\n",
       "      <td>0.768103</td>\n",
       "      <td>0.681714</td>\n",
       "      <td>0.722335</td>\n",
       "      <td>0.807005</td>\n",
       "      <td>91.98</td>\n",
       "    </tr>\n",
       "    <tr>\n",
       "      <th>7</th>\n",
       "      <td>Naive_bayes</td>\n",
       "      <td>0.711656</td>\n",
       "      <td>0.759104</td>\n",
       "      <td>0.622035</td>\n",
       "      <td>0.683768</td>\n",
       "      <td>0.749489</td>\n",
       "      <td>72.59</td>\n",
       "    </tr>\n",
       "    <tr>\n",
       "      <th>8</th>\n",
       "      <td>LightGBM</td>\n",
       "      <td>0.753451</td>\n",
       "      <td>0.798561</td>\n",
       "      <td>0.679419</td>\n",
       "      <td>0.734188</td>\n",
       "      <td>0.817885</td>\n",
       "      <td>84.65</td>\n",
       "    </tr>\n",
       "    <tr>\n",
       "      <th>9</th>\n",
       "      <td>CatBoost</td>\n",
       "      <td>0.753834</td>\n",
       "      <td>0.792952</td>\n",
       "      <td>0.688600</td>\n",
       "      <td>0.737101</td>\n",
       "      <td>0.821097</td>\n",
       "      <td>83.43</td>\n",
       "    </tr>\n",
       "  </tbody>\n",
       "</table>\n",
       "</div>"
      ],
      "text/plain": [
       "                 Model  Accuracy  Precision    Recall  F1 Score   ROC-AUC  \\\n",
       "0  Logistic Regression  0.713190   0.764428  0.618210  0.683587  0.760089   \n",
       "1        Random Forest  0.745399   0.793607  0.664881  0.723564  0.808735   \n",
       "2        Decision Tree  0.697469   0.697710  0.699311  0.698510  0.697465   \n",
       "3                 k-NN  0.686350   0.695757  0.664881  0.679969  0.743102   \n",
       "4    Gradient Boosting  0.747316   0.787234  0.679419  0.729363  0.812758   \n",
       "5       Neural Network  0.682132   0.672190  0.713849  0.692393  0.728945   \n",
       "6              XGBoost  0.737347   0.768103  0.681714  0.722335  0.807005   \n",
       "7          Naive_bayes  0.711656   0.759104  0.622035  0.683768  0.749489   \n",
       "8             LightGBM  0.753451   0.798561  0.679419  0.734188  0.817885   \n",
       "9             CatBoost  0.753834   0.792952  0.688600  0.737101  0.821097   \n",
       "\n",
       "   model_score  \n",
       "0        71.59  \n",
       "1       100.00  \n",
       "2       100.00  \n",
       "3        79.33  \n",
       "4        77.19  \n",
       "5        70.11  \n",
       "6        91.98  \n",
       "7        72.59  \n",
       "8        84.65  \n",
       "9        83.43  "
      ]
     },
     "execution_count": 77,
     "metadata": {},
     "output_type": "execute_result"
    }
   ],
   "source": [
    "catb=CatBoostClassifier(verbose=0)\n",
    "catb.fit(X_train, y_train)\n",
    "metrics_df=evaluate_model(catb, X_test, y_test, 'CatBoost', metrics_df)\n",
    "metrics_df"
   ]
  },
  {
   "cell_type": "code",
   "execution_count": 78,
   "id": "f199ed16",
   "metadata": {
    "execution": {
     "iopub.execute_input": "2024-07-23T11:36:10.223935Z",
     "iopub.status.busy": "2024-07-23T11:36:10.223511Z",
     "iopub.status.idle": "2024-07-23T11:36:10.243955Z",
     "shell.execute_reply": "2024-07-23T11:36:10.242733Z"
    },
    "papermill": {
     "duration": 0.087994,
     "end_time": "2024-07-23T11:36:10.246359",
     "exception": false,
     "start_time": "2024-07-23T11:36:10.158365",
     "status": "completed"
    },
    "tags": []
   },
   "outputs": [
    {
     "data": {
      "text/html": [
       "<div>\n",
       "<style scoped>\n",
       "    .dataframe tbody tr th:only-of-type {\n",
       "        vertical-align: middle;\n",
       "    }\n",
       "\n",
       "    .dataframe tbody tr th {\n",
       "        vertical-align: top;\n",
       "    }\n",
       "\n",
       "    .dataframe thead th {\n",
       "        text-align: right;\n",
       "    }\n",
       "</style>\n",
       "<table border=\"1\" class=\"dataframe\">\n",
       "  <thead>\n",
       "    <tr style=\"text-align: right;\">\n",
       "      <th></th>\n",
       "      <th>Model</th>\n",
       "      <th>Accuracy</th>\n",
       "      <th>Precision</th>\n",
       "      <th>Recall</th>\n",
       "      <th>F1 Score</th>\n",
       "      <th>ROC-AUC</th>\n",
       "      <th>model_score</th>\n",
       "    </tr>\n",
       "  </thead>\n",
       "  <tbody>\n",
       "    <tr>\n",
       "      <th>9</th>\n",
       "      <td>CatBoost</td>\n",
       "      <td>0.753834</td>\n",
       "      <td>0.792952</td>\n",
       "      <td>0.688600</td>\n",
       "      <td>0.737101</td>\n",
       "      <td>0.821097</td>\n",
       "      <td>83.43</td>\n",
       "    </tr>\n",
       "    <tr>\n",
       "      <th>8</th>\n",
       "      <td>LightGBM</td>\n",
       "      <td>0.753451</td>\n",
       "      <td>0.798561</td>\n",
       "      <td>0.679419</td>\n",
       "      <td>0.734188</td>\n",
       "      <td>0.817885</td>\n",
       "      <td>84.65</td>\n",
       "    </tr>\n",
       "    <tr>\n",
       "      <th>4</th>\n",
       "      <td>Gradient Boosting</td>\n",
       "      <td>0.747316</td>\n",
       "      <td>0.787234</td>\n",
       "      <td>0.679419</td>\n",
       "      <td>0.729363</td>\n",
       "      <td>0.812758</td>\n",
       "      <td>77.19</td>\n",
       "    </tr>\n",
       "    <tr>\n",
       "      <th>1</th>\n",
       "      <td>Random Forest</td>\n",
       "      <td>0.745399</td>\n",
       "      <td>0.793607</td>\n",
       "      <td>0.664881</td>\n",
       "      <td>0.723564</td>\n",
       "      <td>0.808735</td>\n",
       "      <td>100.00</td>\n",
       "    </tr>\n",
       "    <tr>\n",
       "      <th>6</th>\n",
       "      <td>XGBoost</td>\n",
       "      <td>0.737347</td>\n",
       "      <td>0.768103</td>\n",
       "      <td>0.681714</td>\n",
       "      <td>0.722335</td>\n",
       "      <td>0.807005</td>\n",
       "      <td>91.98</td>\n",
       "    </tr>\n",
       "    <tr>\n",
       "      <th>0</th>\n",
       "      <td>Logistic Regression</td>\n",
       "      <td>0.713190</td>\n",
       "      <td>0.764428</td>\n",
       "      <td>0.618210</td>\n",
       "      <td>0.683587</td>\n",
       "      <td>0.760089</td>\n",
       "      <td>71.59</td>\n",
       "    </tr>\n",
       "    <tr>\n",
       "      <th>7</th>\n",
       "      <td>Naive_bayes</td>\n",
       "      <td>0.711656</td>\n",
       "      <td>0.759104</td>\n",
       "      <td>0.622035</td>\n",
       "      <td>0.683768</td>\n",
       "      <td>0.749489</td>\n",
       "      <td>72.59</td>\n",
       "    </tr>\n",
       "    <tr>\n",
       "      <th>2</th>\n",
       "      <td>Decision Tree</td>\n",
       "      <td>0.697469</td>\n",
       "      <td>0.697710</td>\n",
       "      <td>0.699311</td>\n",
       "      <td>0.698510</td>\n",
       "      <td>0.697465</td>\n",
       "      <td>100.00</td>\n",
       "    </tr>\n",
       "    <tr>\n",
       "      <th>3</th>\n",
       "      <td>k-NN</td>\n",
       "      <td>0.686350</td>\n",
       "      <td>0.695757</td>\n",
       "      <td>0.664881</td>\n",
       "      <td>0.679969</td>\n",
       "      <td>0.743102</td>\n",
       "      <td>79.33</td>\n",
       "    </tr>\n",
       "    <tr>\n",
       "      <th>5</th>\n",
       "      <td>Neural Network</td>\n",
       "      <td>0.682132</td>\n",
       "      <td>0.672190</td>\n",
       "      <td>0.713849</td>\n",
       "      <td>0.692393</td>\n",
       "      <td>0.728945</td>\n",
       "      <td>70.11</td>\n",
       "    </tr>\n",
       "  </tbody>\n",
       "</table>\n",
       "</div>"
      ],
      "text/plain": [
       "                 Model  Accuracy  Precision    Recall  F1 Score   ROC-AUC  \\\n",
       "9             CatBoost  0.753834   0.792952  0.688600  0.737101  0.821097   \n",
       "8             LightGBM  0.753451   0.798561  0.679419  0.734188  0.817885   \n",
       "4    Gradient Boosting  0.747316   0.787234  0.679419  0.729363  0.812758   \n",
       "1        Random Forest  0.745399   0.793607  0.664881  0.723564  0.808735   \n",
       "6              XGBoost  0.737347   0.768103  0.681714  0.722335  0.807005   \n",
       "0  Logistic Regression  0.713190   0.764428  0.618210  0.683587  0.760089   \n",
       "7          Naive_bayes  0.711656   0.759104  0.622035  0.683768  0.749489   \n",
       "2        Decision Tree  0.697469   0.697710  0.699311  0.698510  0.697465   \n",
       "3                 k-NN  0.686350   0.695757  0.664881  0.679969  0.743102   \n",
       "5       Neural Network  0.682132   0.672190  0.713849  0.692393  0.728945   \n",
       "\n",
       "   model_score  \n",
       "9        83.43  \n",
       "8        84.65  \n",
       "4        77.19  \n",
       "1       100.00  \n",
       "6        91.98  \n",
       "0        71.59  \n",
       "7        72.59  \n",
       "2       100.00  \n",
       "3        79.33  \n",
       "5        70.11  "
      ]
     },
     "execution_count": 78,
     "metadata": {},
     "output_type": "execute_result"
    }
   ],
   "source": [
    "metrics_df.sort_values(by=[\"Accuracy\", \"ROC-AUC\"], ascending=[False, False])"
   ]
  },
  {
   "cell_type": "markdown",
   "id": "082b8480",
   "metadata": {
    "papermill": {
     "duration": 0.076583,
     "end_time": "2024-07-23T11:36:10.387677",
     "exception": false,
     "start_time": "2024-07-23T11:36:10.311094",
     "status": "completed"
    },
    "tags": []
   },
   "source": [
    "**the CatBoost  gave better results than all other models**"
   ]
  },
  {
   "cell_type": "markdown",
   "id": "abe2a08e",
   "metadata": {
    "papermill": {
     "duration": 0.060298,
     "end_time": "2024-07-23T11:36:10.511571",
     "exception": false,
     "start_time": "2024-07-23T11:36:10.451273",
     "status": "completed"
    },
    "tags": []
   },
   "source": [
    "**Best Model - CatBoost**"
   ]
  },
  {
   "cell_type": "code",
   "execution_count": 79,
   "id": "62c2f2c4",
   "metadata": {
    "execution": {
     "iopub.execute_input": "2024-07-23T11:36:10.634656Z",
     "iopub.status.busy": "2024-07-23T11:36:10.634251Z",
     "iopub.status.idle": "2024-07-23T11:39:17.713930Z",
     "shell.execute_reply": "2024-07-23T11:39:17.712228Z"
    },
    "papermill": {
     "duration": 187.21081,
     "end_time": "2024-07-23T11:39:17.781962",
     "exception": false,
     "start_time": "2024-07-23T11:36:10.571152",
     "status": "completed"
    },
    "tags": []
   },
   "outputs": [
    {
     "name": "stdout",
     "output_type": "stream",
     "text": [
      "Best Parameters:  {'depth': 8, 'iterations': 100, 'l2_leaf_reg': 2, 'learning_rate': 0.1}\n",
      "Best Score:  0.7597370583401808\n"
     ]
    }
   ],
   "source": [
    "catboost_model = CatBoostClassifier(verbose=0, random_state=42)\n",
    "\n",
    "param_grid = {\n",
    "    'iterations': [100, 200],\n",
    "    'depth': [4, 6, 8],\n",
    "    'learning_rate': [0.01, 0.1, 0.5, 1],\n",
    "    'l2_leaf_reg': [1, 2, 3]\n",
    "}\n",
    "\n",
    "grid_search = GridSearchCV(estimator=catboost_model, param_grid=param_grid, scoring='accuracy', cv=5, verbose=0)\n",
    "\n",
    "grid_search.fit(X_train, y_train)\n",
    "\n",
    "print(\"Best Parameters: \", grid_search.best_params_)\n",
    "print(\"Best Score: \", grid_search.best_score_)"
   ]
  },
  {
   "cell_type": "code",
   "execution_count": 80,
   "id": "d96a0098",
   "metadata": {
    "execution": {
     "iopub.execute_input": "2024-07-23T11:39:17.910468Z",
     "iopub.status.busy": "2024-07-23T11:39:17.909972Z",
     "iopub.status.idle": "2024-07-23T11:39:17.926663Z",
     "shell.execute_reply": "2024-07-23T11:39:17.924962Z"
    },
    "papermill": {
     "duration": 0.085624,
     "end_time": "2024-07-23T11:39:17.929618",
     "exception": false,
     "start_time": "2024-07-23T11:39:17.843994",
     "status": "completed"
    },
    "tags": []
   },
   "outputs": [
    {
     "name": "stdout",
     "output_type": "stream",
     "text": [
      "Test Accuracy:  0.7523006134969326\n"
     ]
    }
   ],
   "source": [
    "best_model = grid_search.best_estimator_\n",
    "y_pred = best_model.predict(X_test)\n",
    "print(\"Test Accuracy: \", accuracy_score(y_test, y_pred))"
   ]
  },
  {
   "cell_type": "code",
   "execution_count": 81,
   "id": "eb4a7201",
   "metadata": {
    "execution": {
     "iopub.execute_input": "2024-07-23T11:39:18.053813Z",
     "iopub.status.busy": "2024-07-23T11:39:18.053340Z",
     "iopub.status.idle": "2024-07-23T11:39:18.081794Z",
     "shell.execute_reply": "2024-07-23T11:39:18.079819Z"
    },
    "papermill": {
     "duration": 0.095006,
     "end_time": "2024-07-23T11:39:18.085539",
     "exception": false,
     "start_time": "2024-07-23T11:39:17.990533",
     "status": "completed"
    },
    "tags": []
   },
   "outputs": [
    {
     "data": {
      "text/html": [
       "<div>\n",
       "<style scoped>\n",
       "    .dataframe tbody tr th:only-of-type {\n",
       "        vertical-align: middle;\n",
       "    }\n",
       "\n",
       "    .dataframe tbody tr th {\n",
       "        vertical-align: top;\n",
       "    }\n",
       "\n",
       "    .dataframe thead th {\n",
       "        text-align: right;\n",
       "    }\n",
       "</style>\n",
       "<table border=\"1\" class=\"dataframe\">\n",
       "  <thead>\n",
       "    <tr style=\"text-align: right;\">\n",
       "      <th></th>\n",
       "      <th>PassengerId</th>\n",
       "      <th>Transported</th>\n",
       "    </tr>\n",
       "  </thead>\n",
       "  <tbody>\n",
       "    <tr>\n",
       "      <th>0</th>\n",
       "      <td>0013_01</td>\n",
       "      <td>False</td>\n",
       "    </tr>\n",
       "    <tr>\n",
       "      <th>1</th>\n",
       "      <td>0018_01</td>\n",
       "      <td>False</td>\n",
       "    </tr>\n",
       "    <tr>\n",
       "      <th>2</th>\n",
       "      <td>0019_01</td>\n",
       "      <td>False</td>\n",
       "    </tr>\n",
       "  </tbody>\n",
       "</table>\n",
       "</div>"
      ],
      "text/plain": [
       "  PassengerId  Transported\n",
       "0     0013_01        False\n",
       "1     0018_01        False\n",
       "2     0019_01        False"
      ]
     },
     "execution_count": 81,
     "metadata": {},
     "output_type": "execute_result"
    }
   ],
   "source": [
    "submission = pd.read_csv('/kaggle/input/spaceship-titanic/sample_submission.csv')\n",
    "submission.head(3)"
   ]
  },
  {
   "cell_type": "code",
   "execution_count": 82,
   "id": "2f796f2b",
   "metadata": {
    "execution": {
     "iopub.execute_input": "2024-07-23T11:39:18.209951Z",
     "iopub.status.busy": "2024-07-23T11:39:18.209514Z",
     "iopub.status.idle": "2024-07-23T11:39:18.225895Z",
     "shell.execute_reply": "2024-07-23T11:39:18.224815Z"
    },
    "papermill": {
     "duration": 0.080879,
     "end_time": "2024-07-23T11:39:18.228517",
     "exception": false,
     "start_time": "2024-07-23T11:39:18.147638",
     "status": "completed"
    },
    "tags": []
   },
   "outputs": [
    {
     "data": {
      "text/plain": [
       "array([ True, False,  True, ...,  True,  True,  True])"
      ]
     },
     "execution_count": 82,
     "metadata": {},
     "output_type": "execute_result"
    }
   ],
   "source": [
    "final_pred=best_model.predict(final_test).astype(bool)\n",
    "final_pred"
   ]
  },
  {
   "cell_type": "code",
   "execution_count": 83,
   "id": "dea98fe7",
   "metadata": {
    "execution": {
     "iopub.execute_input": "2024-07-23T11:39:18.351789Z",
     "iopub.status.busy": "2024-07-23T11:39:18.351378Z",
     "iopub.status.idle": "2024-07-23T11:39:18.363257Z",
     "shell.execute_reply": "2024-07-23T11:39:18.361752Z"
    },
    "papermill": {
     "duration": 0.076275,
     "end_time": "2024-07-23T11:39:18.366109",
     "exception": false,
     "start_time": "2024-07-23T11:39:18.289834",
     "status": "completed"
    },
    "tags": []
   },
   "outputs": [
    {
     "data": {
      "text/html": [
       "<div>\n",
       "<style scoped>\n",
       "    .dataframe tbody tr th:only-of-type {\n",
       "        vertical-align: middle;\n",
       "    }\n",
       "\n",
       "    .dataframe tbody tr th {\n",
       "        vertical-align: top;\n",
       "    }\n",
       "\n",
       "    .dataframe thead th {\n",
       "        text-align: right;\n",
       "    }\n",
       "</style>\n",
       "<table border=\"1\" class=\"dataframe\">\n",
       "  <thead>\n",
       "    <tr style=\"text-align: right;\">\n",
       "      <th></th>\n",
       "      <th>PassengerId</th>\n",
       "      <th>Transported</th>\n",
       "    </tr>\n",
       "  </thead>\n",
       "  <tbody>\n",
       "    <tr>\n",
       "      <th>0</th>\n",
       "      <td>0013_01</td>\n",
       "      <td>True</td>\n",
       "    </tr>\n",
       "    <tr>\n",
       "      <th>1</th>\n",
       "      <td>0018_01</td>\n",
       "      <td>False</td>\n",
       "    </tr>\n",
       "  </tbody>\n",
       "</table>\n",
       "</div>"
      ],
      "text/plain": [
       "  PassengerId  Transported\n",
       "0     0013_01         True\n",
       "1     0018_01        False"
      ]
     },
     "execution_count": 83,
     "metadata": {},
     "output_type": "execute_result"
    }
   ],
   "source": [
    "submission['Transported']=final_pred\n",
    "submission.head(2)"
   ]
  },
  {
   "cell_type": "code",
   "execution_count": 84,
   "id": "f95db680",
   "metadata": {
    "execution": {
     "iopub.execute_input": "2024-07-23T11:39:18.488599Z",
     "iopub.status.busy": "2024-07-23T11:39:18.488206Z",
     "iopub.status.idle": "2024-07-23T11:39:18.503327Z",
     "shell.execute_reply": "2024-07-23T11:39:18.502120Z"
    },
    "papermill": {
     "duration": 0.079327,
     "end_time": "2024-07-23T11:39:18.506461",
     "exception": false,
     "start_time": "2024-07-23T11:39:18.427134",
     "status": "completed"
    },
    "tags": []
   },
   "outputs": [],
   "source": [
    "submission.to_csv('submission.csv', index=False)  #0.756"
   ]
  },
  {
   "cell_type": "markdown",
   "id": "660db152",
   "metadata": {
    "papermill": {
     "duration": 0.060377,
     "end_time": "2024-07-23T11:39:18.626597",
     "exception": false,
     "start_time": "2024-07-23T11:39:18.566220",
     "status": "completed"
    },
    "tags": []
   },
   "source": [
    "## TFDF model "
   ]
  },
  {
   "cell_type": "code",
   "execution_count": 85,
   "id": "adb33988",
   "metadata": {
    "execution": {
     "iopub.execute_input": "2024-07-23T11:39:18.750400Z",
     "iopub.status.busy": "2024-07-23T11:39:18.749472Z",
     "iopub.status.idle": "2024-07-23T11:39:36.152687Z",
     "shell.execute_reply": "2024-07-23T11:39:36.151246Z"
    },
    "papermill": {
     "duration": 17.467868,
     "end_time": "2024-07-23T11:39:36.155638",
     "exception": false,
     "start_time": "2024-07-23T11:39:18.687770",
     "status": "completed"
    },
    "tags": []
   },
   "outputs": [
    {
     "name": "stderr",
     "output_type": "stream",
     "text": [
      "2024-07-23 11:39:21.394427: E external/local_xla/xla/stream_executor/cuda/cuda_dnn.cc:9261] Unable to register cuDNN factory: Attempting to register factory for plugin cuDNN when one has already been registered\n",
      "2024-07-23 11:39:21.394576: E external/local_xla/xla/stream_executor/cuda/cuda_fft.cc:607] Unable to register cuFFT factory: Attempting to register factory for plugin cuFFT when one has already been registered\n",
      "2024-07-23 11:39:21.647689: E external/local_xla/xla/stream_executor/cuda/cuda_blas.cc:1515] Unable to register cuBLAS factory: Attempting to register factory for plugin cuBLAS when one has already been registered\n"
     ]
    }
   ],
   "source": [
    "import tensorflow as tf\n",
    "import tensorflow_decision_forests as tfdf"
   ]
  },
  {
   "cell_type": "code",
   "execution_count": 86,
   "id": "b39bc3c2",
   "metadata": {
    "execution": {
     "iopub.execute_input": "2024-07-23T11:39:36.284575Z",
     "iopub.status.busy": "2024-07-23T11:39:36.283319Z",
     "iopub.status.idle": "2024-07-23T11:39:36.309191Z",
     "shell.execute_reply": "2024-07-23T11:39:36.307419Z"
    },
    "papermill": {
     "duration": 0.091737,
     "end_time": "2024-07-23T11:39:36.312204",
     "exception": false,
     "start_time": "2024-07-23T11:39:36.220467",
     "status": "completed"
    },
    "tags": []
   },
   "outputs": [
    {
     "data": {
      "text/html": [
       "<div>\n",
       "<style scoped>\n",
       "    .dataframe tbody tr th:only-of-type {\n",
       "        vertical-align: middle;\n",
       "    }\n",
       "\n",
       "    .dataframe tbody tr th {\n",
       "        vertical-align: top;\n",
       "    }\n",
       "\n",
       "    .dataframe thead th {\n",
       "        text-align: right;\n",
       "    }\n",
       "</style>\n",
       "<table border=\"1\" class=\"dataframe\">\n",
       "  <thead>\n",
       "    <tr style=\"text-align: right;\">\n",
       "      <th></th>\n",
       "      <th>PassengerId</th>\n",
       "      <th>HomePlanet</th>\n",
       "      <th>CryoSleep</th>\n",
       "      <th>Cabin</th>\n",
       "      <th>Destination</th>\n",
       "      <th>Age</th>\n",
       "      <th>VIP</th>\n",
       "      <th>RoomService</th>\n",
       "      <th>FoodCourt</th>\n",
       "      <th>ShoppingMall</th>\n",
       "      <th>Spa</th>\n",
       "      <th>VRDeck</th>\n",
       "      <th>Name</th>\n",
       "      <th>Transported</th>\n",
       "    </tr>\n",
       "  </thead>\n",
       "  <tbody>\n",
       "    <tr>\n",
       "      <th>0</th>\n",
       "      <td>0001_01</td>\n",
       "      <td>Europa</td>\n",
       "      <td>False</td>\n",
       "      <td>B/0/P</td>\n",
       "      <td>TRAPPIST-1e</td>\n",
       "      <td>39.0</td>\n",
       "      <td>False</td>\n",
       "      <td>0.0</td>\n",
       "      <td>0.0</td>\n",
       "      <td>0.0</td>\n",
       "      <td>0.0</td>\n",
       "      <td>0.0</td>\n",
       "      <td>Maham Ofracculy</td>\n",
       "      <td>False</td>\n",
       "    </tr>\n",
       "    <tr>\n",
       "      <th>1</th>\n",
       "      <td>0002_01</td>\n",
       "      <td>Earth</td>\n",
       "      <td>False</td>\n",
       "      <td>F/0/S</td>\n",
       "      <td>TRAPPIST-1e</td>\n",
       "      <td>24.0</td>\n",
       "      <td>False</td>\n",
       "      <td>109.0</td>\n",
       "      <td>9.0</td>\n",
       "      <td>25.0</td>\n",
       "      <td>549.0</td>\n",
       "      <td>44.0</td>\n",
       "      <td>Juanna Vines</td>\n",
       "      <td>True</td>\n",
       "    </tr>\n",
       "    <tr>\n",
       "      <th>2</th>\n",
       "      <td>0003_01</td>\n",
       "      <td>Europa</td>\n",
       "      <td>False</td>\n",
       "      <td>A/0/S</td>\n",
       "      <td>TRAPPIST-1e</td>\n",
       "      <td>58.0</td>\n",
       "      <td>True</td>\n",
       "      <td>43.0</td>\n",
       "      <td>3576.0</td>\n",
       "      <td>0.0</td>\n",
       "      <td>6715.0</td>\n",
       "      <td>49.0</td>\n",
       "      <td>Altark Susent</td>\n",
       "      <td>False</td>\n",
       "    </tr>\n",
       "  </tbody>\n",
       "</table>\n",
       "</div>"
      ],
      "text/plain": [
       "  PassengerId HomePlanet CryoSleep  Cabin  Destination   Age    VIP  \\\n",
       "0     0001_01     Europa     False  B/0/P  TRAPPIST-1e  39.0  False   \n",
       "1     0002_01      Earth     False  F/0/S  TRAPPIST-1e  24.0  False   \n",
       "2     0003_01     Europa     False  A/0/S  TRAPPIST-1e  58.0   True   \n",
       "\n",
       "   RoomService  FoodCourt  ShoppingMall     Spa  VRDeck             Name  \\\n",
       "0          0.0        0.0           0.0     0.0     0.0  Maham Ofracculy   \n",
       "1        109.0        9.0          25.0   549.0    44.0     Juanna Vines   \n",
       "2         43.0     3576.0           0.0  6715.0    49.0    Altark Susent   \n",
       "\n",
       "   Transported  \n",
       "0        False  \n",
       "1         True  \n",
       "2        False  "
      ]
     },
     "execution_count": 86,
     "metadata": {},
     "output_type": "execute_result"
    }
   ],
   "source": [
    "train.head(3)"
   ]
  },
  {
   "cell_type": "code",
   "execution_count": 87,
   "id": "f78441fb",
   "metadata": {
    "execution": {
     "iopub.execute_input": "2024-07-23T11:39:36.444065Z",
     "iopub.status.busy": "2024-07-23T11:39:36.443625Z",
     "iopub.status.idle": "2024-07-23T11:39:36.451864Z",
     "shell.execute_reply": "2024-07-23T11:39:36.450647Z"
    },
    "papermill": {
     "duration": 0.078737,
     "end_time": "2024-07-23T11:39:36.454609",
     "exception": false,
     "start_time": "2024-07-23T11:39:36.375872",
     "status": "completed"
    },
    "tags": []
   },
   "outputs": [],
   "source": [
    "tf_df=df_all.drop(['PassengerId','Name'],axis=1)"
   ]
  },
  {
   "cell_type": "code",
   "execution_count": 88,
   "id": "8f68971c",
   "metadata": {
    "execution": {
     "iopub.execute_input": "2024-07-23T11:39:36.581683Z",
     "iopub.status.busy": "2024-07-23T11:39:36.581280Z",
     "iopub.status.idle": "2024-07-23T11:39:36.602515Z",
     "shell.execute_reply": "2024-07-23T11:39:36.601205Z"
    },
    "papermill": {
     "duration": 0.088225,
     "end_time": "2024-07-23T11:39:36.605427",
     "exception": false,
     "start_time": "2024-07-23T11:39:36.517202",
     "status": "completed"
    },
    "tags": []
   },
   "outputs": [
    {
     "data": {
      "text/plain": [
       "Transported     4277\n",
       "CryoSleep        310\n",
       "ShoppingMall     306\n",
       "Cabin            299\n",
       "VIP              296\n",
       "FoodCourt        289\n",
       "HomePlanet       288\n",
       "Spa              284\n",
       "Destination      274\n",
       "Age              270\n",
       "VRDeck           268\n",
       "RoomService      263\n",
       "dtype: int64"
      ]
     },
     "execution_count": 88,
     "metadata": {},
     "output_type": "execute_result"
    }
   ],
   "source": [
    "tf_df.isnull().sum().sort_values(ascending=False)"
   ]
  },
  {
   "cell_type": "markdown",
   "id": "9463a4be",
   "metadata": {
    "papermill": {
     "duration": 0.060905,
     "end_time": "2024-07-23T11:39:36.728023",
     "exception": false,
     "start_time": "2024-07-23T11:39:36.667118",
     "status": "completed"
    },
    "tags": []
   },
   "source": [
    "**this datatset also has boolean fields with missing values. TF-DF doesn't support boolean fields yet. So we need to convert those fields into int. To account for the missing values in the boolean fields, we will replace them with zero.**"
   ]
  },
  {
   "cell_type": "code",
   "execution_count": 89,
   "id": "e6d3e58b",
   "metadata": {
    "execution": {
     "iopub.execute_input": "2024-07-23T11:39:36.852311Z",
     "iopub.status.busy": "2024-07-23T11:39:36.851797Z",
     "iopub.status.idle": "2024-07-23T11:39:36.884444Z",
     "shell.execute_reply": "2024-07-23T11:39:36.883376Z"
    },
    "papermill": {
     "duration": 0.097741,
     "end_time": "2024-07-23T11:39:36.887150",
     "exception": false,
     "start_time": "2024-07-23T11:39:36.789409",
     "status": "completed"
    },
    "tags": []
   },
   "outputs": [
    {
     "data": {
      "text/plain": [
       "Transported     4277\n",
       "Cabin            299\n",
       "HomePlanet       288\n",
       "Destination      274\n",
       "Age              270\n",
       "RoomService      263\n",
       "CryoSleep          0\n",
       "VIP                0\n",
       "FoodCourt          0\n",
       "ShoppingMall       0\n",
       "Spa                0\n",
       "VRDeck             0\n",
       "dtype: int64"
      ]
     },
     "execution_count": 89,
     "metadata": {},
     "output_type": "execute_result"
    }
   ],
   "source": [
    "tf_df[['VIP', 'CryoSleep', 'FoodCourt', 'ShoppingMall', 'Spa', 'VRDeck']] = tf_df[['VIP', 'CryoSleep', 'FoodCourt', 'ShoppingMall', 'Spa', 'VRDeck']].fillna(value=0)\n",
    "tf_df.isnull().sum().sort_values(ascending=False)"
   ]
  },
  {
   "cell_type": "code",
   "execution_count": 90,
   "id": "49180a26",
   "metadata": {
    "execution": {
     "iopub.execute_input": "2024-07-23T11:39:37.014743Z",
     "iopub.status.busy": "2024-07-23T11:39:37.014350Z",
     "iopub.status.idle": "2024-07-23T11:39:37.036452Z",
     "shell.execute_reply": "2024-07-23T11:39:37.035381Z"
    },
    "papermill": {
     "duration": 0.090911,
     "end_time": "2024-07-23T11:39:37.039207",
     "exception": false,
     "start_time": "2024-07-23T11:39:36.948296",
     "status": "completed"
    },
    "tags": []
   },
   "outputs": [
    {
     "data": {
      "text/html": [
       "<div>\n",
       "<style scoped>\n",
       "    .dataframe tbody tr th:only-of-type {\n",
       "        vertical-align: middle;\n",
       "    }\n",
       "\n",
       "    .dataframe tbody tr th {\n",
       "        vertical-align: top;\n",
       "    }\n",
       "\n",
       "    .dataframe thead th {\n",
       "        text-align: right;\n",
       "    }\n",
       "</style>\n",
       "<table border=\"1\" class=\"dataframe\">\n",
       "  <thead>\n",
       "    <tr style=\"text-align: right;\">\n",
       "      <th></th>\n",
       "      <th>HomePlanet</th>\n",
       "      <th>CryoSleep</th>\n",
       "      <th>Cabin</th>\n",
       "      <th>Destination</th>\n",
       "      <th>Age</th>\n",
       "      <th>VIP</th>\n",
       "      <th>RoomService</th>\n",
       "      <th>FoodCourt</th>\n",
       "      <th>ShoppingMall</th>\n",
       "      <th>Spa</th>\n",
       "      <th>VRDeck</th>\n",
       "      <th>Transported</th>\n",
       "    </tr>\n",
       "  </thead>\n",
       "  <tbody>\n",
       "    <tr>\n",
       "      <th>0</th>\n",
       "      <td>Europa</td>\n",
       "      <td>0</td>\n",
       "      <td>B/0/P</td>\n",
       "      <td>TRAPPIST-1e</td>\n",
       "      <td>39.0</td>\n",
       "      <td>0</td>\n",
       "      <td>0.0</td>\n",
       "      <td>0.0</td>\n",
       "      <td>0.0</td>\n",
       "      <td>0.0</td>\n",
       "      <td>0.0</td>\n",
       "      <td>False</td>\n",
       "    </tr>\n",
       "    <tr>\n",
       "      <th>1</th>\n",
       "      <td>Earth</td>\n",
       "      <td>0</td>\n",
       "      <td>F/0/S</td>\n",
       "      <td>TRAPPIST-1e</td>\n",
       "      <td>24.0</td>\n",
       "      <td>0</td>\n",
       "      <td>109.0</td>\n",
       "      <td>9.0</td>\n",
       "      <td>25.0</td>\n",
       "      <td>549.0</td>\n",
       "      <td>44.0</td>\n",
       "      <td>True</td>\n",
       "    </tr>\n",
       "  </tbody>\n",
       "</table>\n",
       "</div>"
      ],
      "text/plain": [
       "  HomePlanet  CryoSleep  Cabin  Destination   Age  VIP  RoomService  \\\n",
       "0     Europa          0  B/0/P  TRAPPIST-1e  39.0    0          0.0   \n",
       "1      Earth          0  F/0/S  TRAPPIST-1e  24.0    0        109.0   \n",
       "\n",
       "   FoodCourt  ShoppingMall    Spa  VRDeck Transported  \n",
       "0        0.0           0.0    0.0     0.0       False  \n",
       "1        9.0          25.0  549.0    44.0        True  "
      ]
     },
     "execution_count": 90,
     "metadata": {},
     "output_type": "execute_result"
    }
   ],
   "source": [
    "tf_df['VIP'] = tf_df['VIP'].astype(int)\n",
    "tf_df['CryoSleep'] = tf_df['CryoSleep'].astype(int)\n",
    "tf_df.head(2)"
   ]
  },
  {
   "cell_type": "code",
   "execution_count": 91,
   "id": "1b9e55cc",
   "metadata": {
    "execution": {
     "iopub.execute_input": "2024-07-23T11:39:37.166031Z",
     "iopub.status.busy": "2024-07-23T11:39:37.165617Z",
     "iopub.status.idle": "2024-07-23T11:39:37.199605Z",
     "shell.execute_reply": "2024-07-23T11:39:37.198279Z"
    },
    "papermill": {
     "duration": 0.10159,
     "end_time": "2024-07-23T11:39:37.202189",
     "exception": false,
     "start_time": "2024-07-23T11:39:37.100599",
     "status": "completed"
    },
    "tags": []
   },
   "outputs": [],
   "source": [
    "tf_df[['cabin_deck','cabin_num','cabin_side']]=tf_df['Cabin'].str.split('/',expand=True)"
   ]
  },
  {
   "cell_type": "code",
   "execution_count": 92,
   "id": "bbe9ff52",
   "metadata": {
    "execution": {
     "iopub.execute_input": "2024-07-23T11:39:37.326490Z",
     "iopub.status.busy": "2024-07-23T11:39:37.326068Z",
     "iopub.status.idle": "2024-07-23T11:39:37.349317Z",
     "shell.execute_reply": "2024-07-23T11:39:37.348100Z"
    },
    "papermill": {
     "duration": 0.088477,
     "end_time": "2024-07-23T11:39:37.351998",
     "exception": false,
     "start_time": "2024-07-23T11:39:37.263521",
     "status": "completed"
    },
    "tags": []
   },
   "outputs": [
    {
     "data": {
      "text/html": [
       "<div>\n",
       "<style scoped>\n",
       "    .dataframe tbody tr th:only-of-type {\n",
       "        vertical-align: middle;\n",
       "    }\n",
       "\n",
       "    .dataframe tbody tr th {\n",
       "        vertical-align: top;\n",
       "    }\n",
       "\n",
       "    .dataframe thead th {\n",
       "        text-align: right;\n",
       "    }\n",
       "</style>\n",
       "<table border=\"1\" class=\"dataframe\">\n",
       "  <thead>\n",
       "    <tr style=\"text-align: right;\">\n",
       "      <th></th>\n",
       "      <th>HomePlanet</th>\n",
       "      <th>CryoSleep</th>\n",
       "      <th>Destination</th>\n",
       "      <th>Age</th>\n",
       "      <th>VIP</th>\n",
       "      <th>RoomService</th>\n",
       "      <th>FoodCourt</th>\n",
       "      <th>ShoppingMall</th>\n",
       "      <th>Spa</th>\n",
       "      <th>VRDeck</th>\n",
       "      <th>Transported</th>\n",
       "      <th>cabin_deck</th>\n",
       "      <th>cabin_num</th>\n",
       "      <th>cabin_side</th>\n",
       "    </tr>\n",
       "  </thead>\n",
       "  <tbody>\n",
       "    <tr>\n",
       "      <th>0</th>\n",
       "      <td>Europa</td>\n",
       "      <td>0</td>\n",
       "      <td>TRAPPIST-1e</td>\n",
       "      <td>39.0</td>\n",
       "      <td>0</td>\n",
       "      <td>0.0</td>\n",
       "      <td>0.0</td>\n",
       "      <td>0.0</td>\n",
       "      <td>0.0</td>\n",
       "      <td>0.0</td>\n",
       "      <td>False</td>\n",
       "      <td>B</td>\n",
       "      <td>0</td>\n",
       "      <td>P</td>\n",
       "    </tr>\n",
       "    <tr>\n",
       "      <th>1</th>\n",
       "      <td>Earth</td>\n",
       "      <td>0</td>\n",
       "      <td>TRAPPIST-1e</td>\n",
       "      <td>24.0</td>\n",
       "      <td>0</td>\n",
       "      <td>109.0</td>\n",
       "      <td>9.0</td>\n",
       "      <td>25.0</td>\n",
       "      <td>549.0</td>\n",
       "      <td>44.0</td>\n",
       "      <td>True</td>\n",
       "      <td>F</td>\n",
       "      <td>0</td>\n",
       "      <td>S</td>\n",
       "    </tr>\n",
       "  </tbody>\n",
       "</table>\n",
       "</div>"
      ],
      "text/plain": [
       "  HomePlanet  CryoSleep  Destination   Age  VIP  RoomService  FoodCourt  \\\n",
       "0     Europa          0  TRAPPIST-1e  39.0    0          0.0        0.0   \n",
       "1      Earth          0  TRAPPIST-1e  24.0    0        109.0        9.0   \n",
       "\n",
       "   ShoppingMall    Spa  VRDeck Transported cabin_deck cabin_num cabin_side  \n",
       "0           0.0    0.0     0.0       False          B         0          P  \n",
       "1          25.0  549.0    44.0        True          F         0          S  "
      ]
     },
     "execution_count": 92,
     "metadata": {},
     "output_type": "execute_result"
    }
   ],
   "source": [
    "tf_df=tf_df.drop('Cabin',axis=1)\n",
    "tf_df.head(2)"
   ]
  },
  {
   "cell_type": "code",
   "execution_count": 93,
   "id": "8d89d98b",
   "metadata": {
    "execution": {
     "iopub.execute_input": "2024-07-23T11:39:37.480933Z",
     "iopub.status.busy": "2024-07-23T11:39:37.480481Z",
     "iopub.status.idle": "2024-07-23T11:39:37.495513Z",
     "shell.execute_reply": "2024-07-23T11:39:37.494261Z"
    },
    "papermill": {
     "duration": 0.081634,
     "end_time": "2024-07-23T11:39:37.498560",
     "exception": false,
     "start_time": "2024-07-23T11:39:37.416926",
     "status": "completed"
    },
    "tags": []
   },
   "outputs": [
    {
     "name": "stdout",
     "output_type": "stream",
     "text": [
      "final_train :  (8693, 14) \n",
      "final_test : (4277, 14)\n"
     ]
    }
   ],
   "source": [
    "tr=tf_df[tf_df['Transported'].notnull()]\n",
    "te=tf_df[tf_df['Transported'].isnull()]\n",
    "print('final_train : ',tr.shape,'\\nfinal_test :',te.shape)"
   ]
  },
  {
   "cell_type": "code",
   "execution_count": 94,
   "id": "0b0fcebb",
   "metadata": {
    "execution": {
     "iopub.execute_input": "2024-07-23T11:39:37.624708Z",
     "iopub.status.busy": "2024-07-23T11:39:37.623737Z",
     "iopub.status.idle": "2024-07-23T11:39:37.644522Z",
     "shell.execute_reply": "2024-07-23T11:39:37.643080Z"
    },
    "papermill": {
     "duration": 0.087197,
     "end_time": "2024-07-23T11:39:37.647404",
     "exception": false,
     "start_time": "2024-07-23T11:39:37.560207",
     "status": "completed"
    },
    "tags": []
   },
   "outputs": [
    {
     "data": {
      "text/plain": [
       "HomePlanet       288\n",
       "CryoSleep          0\n",
       "Destination      274\n",
       "Age              270\n",
       "VIP                0\n",
       "RoomService      263\n",
       "FoodCourt          0\n",
       "ShoppingMall       0\n",
       "Spa                0\n",
       "VRDeck             0\n",
       "Transported     4277\n",
       "cabin_deck       299\n",
       "cabin_num        299\n",
       "cabin_side       299\n",
       "dtype: int64"
      ]
     },
     "execution_count": 94,
     "metadata": {},
     "output_type": "execute_result"
    }
   ],
   "source": [
    "tf_df.isna().sum()"
   ]
  },
  {
   "cell_type": "code",
   "execution_count": 95,
   "id": "ef6afdc8",
   "metadata": {
    "execution": {
     "iopub.execute_input": "2024-07-23T11:39:37.775267Z",
     "iopub.status.busy": "2024-07-23T11:39:37.774754Z",
     "iopub.status.idle": "2024-07-23T11:39:37.796785Z",
     "shell.execute_reply": "2024-07-23T11:39:37.795632Z"
    },
    "papermill": {
     "duration": 0.09008,
     "end_time": "2024-07-23T11:39:37.799607",
     "exception": false,
     "start_time": "2024-07-23T11:39:37.709527",
     "status": "completed"
    },
    "tags": []
   },
   "outputs": [
    {
     "data": {
      "text/html": [
       "<div>\n",
       "<style scoped>\n",
       "    .dataframe tbody tr th:only-of-type {\n",
       "        vertical-align: middle;\n",
       "    }\n",
       "\n",
       "    .dataframe tbody tr th {\n",
       "        vertical-align: top;\n",
       "    }\n",
       "\n",
       "    .dataframe thead th {\n",
       "        text-align: right;\n",
       "    }\n",
       "</style>\n",
       "<table border=\"1\" class=\"dataframe\">\n",
       "  <thead>\n",
       "    <tr style=\"text-align: right;\">\n",
       "      <th></th>\n",
       "      <th>HomePlanet</th>\n",
       "      <th>CryoSleep</th>\n",
       "      <th>Destination</th>\n",
       "      <th>Age</th>\n",
       "      <th>VIP</th>\n",
       "      <th>RoomService</th>\n",
       "      <th>FoodCourt</th>\n",
       "      <th>ShoppingMall</th>\n",
       "      <th>Spa</th>\n",
       "      <th>VRDeck</th>\n",
       "      <th>cabin_deck</th>\n",
       "      <th>cabin_num</th>\n",
       "      <th>cabin_side</th>\n",
       "    </tr>\n",
       "  </thead>\n",
       "  <tbody>\n",
       "    <tr>\n",
       "      <th>8693</th>\n",
       "      <td>Earth</td>\n",
       "      <td>1</td>\n",
       "      <td>TRAPPIST-1e</td>\n",
       "      <td>27.0</td>\n",
       "      <td>0</td>\n",
       "      <td>0.0</td>\n",
       "      <td>0.0</td>\n",
       "      <td>0.0</td>\n",
       "      <td>0.0</td>\n",
       "      <td>0.0</td>\n",
       "      <td>G</td>\n",
       "      <td>3</td>\n",
       "      <td>S</td>\n",
       "    </tr>\n",
       "    <tr>\n",
       "      <th>8694</th>\n",
       "      <td>Earth</td>\n",
       "      <td>0</td>\n",
       "      <td>TRAPPIST-1e</td>\n",
       "      <td>19.0</td>\n",
       "      <td>0</td>\n",
       "      <td>0.0</td>\n",
       "      <td>9.0</td>\n",
       "      <td>0.0</td>\n",
       "      <td>2823.0</td>\n",
       "      <td>0.0</td>\n",
       "      <td>F</td>\n",
       "      <td>4</td>\n",
       "      <td>S</td>\n",
       "    </tr>\n",
       "  </tbody>\n",
       "</table>\n",
       "</div>"
      ],
      "text/plain": [
       "     HomePlanet  CryoSleep  Destination   Age  VIP  RoomService  FoodCourt  \\\n",
       "8693      Earth          1  TRAPPIST-1e  27.0    0          0.0        0.0   \n",
       "8694      Earth          0  TRAPPIST-1e  19.0    0          0.0        9.0   \n",
       "\n",
       "      ShoppingMall     Spa  VRDeck cabin_deck cabin_num cabin_side  \n",
       "8693           0.0     0.0     0.0          G         3          S  \n",
       "8694           0.0  2823.0     0.0          F         4          S  "
      ]
     },
     "execution_count": 95,
     "metadata": {},
     "output_type": "execute_result"
    }
   ],
   "source": [
    "te=te.drop('Transported',axis=1)\n",
    "te.head(2)"
   ]
  },
  {
   "cell_type": "code",
   "execution_count": 96,
   "id": "8f1afefc",
   "metadata": {
    "execution": {
     "iopub.execute_input": "2024-07-23T11:39:37.930308Z",
     "iopub.status.busy": "2024-07-23T11:39:37.929000Z",
     "iopub.status.idle": "2024-07-23T11:39:37.953487Z",
     "shell.execute_reply": "2024-07-23T11:39:37.952044Z"
    },
    "papermill": {
     "duration": 0.09531,
     "end_time": "2024-07-23T11:39:37.956785",
     "exception": false,
     "start_time": "2024-07-23T11:39:37.861475",
     "status": "completed"
    },
    "tags": []
   },
   "outputs": [
    {
     "data": {
      "text/html": [
       "<div>\n",
       "<style scoped>\n",
       "    .dataframe tbody tr th:only-of-type {\n",
       "        vertical-align: middle;\n",
       "    }\n",
       "\n",
       "    .dataframe tbody tr th {\n",
       "        vertical-align: top;\n",
       "    }\n",
       "\n",
       "    .dataframe thead th {\n",
       "        text-align: right;\n",
       "    }\n",
       "</style>\n",
       "<table border=\"1\" class=\"dataframe\">\n",
       "  <thead>\n",
       "    <tr style=\"text-align: right;\">\n",
       "      <th></th>\n",
       "      <th>HomePlanet</th>\n",
       "      <th>CryoSleep</th>\n",
       "      <th>Destination</th>\n",
       "      <th>Age</th>\n",
       "      <th>VIP</th>\n",
       "      <th>RoomService</th>\n",
       "      <th>FoodCourt</th>\n",
       "      <th>ShoppingMall</th>\n",
       "      <th>Spa</th>\n",
       "      <th>VRDeck</th>\n",
       "      <th>Transported</th>\n",
       "      <th>cabin_deck</th>\n",
       "      <th>cabin_num</th>\n",
       "      <th>cabin_side</th>\n",
       "    </tr>\n",
       "  </thead>\n",
       "  <tbody>\n",
       "    <tr>\n",
       "      <th>0</th>\n",
       "      <td>Europa</td>\n",
       "      <td>0</td>\n",
       "      <td>TRAPPIST-1e</td>\n",
       "      <td>39.0</td>\n",
       "      <td>0</td>\n",
       "      <td>0.0</td>\n",
       "      <td>0.0</td>\n",
       "      <td>0.0</td>\n",
       "      <td>0.0</td>\n",
       "      <td>0.0</td>\n",
       "      <td>0</td>\n",
       "      <td>B</td>\n",
       "      <td>0</td>\n",
       "      <td>P</td>\n",
       "    </tr>\n",
       "    <tr>\n",
       "      <th>1</th>\n",
       "      <td>Earth</td>\n",
       "      <td>0</td>\n",
       "      <td>TRAPPIST-1e</td>\n",
       "      <td>24.0</td>\n",
       "      <td>0</td>\n",
       "      <td>109.0</td>\n",
       "      <td>9.0</td>\n",
       "      <td>25.0</td>\n",
       "      <td>549.0</td>\n",
       "      <td>44.0</td>\n",
       "      <td>1</td>\n",
       "      <td>F</td>\n",
       "      <td>0</td>\n",
       "      <td>S</td>\n",
       "    </tr>\n",
       "  </tbody>\n",
       "</table>\n",
       "</div>"
      ],
      "text/plain": [
       "  HomePlanet  CryoSleep  Destination   Age  VIP  RoomService  FoodCourt  \\\n",
       "0     Europa          0  TRAPPIST-1e  39.0    0          0.0        0.0   \n",
       "1      Earth          0  TRAPPIST-1e  24.0    0        109.0        9.0   \n",
       "\n",
       "   ShoppingMall    Spa  VRDeck  Transported cabin_deck cabin_num cabin_side  \n",
       "0           0.0    0.0     0.0            0          B         0          P  \n",
       "1          25.0  549.0    44.0            1          F         0          S  "
      ]
     },
     "execution_count": 96,
     "metadata": {},
     "output_type": "execute_result"
    }
   ],
   "source": [
    "tr['Transported']=tr['Transported'].astype(int)\n",
    "tr.head(2)"
   ]
  },
  {
   "cell_type": "code",
   "execution_count": 97,
   "id": "a24e3420",
   "metadata": {
    "execution": {
     "iopub.execute_input": "2024-07-23T11:39:38.083790Z",
     "iopub.status.busy": "2024-07-23T11:39:38.083299Z",
     "iopub.status.idle": "2024-07-23T11:39:38.095451Z",
     "shell.execute_reply": "2024-07-23T11:39:38.094048Z"
    },
    "papermill": {
     "duration": 0.07893,
     "end_time": "2024-07-23T11:39:38.098113",
     "exception": false,
     "start_time": "2024-07-23T11:39:38.019183",
     "status": "completed"
    },
    "tags": []
   },
   "outputs": [
    {
     "name": "stdout",
     "output_type": "stream",
     "text": [
      "6981 examples in training, 1712 examples in testing.\n"
     ]
    }
   ],
   "source": [
    "def split_dataset(tr, test_ratio=0.20):\n",
    "  test_indices = np.random.rand(len(tr)) < test_ratio\n",
    "  return tr[~test_indices], tr[test_indices]\n",
    "\n",
    "train_ds_pd, valid_ds_pd = split_dataset(tr)\n",
    "print(\"{} examples in training, {} examples in testing.\".format(\n",
    "    len(train_ds_pd), len(valid_ds_pd)))"
   ]
  },
  {
   "cell_type": "code",
   "execution_count": 98,
   "id": "60d56aa0",
   "metadata": {
    "execution": {
     "iopub.execute_input": "2024-07-23T11:39:38.229038Z",
     "iopub.status.busy": "2024-07-23T11:39:38.228604Z",
     "iopub.status.idle": "2024-07-23T11:39:38.355249Z",
     "shell.execute_reply": "2024-07-23T11:39:38.353719Z"
    },
    "papermill": {
     "duration": 0.196258,
     "end_time": "2024-07-23T11:39:38.358823",
     "exception": false,
     "start_time": "2024-07-23T11:39:38.162565",
     "status": "completed"
    },
    "tags": []
   },
   "outputs": [],
   "source": [
    "label='Transported'\n",
    "train_ds = tfdf.keras.pd_dataframe_to_tf_dataset(train_ds_pd, label=label)\n",
    "valid_ds = tfdf.keras.pd_dataframe_to_tf_dataset(valid_ds_pd, label=label)\n"
   ]
  },
  {
   "cell_type": "code",
   "execution_count": 99,
   "id": "7c5bb831",
   "metadata": {
    "execution": {
     "iopub.execute_input": "2024-07-23T11:39:38.493084Z",
     "iopub.status.busy": "2024-07-23T11:39:38.492647Z",
     "iopub.status.idle": "2024-07-23T11:39:38.500771Z",
     "shell.execute_reply": "2024-07-23T11:39:38.499500Z"
    },
    "papermill": {
     "duration": 0.077859,
     "end_time": "2024-07-23T11:39:38.503719",
     "exception": false,
     "start_time": "2024-07-23T11:39:38.425860",
     "status": "completed"
    },
    "tags": []
   },
   "outputs": [
    {
     "data": {
      "text/plain": [
       "[tensorflow_decision_forests.keras.RandomForestModel,\n",
       " tensorflow_decision_forests.keras.GradientBoostedTreesModel,\n",
       " tensorflow_decision_forests.keras.CartModel,\n",
       " tensorflow_decision_forests.keras.DistributedGradientBoostedTreesModel]"
      ]
     },
     "execution_count": 99,
     "metadata": {},
     "output_type": "execute_result"
    }
   ],
   "source": [
    "tfdf.keras.get_all_models()"
   ]
  },
  {
   "cell_type": "code",
   "execution_count": 100,
   "id": "3bc6833a",
   "metadata": {
    "execution": {
     "iopub.execute_input": "2024-07-23T11:39:38.671341Z",
     "iopub.status.busy": "2024-07-23T11:39:38.670861Z",
     "iopub.status.idle": "2024-07-23T11:39:38.742246Z",
     "shell.execute_reply": "2024-07-23T11:39:38.741051Z"
    },
    "papermill": {
     "duration": 0.168563,
     "end_time": "2024-07-23T11:39:38.745136",
     "exception": false,
     "start_time": "2024-07-23T11:39:38.576573",
     "status": "completed"
    },
    "tags": []
   },
   "outputs": [
    {
     "name": "stdout",
     "output_type": "stream",
     "text": [
      "Use /tmp/tmp3b26_d3d as temporary training directory\n"
     ]
    }
   ],
   "source": [
    "rf = tfdf.keras.RandomForestModel()\n",
    "rf.compile(metrics=[\"accuracy\"])"
   ]
  },
  {
   "cell_type": "code",
   "execution_count": 101,
   "id": "98f1766a",
   "metadata": {
    "execution": {
     "iopub.execute_input": "2024-07-23T11:39:38.882443Z",
     "iopub.status.busy": "2024-07-23T11:39:38.880717Z",
     "iopub.status.idle": "2024-07-23T11:42:08.333627Z",
     "shell.execute_reply": "2024-07-23T11:42:08.332317Z"
    },
    "papermill": {
     "duration": 149.527368,
     "end_time": "2024-07-23T11:42:08.336885",
     "exception": false,
     "start_time": "2024-07-23T11:39:38.809517",
     "status": "completed"
    },
    "tags": []
   },
   "outputs": [
    {
     "name": "stdout",
     "output_type": "stream",
     "text": [
      "Reading training dataset...\n",
      "Training dataset read in 0:00:07.580724. Found 6981 examples.\n",
      "Training model...\n"
     ]
    },
    {
     "name": "stderr",
     "output_type": "stream",
     "text": [
      "[INFO 24-07-23 11:41:54.1853 UTC kernel.cc:1233] Loading model from path /tmp/tmp3b26_d3d/model/ with prefix 7bc63eb23414473a\n"
     ]
    },
    {
     "name": "stdout",
     "output_type": "stream",
     "text": [
      "Model trained in 0:02:09.052220\n",
      "Compiling model...\n"
     ]
    },
    {
     "name": "stderr",
     "output_type": "stream",
     "text": [
      "[INFO 24-07-23 11:41:55.4285 UTC decision_forest.cc:660] Model loaded with 300 root(s), 234620 node(s), and 13 input feature(s).\n",
      "[INFO 24-07-23 11:41:55.4286 UTC abstract_model.cc:1344] Engine \"RandomForestGeneric\" built\n",
      "[INFO 24-07-23 11:41:55.4286 UTC kernel.cc:1061] Use fast generic engine\n"
     ]
    },
    {
     "name": "stdout",
     "output_type": "stream",
     "text": [
      "Model compiled.\n"
     ]
    },
    {
     "data": {
      "text/plain": [
       "<tf_keras.src.callbacks.History at 0x7cf0d3800a60>"
      ]
     },
     "execution_count": 101,
     "metadata": {},
     "output_type": "execute_result"
    }
   ],
   "source": [
    "rf.fit(x=train_ds)"
   ]
  },
  {
   "cell_type": "code",
   "execution_count": 102,
   "id": "fc750dc1",
   "metadata": {
    "execution": {
     "iopub.execute_input": "2024-07-23T11:42:08.469499Z",
     "iopub.status.busy": "2024-07-23T11:42:08.468146Z",
     "iopub.status.idle": "2024-07-23T11:42:16.590758Z",
     "shell.execute_reply": "2024-07-23T11:42:16.589283Z"
    },
    "papermill": {
     "duration": 8.190854,
     "end_time": "2024-07-23T11:42:16.593538",
     "exception": false,
     "start_time": "2024-07-23T11:42:08.402684",
     "status": "completed"
    },
    "tags": []
   },
   "outputs": [
    {
     "name": "stdout",
     "output_type": "stream",
     "text": [
      "2/2 [==============================] - 8s 74ms/step - loss: 0.0000e+00 - accuracy: 0.7897\n",
      "loss: 0.0000\n",
      "accuracy: 0.7897\n"
     ]
    }
   ],
   "source": [
    "inspector = rf.make_inspector()\n",
    "inspector.evaluation()\n",
    "evaluation = rf.evaluate(x=valid_ds,return_dict=True)\n",
    "\n",
    "for name, value in evaluation.items():\n",
    "  print(f\"{name}: {value:.4f}\")"
   ]
  },
  {
   "cell_type": "code",
   "execution_count": 103,
   "id": "feeb9428",
   "metadata": {
    "execution": {
     "iopub.execute_input": "2024-07-23T11:42:16.723390Z",
     "iopub.status.busy": "2024-07-23T11:42:16.722906Z",
     "iopub.status.idle": "2024-07-23T11:42:16.731618Z",
     "shell.execute_reply": "2024-07-23T11:42:16.730409Z"
    },
    "papermill": {
     "duration": 0.076352,
     "end_time": "2024-07-23T11:42:16.734145",
     "exception": false,
     "start_time": "2024-07-23T11:42:16.657793",
     "status": "completed"
    },
    "tags": []
   },
   "outputs": [
    {
     "data": {
      "text/plain": [
       "[(\"CryoSleep\" (1; #1), 127.0),\n",
       " (\"RoomService\" (1; #5), 63.0),\n",
       " (\"Spa\" (1; #7), 52.0),\n",
       " (\"VRDeck\" (1; #9), 32.0),\n",
       " (\"ShoppingMall\" (1; #6), 12.0),\n",
       " (\"FoodCourt\" (1; #3), 9.0),\n",
       " (\"cabin_deck\" (4; #11), 5.0)]"
      ]
     },
     "execution_count": 103,
     "metadata": {},
     "output_type": "execute_result"
    }
   ],
   "source": [
    "inspector.variable_importances()[\"NUM_AS_ROOT\"]"
   ]
  },
  {
   "cell_type": "code",
   "execution_count": 104,
   "id": "d6346aa1",
   "metadata": {
    "execution": {
     "iopub.execute_input": "2024-07-23T11:42:16.866420Z",
     "iopub.status.busy": "2024-07-23T11:42:16.865109Z",
     "iopub.status.idle": "2024-07-23T11:42:17.618521Z",
     "shell.execute_reply": "2024-07-23T11:42:17.617278Z"
    },
    "papermill": {
     "duration": 0.822478,
     "end_time": "2024-07-23T11:42:17.621243",
     "exception": false,
     "start_time": "2024-07-23T11:42:16.798765",
     "status": "completed"
    },
    "tags": []
   },
   "outputs": [
    {
     "name": "stdout",
     "output_type": "stream",
     "text": [
      "5/5 [==============================] - 0s 79ms/step\n"
     ]
    },
    {
     "data": {
      "text/plain": [
       "array([[ True],\n",
       "       [False],\n",
       "       [ True],\n",
       "       ...,\n",
       "       [ True],\n",
       "       [ True],\n",
       "       [ True]])"
      ]
     },
     "execution_count": 104,
     "metadata": {},
     "output_type": "execute_result"
    }
   ],
   "source": [
    "test_ds = tfdf.keras.pd_dataframe_to_tf_dataset(te)\n",
    "\n",
    "# Get the predictions for testdata\n",
    "predictions = rf.predict(test_ds)\n",
    "n_predict = (predictions > 0.5).astype(bool)\n",
    "n_predict"
   ]
  },
  {
   "cell_type": "code",
   "execution_count": 105,
   "id": "91fbee99",
   "metadata": {
    "execution": {
     "iopub.execute_input": "2024-07-23T11:42:17.754599Z",
     "iopub.status.busy": "2024-07-23T11:42:17.753332Z",
     "iopub.status.idle": "2024-07-23T11:42:17.767228Z",
     "shell.execute_reply": "2024-07-23T11:42:17.765950Z"
    },
    "papermill": {
     "duration": 0.083389,
     "end_time": "2024-07-23T11:42:17.769778",
     "exception": false,
     "start_time": "2024-07-23T11:42:17.686389",
     "status": "completed"
    },
    "tags": []
   },
   "outputs": [
    {
     "data": {
      "text/html": [
       "<div>\n",
       "<style scoped>\n",
       "    .dataframe tbody tr th:only-of-type {\n",
       "        vertical-align: middle;\n",
       "    }\n",
       "\n",
       "    .dataframe tbody tr th {\n",
       "        vertical-align: top;\n",
       "    }\n",
       "\n",
       "    .dataframe thead th {\n",
       "        text-align: right;\n",
       "    }\n",
       "</style>\n",
       "<table border=\"1\" class=\"dataframe\">\n",
       "  <thead>\n",
       "    <tr style=\"text-align: right;\">\n",
       "      <th></th>\n",
       "      <th>PassengerId</th>\n",
       "      <th>Transported</th>\n",
       "    </tr>\n",
       "  </thead>\n",
       "  <tbody>\n",
       "    <tr>\n",
       "      <th>0</th>\n",
       "      <td>0013_01</td>\n",
       "      <td>True</td>\n",
       "    </tr>\n",
       "    <tr>\n",
       "      <th>1</th>\n",
       "      <td>0018_01</td>\n",
       "      <td>False</td>\n",
       "    </tr>\n",
       "    <tr>\n",
       "      <th>2</th>\n",
       "      <td>0019_01</td>\n",
       "      <td>True</td>\n",
       "    </tr>\n",
       "    <tr>\n",
       "      <th>3</th>\n",
       "      <td>0021_01</td>\n",
       "      <td>True</td>\n",
       "    </tr>\n",
       "    <tr>\n",
       "      <th>4</th>\n",
       "      <td>0023_01</td>\n",
       "      <td>False</td>\n",
       "    </tr>\n",
       "  </tbody>\n",
       "</table>\n",
       "</div>"
      ],
      "text/plain": [
       "  PassengerId  Transported\n",
       "0     0013_01         True\n",
       "1     0018_01        False\n",
       "2     0019_01         True\n",
       "3     0021_01         True\n",
       "4     0023_01        False"
      ]
     },
     "execution_count": 105,
     "metadata": {},
     "output_type": "execute_result"
    }
   ],
   "source": [
    "submission_id = test.PassengerId\n",
    "output = pd.DataFrame({'PassengerId': submission_id,\n",
    "                       'Transported': n_predict.squeeze()})\n",
    "\n",
    "output.head()"
   ]
  },
  {
   "cell_type": "code",
   "execution_count": 106,
   "id": "607c4fec",
   "metadata": {
    "execution": {
     "iopub.execute_input": "2024-07-23T11:42:17.901357Z",
     "iopub.status.busy": "2024-07-23T11:42:17.900906Z",
     "iopub.status.idle": "2024-07-23T11:42:17.915817Z",
     "shell.execute_reply": "2024-07-23T11:42:17.914666Z"
    },
    "papermill": {
     "duration": 0.084195,
     "end_time": "2024-07-23T11:42:17.918594",
     "exception": false,
     "start_time": "2024-07-23T11:42:17.834399",
     "status": "completed"
    },
    "tags": []
   },
   "outputs": [],
   "source": [
    "output.to_csv('/kaggle/working/submission.csv', index=False) #Score: 0.78957"
   ]
  },
  {
   "cell_type": "code",
   "execution_count": null,
   "id": "fa793d1c",
   "metadata": {
    "papermill": {
     "duration": 0.069933,
     "end_time": "2024-07-23T11:42:18.054323",
     "exception": false,
     "start_time": "2024-07-23T11:42:17.984390",
     "status": "completed"
    },
    "tags": []
   },
   "outputs": [],
   "source": []
  }
 ],
 "metadata": {
  "kaggle": {
   "accelerator": "none",
   "dataSources": [
    {
     "databundleVersionId": 3220602,
     "sourceId": 34377,
     "sourceType": "competition"
    }
   ],
   "dockerImageVersionId": 30746,
   "isGpuEnabled": false,
   "isInternetEnabled": true,
   "language": "python",
   "sourceType": "notebook"
  },
  "kernelspec": {
   "display_name": "Python 3",
   "language": "python",
   "name": "python3"
  },
  "language_info": {
   "codemirror_mode": {
    "name": "ipython",
    "version": 3
   },
   "file_extension": ".py",
   "mimetype": "text/x-python",
   "name": "python",
   "nbconvert_exporter": "python",
   "pygments_lexer": "ipython3",
   "version": "3.10.13"
  },
  "papermill": {
   "default_parameters": {},
   "duration": 419.683627,
   "end_time": "2024-07-23T11:42:20.835286",
   "environment_variables": {},
   "exception": null,
   "input_path": "__notebook__.ipynb",
   "output_path": "__notebook__.ipynb",
   "parameters": {},
   "start_time": "2024-07-23T11:35:21.151659",
   "version": "2.5.0"
  }
 },
 "nbformat": 4,
 "nbformat_minor": 5
}
